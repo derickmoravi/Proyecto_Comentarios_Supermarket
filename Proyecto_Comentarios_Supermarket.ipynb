{
 "cells": [
  {
   "cell_type": "code",
   "execution_count": 1,
   "id": "6a0ec0f0",
   "metadata": {},
   "outputs": [],
   "source": [
    "import csv\n",
    "import numpy as np\n",
    "import pandas as pd\n",
    "import seaborn as sns\n",
    "\n",
    "import tensorflow as tf\n",
    "from tensorflow import keras \n",
    "from tensorflow.keras.preprocessing.text import Tokenizer\n",
    "from tensorflow.keras.preprocessing.sequence import pad_sequences\n",
    "\n",
    "from tensorflow.keras.models import Sequential\n",
    "from tensorflow.keras.layers import Input, Dense, GRU, LSTM, Embedding, Dropout, Bidirectional, Flatten\n",
    "from tensorflow.keras.layers.experimental.preprocessing import TextVectorization \n",
    " \n",
    "from tensorflow.keras import layers, initializers \n",
    "from tensorflow.keras.optimizers import SGD, Adam\n",
    "from tensorflow.keras import regularizers\n",
    "\n",
    "from keras import optimizers\n",
    "\n",
    "import re\n",
    "\n",
    "from nltk.corpus import stopwords\n",
    "from nltk.tokenize import WordPunctTokenizer\n",
    "tok = WordPunctTokenizer()\n",
    "stop_words = set(stopwords.words('spanish'))\n",
    "\n",
    "%matplotlib inline "
   ]
  },
  {
   "cell_type": "code",
   "execution_count": 2,
   "id": "44ae2c55",
   "metadata": {},
   "outputs": [],
   "source": [
    "from sklearn.model_selection import train_test_split\n",
    "from sklearn.preprocessing import MinMaxScaler\n",
    "import sklearn.metrics as metrics\n",
    "\n",
    "from sklearn.metrics import mean_squared_error\n",
    "from sklearn.metrics import mean_absolute_error\n",
    "\n",
    "from sklearn.datasets import make_regression\n",
    "from sklearn.linear_model import LinearRegression\n",
    "from sklearn.ensemble import GradientBoostingRegressor\n",
    "from sklearn.ensemble import RandomForestRegressor"
   ]
  },
  {
   "cell_type": "code",
   "execution_count": 3,
   "id": "e2e02fd8",
   "metadata": {},
   "outputs": [],
   "source": [
    "import gensim\n",
    "import gensim.downloader as api\n",
    "from gensim.models import KeyedVectors"
   ]
  },
  {
   "cell_type": "code",
   "execution_count": 4,
   "id": "f20f91aa",
   "metadata": {},
   "outputs": [],
   "source": [
    "import matplotlib.pyplot as plt\n",
    "\n",
    "def plot_graphs(history, string):\n",
    "    plt.plot(history.history[string])\n",
    "    plt.plot(history.history['val_'+string])\n",
    "    plt.xlabel(\"Epochs\")\n",
    "    plt.ylabel(string)\n",
    "    plt.legend([string, 'val_'+string])\n",
    "    plt.show() "
   ]
  },
  {
   "cell_type": "code",
   "execution_count": 5,
   "id": "8b460a82",
   "metadata": {},
   "outputs": [
    {
     "name": "stdout",
     "output_type": "stream",
     "text": [
      "(30269, 7)\n"
     ]
    },
    {
     "data": {
      "text/html": [
       "<div>\n",
       "<style scoped>\n",
       "    .dataframe tbody tr th:only-of-type {\n",
       "        vertical-align: middle;\n",
       "    }\n",
       "\n",
       "    .dataframe tbody tr th {\n",
       "        vertical-align: top;\n",
       "    }\n",
       "\n",
       "    .dataframe thead th {\n",
       "        text-align: right;\n",
       "    }\n",
       "</style>\n",
       "<table border=\"1\" class=\"dataframe\">\n",
       "  <thead>\n",
       "    <tr style=\"text-align: right;\">\n",
       "      <th></th>\n",
       "      <th>Comentarios</th>\n",
       "      <th>Experiencia en Cajas</th>\n",
       "      <th>Amabilidad del Personal</th>\n",
       "      <th>Calidad</th>\n",
       "      <th>Surtido</th>\n",
       "      <th>Precios</th>\n",
       "      <th>NPS</th>\n",
       "    </tr>\n",
       "  </thead>\n",
       "  <tbody>\n",
       "    <tr>\n",
       "      <th>0</th>\n",
       "      <td>Mejorar el respeto de sus empleados hacia noso...</td>\n",
       "      <td>3</td>\n",
       "      <td>3</td>\n",
       "      <td>3</td>\n",
       "      <td>3</td>\n",
       "      <td>3</td>\n",
       "      <td>4</td>\n",
       "    </tr>\n",
       "    <tr>\n",
       "      <th>1</th>\n",
       "      <td>Excelente el servicio por parte del personal, ...</td>\n",
       "      <td>5</td>\n",
       "      <td>5</td>\n",
       "      <td>4</td>\n",
       "      <td>4</td>\n",
       "      <td>3</td>\n",
       "      <td>8</td>\n",
       "    </tr>\n",
       "    <tr>\n",
       "      <th>2</th>\n",
       "      <td>en la mayoria de ocaciones el precio no coinci...</td>\n",
       "      <td>4</td>\n",
       "      <td>4</td>\n",
       "      <td>5</td>\n",
       "      <td>5</td>\n",
       "      <td>5</td>\n",
       "      <td>9</td>\n",
       "    </tr>\n",
       "    <tr>\n",
       "      <th>3</th>\n",
       "      <td>Cuando hacen ofertas se presentan muchos produ...</td>\n",
       "      <td>4</td>\n",
       "      <td>5</td>\n",
       "      <td>5</td>\n",
       "      <td>5</td>\n",
       "      <td>4</td>\n",
       "      <td>7</td>\n",
       "    </tr>\n",
       "    <tr>\n",
       "      <th>4</th>\n",
       "      <td>Ay uno productos que son mas caros que un supe...</td>\n",
       "      <td>5</td>\n",
       "      <td>5</td>\n",
       "      <td>4</td>\n",
       "      <td>5</td>\n",
       "      <td>3</td>\n",
       "      <td>10</td>\n",
       "    </tr>\n",
       "  </tbody>\n",
       "</table>\n",
       "</div>"
      ],
      "text/plain": [
       "                                         Comentarios  Experiencia en Cajas  \\\n",
       "0  Mejorar el respeto de sus empleados hacia noso...                     3   \n",
       "1  Excelente el servicio por parte del personal, ...                     5   \n",
       "2  en la mayoria de ocaciones el precio no coinci...                     4   \n",
       "3  Cuando hacen ofertas se presentan muchos produ...                     4   \n",
       "4  Ay uno productos que son mas caros que un supe...                     5   \n",
       "\n",
       "   Amabilidad del Personal  Calidad  Surtido  Precios  NPS  \n",
       "0                        3        3        3        3    4  \n",
       "1                        5        4        4        3    8  \n",
       "2                        4        5        5        5    9  \n",
       "3                        5        5        5        4    7  \n",
       "4                        5        4        5        3   10  "
      ]
     },
     "execution_count": 5,
     "metadata": {},
     "output_type": "execute_result"
    }
   ],
   "source": [
    "filename = \"/Users/derickmorales/Desktop/TFM Derick Morales Aviles/NPS.csv\"\n",
    "\n",
    "df = pd.read_csv(filename\n",
    "                 , encoding = 'utf-8'\n",
    "                 , delimiter = ','\n",
    "                 , header = 0             \n",
    "                 , index_col = False\n",
    "                 , usecols = [0, 1, 2, 3, 4, 5, 6]\n",
    "                 , names = ['Comentarios', 'Experiencia en Cajas', 'Amabilidad del Personal', 'Calidad', 'Surtido', 'Precios', 'NPS']\n",
    ")\n",
    "\n",
    "target = \"NPS\"\n",
    "print(df.shape)\n",
    "df.head() "
   ]
  },
  {
   "cell_type": "code",
   "execution_count": 6,
   "id": "495b2a6d",
   "metadata": {},
   "outputs": [
    {
     "data": {
      "text/plain": [
       "623573"
      ]
     },
     "execution_count": 6,
     "metadata": {},
     "output_type": "execute_result"
    }
   ],
   "source": [
    "#palabras totales en el dataframe en las 30,269 filas de comentarios\n",
    "df.Comentarios.str.split().str.len().sum()"
   ]
  },
  {
   "cell_type": "code",
   "execution_count": 7,
   "id": "4b6debfe",
   "metadata": {},
   "outputs": [
    {
     "data": {
      "text/html": [
       "<div>\n",
       "<style scoped>\n",
       "    .dataframe tbody tr th:only-of-type {\n",
       "        vertical-align: middle;\n",
       "    }\n",
       "\n",
       "    .dataframe tbody tr th {\n",
       "        vertical-align: top;\n",
       "    }\n",
       "\n",
       "    .dataframe thead th {\n",
       "        text-align: right;\n",
       "    }\n",
       "</style>\n",
       "<table border=\"1\" class=\"dataframe\">\n",
       "  <thead>\n",
       "    <tr style=\"text-align: right;\">\n",
       "      <th></th>\n",
       "      <th>Comentarios</th>\n",
       "      <th>Experiencia en Cajas</th>\n",
       "      <th>Amabilidad del Personal</th>\n",
       "      <th>Calidad</th>\n",
       "      <th>Surtido</th>\n",
       "      <th>Precios</th>\n",
       "      <th>NPS</th>\n",
       "      <th>Comentarios_limpios</th>\n",
       "    </tr>\n",
       "  </thead>\n",
       "  <tbody>\n",
       "    <tr>\n",
       "      <th>0</th>\n",
       "      <td>Mejorar el respeto de sus empleados hacia noso...</td>\n",
       "      <td>3</td>\n",
       "      <td>3</td>\n",
       "      <td>3</td>\n",
       "      <td>3</td>\n",
       "      <td>3</td>\n",
       "      <td>4</td>\n",
       "      <td>mejorar respeto empleados hacia clientes espec...</td>\n",
       "    </tr>\n",
       "    <tr>\n",
       "      <th>1</th>\n",
       "      <td>Excelente el servicio por parte del personal, ...</td>\n",
       "      <td>5</td>\n",
       "      <td>5</td>\n",
       "      <td>4</td>\n",
       "      <td>4</td>\n",
       "      <td>3</td>\n",
       "      <td>8</td>\n",
       "      <td>excelente servicio parte personal compre art c...</td>\n",
       "    </tr>\n",
       "    <tr>\n",
       "      <th>2</th>\n",
       "      <td>en la mayoria de ocaciones el precio no coinci...</td>\n",
       "      <td>4</td>\n",
       "      <td>4</td>\n",
       "      <td>5</td>\n",
       "      <td>5</td>\n",
       "      <td>5</td>\n",
       "      <td>9</td>\n",
       "      <td>mayoria ocaciones precio coincide producto</td>\n",
       "    </tr>\n",
       "    <tr>\n",
       "      <th>3</th>\n",
       "      <td>Cuando hacen ofertas se presentan muchos produ...</td>\n",
       "      <td>4</td>\n",
       "      <td>5</td>\n",
       "      <td>5</td>\n",
       "      <td>5</td>\n",
       "      <td>4</td>\n",
       "      <td>7</td>\n",
       "      <td>hacen ofertas presentan productos pasar caja a...</td>\n",
       "    </tr>\n",
       "    <tr>\n",
       "      <th>4</th>\n",
       "      <td>Ay uno productos que son mas caros que un supe...</td>\n",
       "      <td>5</td>\n",
       "      <td>5</td>\n",
       "      <td>4</td>\n",
       "      <td>5</td>\n",
       "      <td>3</td>\n",
       "      <td>10</td>\n",
       "      <td>ay productos mas caros super mas peque tienda</td>\n",
       "    </tr>\n",
       "  </tbody>\n",
       "</table>\n",
       "</div>"
      ],
      "text/plain": [
       "                                         Comentarios  Experiencia en Cajas  \\\n",
       "0  Mejorar el respeto de sus empleados hacia noso...                     3   \n",
       "1  Excelente el servicio por parte del personal, ...                     5   \n",
       "2  en la mayoria de ocaciones el precio no coinci...                     4   \n",
       "3  Cuando hacen ofertas se presentan muchos produ...                     4   \n",
       "4  Ay uno productos que son mas caros que un supe...                     5   \n",
       "\n",
       "   Amabilidad del Personal  Calidad  Surtido  Precios  NPS  \\\n",
       "0                        3        3        3        3    4   \n",
       "1                        5        4        4        3    8   \n",
       "2                        4        5        5        5    9   \n",
       "3                        5        5        5        4    7   \n",
       "4                        5        4        5        3   10   \n",
       "\n",
       "                                 Comentarios_limpios  \n",
       "0  mejorar respeto empleados hacia clientes espec...  \n",
       "1  excelente servicio parte personal compre art c...  \n",
       "2         mayoria ocaciones precio coincide producto  \n",
       "3  hacen ofertas presentan productos pasar caja a...  \n",
       "4      ay productos mas caros super mas peque tienda  "
      ]
     },
     "execution_count": 7,
     "metadata": {},
     "output_type": "execute_result"
    }
   ],
   "source": [
    "#Limpieza texto\n",
    "\n",
    "pat1 = r'[0-9]'  #numeros\n",
    "pat2 = '[^a-zA-Z]+' \n",
    "pat = r'|'.join((pat1, pat2))\n",
    "\n",
    "def get_clean_text(Comentarios):\n",
    "    Comentarios = Comentarios.lower() # lowercase\n",
    "    Comentarios = re.sub(pat, ' ', Comentarios) \n",
    "    Comentarios = [w for w in tok.tokenize(Comentarios) if not w in stop_words] # remove stop_words\n",
    "    Comentarios = [w for w in Comentarios if len(w)>1] \n",
    "    Comentarios = (' '.join(Comentarios)).strip() \n",
    "    return Comentarios\n",
    "\n",
    "df['Comentarios_limpios'] = [get_clean_text(t) for t in df['Comentarios']]\n",
    "df.head()"
   ]
  },
  {
   "cell_type": "code",
   "execution_count": 8,
   "id": "45fdad9e",
   "metadata": {},
   "outputs": [
    {
     "data": {
      "text/plain": [
       "316229"
      ]
     },
     "execution_count": 8,
     "metadata": {},
     "output_type": "execute_result"
    }
   ],
   "source": [
    "# 316,229 palabras totales en el dataframe luego de remover stopwords  \n",
    "df.Comentarios_limpios.str.split().str.len().sum() "
   ]
  },
  {
   "cell_type": "code",
   "execution_count": 9,
   "id": "90c4a8b3",
   "metadata": {},
   "outputs": [
    {
     "data": {
      "text/plain": [
       "8.073540586078165"
      ]
     },
     "execution_count": 9,
     "metadata": {},
     "output_type": "execute_result"
    }
   ],
   "source": [
    "#media de columna NPS \n",
    "df['NPS'].mean()  "
   ]
  },
  {
   "cell_type": "code",
   "execution_count": 10,
   "id": "e5ddad06",
   "metadata": {},
   "outputs": [],
   "source": [
    "df['avg']=df['NPS'].mean() "
   ]
  },
  {
   "cell_type": "code",
   "execution_count": 11,
   "id": "e85cda52",
   "metadata": {},
   "outputs": [
    {
     "data": {
      "text/plain": [
       "6.496028896078165"
      ]
     },
     "execution_count": 11,
     "metadata": {},
     "output_type": "execute_result"
    }
   ],
   "source": [
    "#MSE\n",
    "mean_squared_error(df['NPS'].values, df['avg']) "
   ]
  },
  {
   "cell_type": "code",
   "execution_count": 12,
   "id": "aae83e27",
   "metadata": {},
   "outputs": [
    {
     "data": {
      "text/plain": [
       "2.5487308402571984"
      ]
     },
     "execution_count": 12,
     "metadata": {},
     "output_type": "execute_result"
    }
   ],
   "source": [
    "#RMSE\n",
    "mean_squared_error(df['NPS'].values, df['avg'], squared=False) "
   ]
  },
  {
   "cell_type": "code",
   "execution_count": 13,
   "id": "63865cbe",
   "metadata": {},
   "outputs": [
    {
     "data": {
      "text/plain": [
       "1.9009496838691964"
      ]
     },
     "execution_count": 13,
     "metadata": {},
     "output_type": "execute_result"
    }
   ],
   "source": [
    "#MAE \n",
    "mean_absolute_error(df['NPS'].values, df['avg']) "
   ]
  },
  {
   "cell_type": "code",
   "execution_count": 14,
   "id": "d2a8bf55",
   "metadata": {},
   "outputs": [
    {
     "data": {
      "text/html": [
       "<div>\n",
       "<style scoped>\n",
       "    .dataframe tbody tr th:only-of-type {\n",
       "        vertical-align: middle;\n",
       "    }\n",
       "\n",
       "    .dataframe tbody tr th {\n",
       "        vertical-align: top;\n",
       "    }\n",
       "\n",
       "    .dataframe thead th {\n",
       "        text-align: right;\n",
       "    }\n",
       "</style>\n",
       "<table border=\"1\" class=\"dataframe\">\n",
       "  <thead>\n",
       "    <tr style=\"text-align: right;\">\n",
       "      <th></th>\n",
       "      <th>NPS</th>\n",
       "      <th>Comentarios_limpios</th>\n",
       "    </tr>\n",
       "  </thead>\n",
       "  <tbody>\n",
       "    <tr>\n",
       "      <th>0</th>\n",
       "      <td>4</td>\n",
       "      <td>mejorar respeto empleados hacia clientes espec...</td>\n",
       "    </tr>\n",
       "    <tr>\n",
       "      <th>1</th>\n",
       "      <td>8</td>\n",
       "      <td>excelente servicio parte personal compre art c...</td>\n",
       "    </tr>\n",
       "    <tr>\n",
       "      <th>2</th>\n",
       "      <td>9</td>\n",
       "      <td>mayoria ocaciones precio coincide producto</td>\n",
       "    </tr>\n",
       "    <tr>\n",
       "      <th>3</th>\n",
       "      <td>7</td>\n",
       "      <td>hacen ofertas presentan productos pasar caja a...</td>\n",
       "    </tr>\n",
       "    <tr>\n",
       "      <th>4</th>\n",
       "      <td>10</td>\n",
       "      <td>ay productos mas caros super mas peque tienda</td>\n",
       "    </tr>\n",
       "  </tbody>\n",
       "</table>\n",
       "</div>"
      ],
      "text/plain": [
       "   NPS                                Comentarios_limpios\n",
       "0    4  mejorar respeto empleados hacia clientes espec...\n",
       "1    8  excelente servicio parte personal compre art c...\n",
       "2    9         mayoria ocaciones precio coincide producto\n",
       "3    7  hacen ofertas presentan productos pasar caja a...\n",
       "4   10      ay productos mas caros super mas peque tienda"
      ]
     },
     "execution_count": 14,
     "metadata": {},
     "output_type": "execute_result"
    }
   ],
   "source": [
    "#dataframe, Nps = target, Comentarios_limpios = predictor\n",
    "df = df.iloc[:, [6,7]]\n",
    "\n",
    "NPS = df.iloc[:,0]\n",
    "Comentarios_limpios = df.iloc[:,1]\n",
    "\n",
    "df.head()"
   ]
  },
  {
   "cell_type": "code",
   "execution_count": 15,
   "id": "c248f579",
   "metadata": {},
   "outputs": [],
   "source": [
    "#Frecencia termino"
   ]
  },
  {
   "cell_type": "code",
   "execution_count": 16,
   "id": "c4dd1f20",
   "metadata": {},
   "outputs": [],
   "source": [
    "from collections import Counter\n",
    "\n",
    "def get_freq_str(df, sep = ',', threshold = 0, top_n = 0):\n",
    "    df = df.copy(deep=True)\n",
    "    df = df[df.notnull()]\n",
    "    \n",
    "    df = df.apply(lambda x: Counter(x.split(sep)))\n",
    "    c = Counter()\n",
    "    for d in df:\n",
    "        c.update(d)\n",
    "    \n",
    "    df = pd.DataFrame(list(c.items()), columns=[df.name, 'freq'])\n",
    "    \n",
    "    if threshold != 0:\n",
    "        df = df[df['freq']>threshold]\n",
    "        \n",
    "    df = df.sort_values(by='freq', ascending=False)\n",
    "    \n",
    "    if top_n != 0:\n",
    "        df = df.head(top_n)\n",
    "       \n",
    "    return df"
   ]
  },
  {
   "cell_type": "code",
   "execution_count": 17,
   "id": "48aff953",
   "metadata": {},
   "outputs": [
    {
     "data": {
      "text/html": [
       "<div>\n",
       "<style scoped>\n",
       "    .dataframe tbody tr th:only-of-type {\n",
       "        vertical-align: middle;\n",
       "    }\n",
       "\n",
       "    .dataframe tbody tr th {\n",
       "        vertical-align: top;\n",
       "    }\n",
       "\n",
       "    .dataframe thead th {\n",
       "        text-align: right;\n",
       "    }\n",
       "</style>\n",
       "<table border=\"1\" class=\"dataframe\">\n",
       "  <thead>\n",
       "    <tr style=\"text-align: right;\">\n",
       "      <th></th>\n",
       "      <th>Comentarios_limpios</th>\n",
       "      <th>freq</th>\n",
       "    </tr>\n",
       "  </thead>\n",
       "  <tbody>\n",
       "    <tr>\n",
       "      <th>31</th>\n",
       "      <td>productos</td>\n",
       "      <td>6463</td>\n",
       "    </tr>\n",
       "    <tr>\n",
       "      <th>93</th>\n",
       "      <td>precios</td>\n",
       "      <td>3885</td>\n",
       "    </tr>\n",
       "    <tr>\n",
       "      <th>11</th>\n",
       "      <td>servicio</td>\n",
       "      <td>2999</td>\n",
       "    </tr>\n",
       "    <tr>\n",
       "      <th>131</th>\n",
       "      <td>gracias</td>\n",
       "      <td>2931</td>\n",
       "    </tr>\n",
       "    <tr>\n",
       "      <th>6</th>\n",
       "      <td>jumbo</td>\n",
       "      <td>2848</td>\n",
       "    </tr>\n",
       "    <tr>\n",
       "      <th>...</th>\n",
       "      <td>...</td>\n",
       "      <td>...</td>\n",
       "    </tr>\n",
       "    <tr>\n",
       "      <th>14023</th>\n",
       "      <td>encantas</td>\n",
       "      <td>1</td>\n",
       "    </tr>\n",
       "    <tr>\n",
       "      <th>14024</th>\n",
       "      <td>cosevha</td>\n",
       "      <td>1</td>\n",
       "    </tr>\n",
       "    <tr>\n",
       "      <th>14025</th>\n",
       "      <td>desastrozos</td>\n",
       "      <td>1</td>\n",
       "    </tr>\n",
       "    <tr>\n",
       "      <th>14026</th>\n",
       "      <td>perfecci</td>\n",
       "      <td>1</td>\n",
       "    </tr>\n",
       "    <tr>\n",
       "      <th>22136</th>\n",
       "      <td>coive</td>\n",
       "      <td>1</td>\n",
       "    </tr>\n",
       "  </tbody>\n",
       "</table>\n",
       "<p>22137 rows × 2 columns</p>\n",
       "</div>"
      ],
      "text/plain": [
       "      Comentarios_limpios  freq\n",
       "31              productos  6463\n",
       "93                precios  3885\n",
       "11               servicio  2999\n",
       "131               gracias  2931\n",
       "6                   jumbo  2848\n",
       "...                   ...   ...\n",
       "14023            encantas     1\n",
       "14024             cosevha     1\n",
       "14025         desastrozos     1\n",
       "14026            perfecci     1\n",
       "22136               coive     1\n",
       "\n",
       "[22137 rows x 2 columns]"
      ]
     },
     "execution_count": 17,
     "metadata": {},
     "output_type": "execute_result"
    }
   ],
   "source": [
    "freq = get_freq_str(df['Comentarios_limpios'], sep = ' ', threshold = 0, top_n = 0)\n",
    "freq"
   ]
  },
  {
   "cell_type": "code",
   "execution_count": 18,
   "id": "a104daea",
   "metadata": {
    "scrolled": true
   },
   "outputs": [
    {
     "data": {
      "text/html": [
       "<div>\n",
       "<style scoped>\n",
       "    .dataframe tbody tr th:only-of-type {\n",
       "        vertical-align: middle;\n",
       "    }\n",
       "\n",
       "    .dataframe tbody tr th {\n",
       "        vertical-align: top;\n",
       "    }\n",
       "\n",
       "    .dataframe thead th {\n",
       "        text-align: right;\n",
       "    }\n",
       "</style>\n",
       "<table border=\"1\" class=\"dataframe\">\n",
       "  <thead>\n",
       "    <tr style=\"text-align: right;\">\n",
       "      <th></th>\n",
       "      <th>Comentarios_limpios</th>\n",
       "      <th>freq</th>\n",
       "    </tr>\n",
       "  </thead>\n",
       "  <tbody>\n",
       "    <tr>\n",
       "      <th>17862</th>\n",
       "      <td>telefoni</td>\n",
       "      <td>1</td>\n",
       "    </tr>\n",
       "    <tr>\n",
       "      <th>17933</th>\n",
       "      <td>ladrarle</td>\n",
       "      <td>1</td>\n",
       "    </tr>\n",
       "    <tr>\n",
       "      <th>17861</th>\n",
       "      <td>incorforme</td>\n",
       "      <td>1</td>\n",
       "    </tr>\n",
       "    <tr>\n",
       "      <th>17935</th>\n",
       "      <td>expidan</td>\n",
       "      <td>1</td>\n",
       "    </tr>\n",
       "    <tr>\n",
       "      <th>17850</th>\n",
       "      <td>puntas</td>\n",
       "      <td>1</td>\n",
       "    </tr>\n",
       "  </tbody>\n",
       "</table>\n",
       "</div>"
      ],
      "text/plain": [
       "      Comentarios_limpios  freq\n",
       "17862            telefoni     1\n",
       "17933            ladrarle     1\n",
       "17861          incorforme     1\n",
       "17935             expidan     1\n",
       "17850              puntas     1"
      ]
     },
     "execution_count": 18,
     "metadata": {},
     "output_type": "execute_result"
    }
   ],
   "source": [
    "#tabla frecuencia de la palabra 11,594 aparecen 1 sola vez\n",
    "one_position = freq.tail(11594)\n",
    "one_position.head()"
   ]
  },
  {
   "cell_type": "code",
   "execution_count": 19,
   "id": "7503ca76",
   "metadata": {},
   "outputs": [
    {
     "data": {
      "text/plain": [
       "(pandas.core.frame.DataFrame, pandas.core.series.Series)"
      ]
     },
     "execution_count": 19,
     "metadata": {},
     "output_type": "execute_result"
    }
   ],
   "source": [
    "type(one_position), type(Comentarios_limpios)"
   ]
  },
  {
   "cell_type": "code",
   "execution_count": 20,
   "id": "7ac869a2",
   "metadata": {},
   "outputs": [
    {
     "data": {
      "text/plain": [
       "(11594, 22137)"
      ]
     },
     "execution_count": 20,
     "metadata": {},
     "output_type": "execute_result"
    }
   ],
   "source": [
    "len(one_position), len(freq) "
   ]
  },
  {
   "cell_type": "code",
   "execution_count": 21,
   "id": "9f104765",
   "metadata": {},
   "outputs": [
    {
     "data": {
      "text/plain": [
       "array(['productos', 'precios', 'servicio', ..., 'atalayas', 'juegan',\n",
       "       'exelencia'], dtype=object)"
      ]
     },
     "execution_count": 21,
     "metadata": {},
     "output_type": "execute_result"
    }
   ],
   "source": [
    "# filtro = palabras con frecuencia de mas de 5\n",
    "filtros = freq[freq['freq'] > 5]['Comentarios_limpios'].unique()\n",
    "filtros "
   ]
  },
  {
   "cell_type": "code",
   "execution_count": 22,
   "id": "9db5bc9c",
   "metadata": {},
   "outputs": [],
   "source": [
    "for filtro in filtros:\n",
    "   \n",
    "    filtro_new_name = filtro \n",
    "    try:\n",
    "        df[filtro_new_name] = df['Comentarios_limpios'].str.lower().str.contains(filtro).astype('int')\n",
    "    except: \n",
    "        print(filtro)  "
   ]
  },
  {
   "cell_type": "code",
   "execution_count": 23,
   "id": "a038cd73",
   "metadata": {
    "scrolled": true
   },
   "outputs": [
    {
     "name": "stdout",
     "output_type": "stream",
     "text": [
      "(30269, 4743)\n"
     ]
    },
    {
     "data": {
      "text/html": [
       "<div>\n",
       "<style scoped>\n",
       "    .dataframe tbody tr th:only-of-type {\n",
       "        vertical-align: middle;\n",
       "    }\n",
       "\n",
       "    .dataframe tbody tr th {\n",
       "        vertical-align: top;\n",
       "    }\n",
       "\n",
       "    .dataframe thead th {\n",
       "        text-align: right;\n",
       "    }\n",
       "</style>\n",
       "<table border=\"1\" class=\"dataframe\">\n",
       "  <thead>\n",
       "    <tr style=\"text-align: right;\">\n",
       "      <th></th>\n",
       "      <th>NPS</th>\n",
       "      <th>Comentarios_limpios</th>\n",
       "      <th>productos</th>\n",
       "      <th>precios</th>\n",
       "      <th>servicio</th>\n",
       "      <th>gracias</th>\n",
       "      <th>jumbo</th>\n",
       "      <th>promociones</th>\n",
       "      <th>mas</th>\n",
       "      <th>tienda</th>\n",
       "      <th>...</th>\n",
       "      <th>pantalla</th>\n",
       "      <th>caballero</th>\n",
       "      <th>tradicional</th>\n",
       "      <th>tono</th>\n",
       "      <th>despectivo</th>\n",
       "      <th>almorzando</th>\n",
       "      <th>accequibles</th>\n",
       "      <th>atalayas</th>\n",
       "      <th>juegan</th>\n",
       "      <th>exelencia</th>\n",
       "    </tr>\n",
       "  </thead>\n",
       "  <tbody>\n",
       "    <tr>\n",
       "      <th>0</th>\n",
       "      <td>4</td>\n",
       "      <td>mejorar respeto empleados hacia clientes espec...</td>\n",
       "      <td>0</td>\n",
       "      <td>0</td>\n",
       "      <td>0</td>\n",
       "      <td>0</td>\n",
       "      <td>1</td>\n",
       "      <td>0</td>\n",
       "      <td>0</td>\n",
       "      <td>0</td>\n",
       "      <td>...</td>\n",
       "      <td>0</td>\n",
       "      <td>0</td>\n",
       "      <td>0</td>\n",
       "      <td>0</td>\n",
       "      <td>0</td>\n",
       "      <td>0</td>\n",
       "      <td>0</td>\n",
       "      <td>0</td>\n",
       "      <td>0</td>\n",
       "      <td>0</td>\n",
       "    </tr>\n",
       "    <tr>\n",
       "      <th>1</th>\n",
       "      <td>8</td>\n",
       "      <td>excelente servicio parte personal compre art c...</td>\n",
       "      <td>0</td>\n",
       "      <td>0</td>\n",
       "      <td>1</td>\n",
       "      <td>0</td>\n",
       "      <td>0</td>\n",
       "      <td>0</td>\n",
       "      <td>0</td>\n",
       "      <td>0</td>\n",
       "      <td>...</td>\n",
       "      <td>0</td>\n",
       "      <td>0</td>\n",
       "      <td>0</td>\n",
       "      <td>0</td>\n",
       "      <td>0</td>\n",
       "      <td>0</td>\n",
       "      <td>0</td>\n",
       "      <td>0</td>\n",
       "      <td>0</td>\n",
       "      <td>0</td>\n",
       "    </tr>\n",
       "    <tr>\n",
       "      <th>2</th>\n",
       "      <td>9</td>\n",
       "      <td>mayoria ocaciones precio coincide producto</td>\n",
       "      <td>0</td>\n",
       "      <td>0</td>\n",
       "      <td>0</td>\n",
       "      <td>0</td>\n",
       "      <td>0</td>\n",
       "      <td>0</td>\n",
       "      <td>0</td>\n",
       "      <td>0</td>\n",
       "      <td>...</td>\n",
       "      <td>0</td>\n",
       "      <td>0</td>\n",
       "      <td>0</td>\n",
       "      <td>0</td>\n",
       "      <td>0</td>\n",
       "      <td>0</td>\n",
       "      <td>0</td>\n",
       "      <td>0</td>\n",
       "      <td>0</td>\n",
       "      <td>0</td>\n",
       "    </tr>\n",
       "    <tr>\n",
       "      <th>3</th>\n",
       "      <td>7</td>\n",
       "      <td>hacen ofertas presentan productos pasar caja a...</td>\n",
       "      <td>1</td>\n",
       "      <td>0</td>\n",
       "      <td>0</td>\n",
       "      <td>0</td>\n",
       "      <td>0</td>\n",
       "      <td>0</td>\n",
       "      <td>0</td>\n",
       "      <td>0</td>\n",
       "      <td>...</td>\n",
       "      <td>0</td>\n",
       "      <td>0</td>\n",
       "      <td>0</td>\n",
       "      <td>0</td>\n",
       "      <td>0</td>\n",
       "      <td>0</td>\n",
       "      <td>0</td>\n",
       "      <td>0</td>\n",
       "      <td>0</td>\n",
       "      <td>0</td>\n",
       "    </tr>\n",
       "    <tr>\n",
       "      <th>4</th>\n",
       "      <td>10</td>\n",
       "      <td>ay productos mas caros super mas peque tienda</td>\n",
       "      <td>1</td>\n",
       "      <td>0</td>\n",
       "      <td>0</td>\n",
       "      <td>0</td>\n",
       "      <td>0</td>\n",
       "      <td>0</td>\n",
       "      <td>1</td>\n",
       "      <td>1</td>\n",
       "      <td>...</td>\n",
       "      <td>0</td>\n",
       "      <td>0</td>\n",
       "      <td>0</td>\n",
       "      <td>0</td>\n",
       "      <td>0</td>\n",
       "      <td>0</td>\n",
       "      <td>0</td>\n",
       "      <td>0</td>\n",
       "      <td>0</td>\n",
       "      <td>0</td>\n",
       "    </tr>\n",
       "    <tr>\n",
       "      <th>...</th>\n",
       "      <td>...</td>\n",
       "      <td>...</td>\n",
       "      <td>...</td>\n",
       "      <td>...</td>\n",
       "      <td>...</td>\n",
       "      <td>...</td>\n",
       "      <td>...</td>\n",
       "      <td>...</td>\n",
       "      <td>...</td>\n",
       "      <td>...</td>\n",
       "      <td>...</td>\n",
       "      <td>...</td>\n",
       "      <td>...</td>\n",
       "      <td>...</td>\n",
       "      <td>...</td>\n",
       "      <td>...</td>\n",
       "      <td>...</td>\n",
       "      <td>...</td>\n",
       "      <td>...</td>\n",
       "      <td>...</td>\n",
       "      <td>...</td>\n",
       "    </tr>\n",
       "    <tr>\n",
       "      <th>30264</th>\n",
       "      <td>10</td>\n",
       "      <td>deber an tener surtido computaci gracias</td>\n",
       "      <td>0</td>\n",
       "      <td>0</td>\n",
       "      <td>0</td>\n",
       "      <td>1</td>\n",
       "      <td>0</td>\n",
       "      <td>0</td>\n",
       "      <td>0</td>\n",
       "      <td>0</td>\n",
       "      <td>...</td>\n",
       "      <td>0</td>\n",
       "      <td>0</td>\n",
       "      <td>0</td>\n",
       "      <td>0</td>\n",
       "      <td>0</td>\n",
       "      <td>0</td>\n",
       "      <td>0</td>\n",
       "      <td>0</td>\n",
       "      <td>0</td>\n",
       "      <td>0</td>\n",
       "    </tr>\n",
       "    <tr>\n",
       "      <th>30265</th>\n",
       "      <td>5</td>\n",
       "      <td>varios productos precio coive realizar compras</td>\n",
       "      <td>1</td>\n",
       "      <td>0</td>\n",
       "      <td>0</td>\n",
       "      <td>0</td>\n",
       "      <td>0</td>\n",
       "      <td>0</td>\n",
       "      <td>0</td>\n",
       "      <td>0</td>\n",
       "      <td>...</td>\n",
       "      <td>0</td>\n",
       "      <td>0</td>\n",
       "      <td>0</td>\n",
       "      <td>0</td>\n",
       "      <td>0</td>\n",
       "      <td>0</td>\n",
       "      <td>0</td>\n",
       "      <td>0</td>\n",
       "      <td>0</td>\n",
       "      <td>0</td>\n",
       "    </tr>\n",
       "    <tr>\n",
       "      <th>30266</th>\n",
       "      <td>10</td>\n",
       "      <td>atencion general excelente</td>\n",
       "      <td>0</td>\n",
       "      <td>0</td>\n",
       "      <td>0</td>\n",
       "      <td>0</td>\n",
       "      <td>0</td>\n",
       "      <td>0</td>\n",
       "      <td>0</td>\n",
       "      <td>0</td>\n",
       "      <td>...</td>\n",
       "      <td>0</td>\n",
       "      <td>0</td>\n",
       "      <td>0</td>\n",
       "      <td>0</td>\n",
       "      <td>0</td>\n",
       "      <td>0</td>\n",
       "      <td>0</td>\n",
       "      <td>0</td>\n",
       "      <td>0</td>\n",
       "      <td>0</td>\n",
       "    </tr>\n",
       "    <tr>\n",
       "      <th>30267</th>\n",
       "      <td>10</td>\n",
       "      <td>destaca orden atenci cliente</td>\n",
       "      <td>0</td>\n",
       "      <td>0</td>\n",
       "      <td>0</td>\n",
       "      <td>0</td>\n",
       "      <td>0</td>\n",
       "      <td>0</td>\n",
       "      <td>0</td>\n",
       "      <td>0</td>\n",
       "      <td>...</td>\n",
       "      <td>0</td>\n",
       "      <td>0</td>\n",
       "      <td>0</td>\n",
       "      <td>0</td>\n",
       "      <td>0</td>\n",
       "      <td>0</td>\n",
       "      <td>0</td>\n",
       "      <td>0</td>\n",
       "      <td>0</td>\n",
       "      <td>0</td>\n",
       "    </tr>\n",
       "    <tr>\n",
       "      <th>30268</th>\n",
       "      <td>10</td>\n",
       "      <td>contin mejora</td>\n",
       "      <td>0</td>\n",
       "      <td>0</td>\n",
       "      <td>0</td>\n",
       "      <td>0</td>\n",
       "      <td>0</td>\n",
       "      <td>0</td>\n",
       "      <td>0</td>\n",
       "      <td>0</td>\n",
       "      <td>...</td>\n",
       "      <td>0</td>\n",
       "      <td>0</td>\n",
       "      <td>0</td>\n",
       "      <td>0</td>\n",
       "      <td>0</td>\n",
       "      <td>0</td>\n",
       "      <td>0</td>\n",
       "      <td>0</td>\n",
       "      <td>0</td>\n",
       "      <td>0</td>\n",
       "    </tr>\n",
       "  </tbody>\n",
       "</table>\n",
       "<p>30269 rows × 4743 columns</p>\n",
       "</div>"
      ],
      "text/plain": [
       "       NPS                                Comentarios_limpios  productos  \\\n",
       "0        4  mejorar respeto empleados hacia clientes espec...          0   \n",
       "1        8  excelente servicio parte personal compre art c...          0   \n",
       "2        9         mayoria ocaciones precio coincide producto          0   \n",
       "3        7  hacen ofertas presentan productos pasar caja a...          1   \n",
       "4       10      ay productos mas caros super mas peque tienda          1   \n",
       "...    ...                                                ...        ...   \n",
       "30264   10           deber an tener surtido computaci gracias          0   \n",
       "30265    5     varios productos precio coive realizar compras          1   \n",
       "30266   10                         atencion general excelente          0   \n",
       "30267   10                       destaca orden atenci cliente          0   \n",
       "30268   10                                      contin mejora          0   \n",
       "\n",
       "       precios  servicio  gracias  jumbo  promociones  mas  tienda  ...  \\\n",
       "0            0         0        0      1            0    0       0  ...   \n",
       "1            0         1        0      0            0    0       0  ...   \n",
       "2            0         0        0      0            0    0       0  ...   \n",
       "3            0         0        0      0            0    0       0  ...   \n",
       "4            0         0        0      0            0    1       1  ...   \n",
       "...        ...       ...      ...    ...          ...  ...     ...  ...   \n",
       "30264        0         0        1      0            0    0       0  ...   \n",
       "30265        0         0        0      0            0    0       0  ...   \n",
       "30266        0         0        0      0            0    0       0  ...   \n",
       "30267        0         0        0      0            0    0       0  ...   \n",
       "30268        0         0        0      0            0    0       0  ...   \n",
       "\n",
       "       pantalla  caballero  tradicional  tono  despectivo  almorzando  \\\n",
       "0             0          0            0     0           0           0   \n",
       "1             0          0            0     0           0           0   \n",
       "2             0          0            0     0           0           0   \n",
       "3             0          0            0     0           0           0   \n",
       "4             0          0            0     0           0           0   \n",
       "...         ...        ...          ...   ...         ...         ...   \n",
       "30264         0          0            0     0           0           0   \n",
       "30265         0          0            0     0           0           0   \n",
       "30266         0          0            0     0           0           0   \n",
       "30267         0          0            0     0           0           0   \n",
       "30268         0          0            0     0           0           0   \n",
       "\n",
       "       accequibles  atalayas  juegan  exelencia  \n",
       "0                0         0       0          0  \n",
       "1                0         0       0          0  \n",
       "2                0         0       0          0  \n",
       "3                0         0       0          0  \n",
       "4                0         0       0          0  \n",
       "...            ...       ...     ...        ...  \n",
       "30264            0         0       0          0  \n",
       "30265            0         0       0          0  \n",
       "30266            0         0       0          0  \n",
       "30267            0         0       0          0  \n",
       "30268            0         0       0          0  \n",
       "\n",
       "[30269 rows x 4743 columns]"
      ]
     },
     "execution_count": 23,
     "metadata": {},
     "output_type": "execute_result"
    }
   ],
   "source": [
    "print(df.shape)\n",
    "df "
   ]
  },
  {
   "cell_type": "markdown",
   "id": "bc261da4",
   "metadata": {},
   "source": [
    "### Split Data"
   ]
  },
  {
   "cell_type": "code",
   "execution_count": 24,
   "id": "25141925",
   "metadata": {},
   "outputs": [],
   "source": [
    "#Experimentation parameters\n",
    "\n",
    "vocab_size = 30269 #cantidad maxima de tokens a ser considerados en el vocabulario \n",
    "\n",
    "\n",
    "max_length = 25 #cantidad que entrara como input a la red, todos deben ser iguales por eso usamos un maximo \n",
    "                #la red neur. necesita que siempre entre el mismo valor (input)\n",
    "\n",
    "    \n",
    "trunc_type = 'post' #en caso de exceder el max_length, truncar (cortar) al final, no mas de 40 en este caso\n",
    "    \n",
    "padding_type = 'post' # de ser necesario rellenar con ceros porque no llega al max_length, hacerlo al final,\n",
    "                      # del documento\n",
    "    \n",
    "oov_tok = '<OOV>' #si no encuentra alguna palabra en el embedding le asigna \"OOV\""
   ]
  },
  {
   "cell_type": "code",
   "execution_count": 25,
   "id": "3b40637e",
   "metadata": {},
   "outputs": [],
   "source": [
    "# parametrization\n",
    "test_size = 0.1\n",
    "val_size = 0.3\n",
    "\n",
    "df = df.sample(frac=1)\n",
    "train_df, test_df = train_test_split(df\n",
    "                                     , test_size = test_size)\n",
    "train_df, val_df = train_test_split(train_df\n",
    "                                    , test_size = val_size)\n",
    "\n",
    "# Form np arrays \n",
    "train_features = np.array(train_df[train_df.columns.difference([target])])\n",
    "val_features = np.array(val_df[val_df.columns.difference([target])])\n",
    "test_features = np.array(test_df[test_df.columns.difference([target])])\n",
    "\n",
    "train_labels = np.array(train_df[[target]])\n",
    "val_labels = np.array(val_df[[target]])\n",
    "test_labels = np.array(test_df[[target]])\n",
    "\n",
    "input_len = train_features.shape[1]"
   ]
  },
  {
   "cell_type": "code",
   "execution_count": 26,
   "id": "77763df3",
   "metadata": {},
   "outputs": [
    {
     "data": {
      "text/plain": [
       "((19069, 4743), (8173, 4743), (3027, 4743))"
      ]
     },
     "execution_count": 26,
     "metadata": {},
     "output_type": "execute_result"
    }
   ],
   "source": [
    "train_df.shape, val_df.shape ,test_df.shape"
   ]
  },
  {
   "cell_type": "code",
   "execution_count": 27,
   "id": "1c04e7a5",
   "metadata": {},
   "outputs": [],
   "source": [
    "x_train = train_df.iloc[:, 1] \n",
    "y_train = train_df.iloc[:, 0] \n",
    "\n",
    "x_val = val_df.iloc[:, 1] \n",
    "y_val = val_df.iloc[:, 0] \n",
    "\n",
    "x_test = test_df.iloc[:, 1] \n",
    "y_test = test_df.iloc[:, 0] "
   ]
  },
  {
   "cell_type": "code",
   "execution_count": 28,
   "id": "551cdfc5",
   "metadata": {},
   "outputs": [
    {
     "data": {
      "text/plain": [
       "7275     10\n",
       "10061     8\n",
       "24488     9\n",
       "6417     10\n",
       "10921     8\n",
       "         ..\n",
       "21033     7\n",
       "2974      3\n",
       "14096     0\n",
       "24573    10\n",
       "5990      9\n",
       "Name: NPS, Length: 3027, dtype: int64"
      ]
     },
     "execution_count": 28,
     "metadata": {},
     "output_type": "execute_result"
    }
   ],
   "source": [
    "y_test "
   ]
  },
  {
   "cell_type": "code",
   "execution_count": 29,
   "id": "780ec647",
   "metadata": {},
   "outputs": [
    {
     "name": "stdout",
     "output_type": "stream",
     "text": [
      "Esto es un ejemplo de 10 tokens en el word_index :{'<OOV>': 1, 'productos': 2, 'precios': 3, 'servicio': 4, 'gracias': 5, 'jumbo': 6, 'promociones': 7, 'mas': 8, 'tienda': 9, 'cajas': 10}\n"
     ]
    }
   ],
   "source": [
    "label_tokenizer = Tokenizer() \n",
    "\n",
    "tokenizer = Tokenizer(num_words = vocab_size \n",
    "                      , oov_token=oov_tok) \n",
    "\n",
    "tokenizer.fit_on_texts(x_train) \n",
    "tokenizer.fit_on_texts(x_val) \n",
    "tokenizer.fit_on_texts(x_test) \n",
    "\n",
    "word_index = tokenizer.word_index \n",
    "\n",
    "print('Esto es un ejemplo de 10 tokens en el word_index :' + str(dict(list(word_index.items())[0:10])))"
   ]
  },
  {
   "cell_type": "code",
   "execution_count": 30,
   "id": "2dfcd1ba",
   "metadata": {},
   "outputs": [],
   "source": [
    "#una vez tokenizado, transformar nuestra data actual\n",
    "x_train_seq = tokenizer.texts_to_sequences(x_train)\n",
    "\n",
    "x_val_seq = tokenizer.texts_to_sequences(x_val) \n",
    "\n",
    "x_test_seq = tokenizer.texts_to_sequences(x_test)"
   ]
  },
  {
   "cell_type": "code",
   "execution_count": 31,
   "id": "f8397a5a",
   "metadata": {},
   "outputs": [],
   "source": [
    "#realizacion de padding\n",
    "x_train_pad = pad_sequences(x_train_seq, maxlen=max_length, padding=padding_type, truncating=trunc_type)\n",
    "\n",
    "x_val_pad = pad_sequences(x_val_seq , maxlen=max_length, padding=padding_type, truncating=trunc_type)\n",
    "\n",
    "x_test_pad = pad_sequences(x_test_seq, maxlen=max_length, padding=padding_type, truncating=trunc_type) "
   ]
  },
  {
   "cell_type": "code",
   "execution_count": 32,
   "id": "05860396",
   "metadata": {},
   "outputs": [
    {
     "data": {
      "text/plain": [
       "array([[ 2082,   333,    23, ...,     5,     0,     0],\n",
       "       [  540,    35,   787, ...,     0,     0,     0],\n",
       "       [ 1172, 10545,   106, ...,     0,     0,     0],\n",
       "       ...,\n",
       "       [   33,    15,   868, ...,     0,     0,     0],\n",
       "       [  731,     2,   511, ...,     0,     0,     0],\n",
       "       [   35,    93,   116, ...,     0,     0,     0]], dtype=int32)"
      ]
     },
     "execution_count": 32,
     "metadata": {},
     "output_type": "execute_result"
    }
   ],
   "source": [
    "x_train_pad"
   ]
  },
  {
   "cell_type": "code",
   "execution_count": 42,
   "id": "f3235de8",
   "metadata": {},
   "outputs": [
    {
     "name": "stdout",
     "output_type": "stream",
     "text": [
      "original text :hice comparaci precio realmente est costosos definitivamente vuelvo mercar all\n",
      "______________________________________________________________\n",
      "tokenized text :[2236, 1228, 185, 1605, 1228, 64, 90, 221, 351, 267, 5133, 290, 1819, 181, 2898, 527, 33, 596, 2462, 1612, 3535, 112]\n",
      "______________________________________________________________\n",
      "padded text :[2236 1228  185 1605 1228   64   90  221  351  267 5133  290 1819  181\n",
      " 2898  527   33  596 2462 1612 3535  112    0    0    0]\n",
      "______________________________________________________________\n",
      "original label :7\n"
     ]
    }
   ],
   "source": [
    "#ejemplo de transformación\n",
    "print('original text :' + str(x_train[10000]))\n",
    "print('______________________________________________________________')\n",
    "print('tokenized text :' + str(x_train_seq[10000]))\n",
    "print('______________________________________________________________')\n",
    "print('padded text :' + str(x_train_pad[10000]))\n",
    "print('______________________________________________________________')\n",
    "print('original label :' + str(y_train[10000])) "
   ]
  },
  {
   "cell_type": "code",
   "execution_count": 43,
   "id": "e76343ce",
   "metadata": {},
   "outputs": [
    {
     "data": {
      "text/plain": [
       "array([2236, 1228,  185, 1605, 1228,   64,   90,  221,  351,  267, 5133,\n",
       "        290, 1819,  181, 2898,  527,   33,  596, 2462, 1612, 3535,  112,\n",
       "          0,    0,    0], dtype=int32)"
      ]
     },
     "execution_count": 43,
     "metadata": {},
     "output_type": "execute_result"
    }
   ],
   "source": [
    "# los 0 = padding aplicado\n",
    "x_train_pad[10000] "
   ]
  },
  {
   "cell_type": "markdown",
   "id": "e4fe51e6",
   "metadata": {},
   "source": [
    "### Machine Learning:"
   ]
  },
  {
   "cell_type": "markdown",
   "id": "c5253de1",
   "metadata": {},
   "source": [
    "#### 1.Regresión Lineal"
   ]
  },
  {
   "cell_type": "code",
   "execution_count": 50,
   "id": "fa2197a9",
   "metadata": {},
   "outputs": [
    {
     "data": {
      "text/plain": [
       "LinearRegression()"
      ]
     },
     "execution_count": 50,
     "metadata": {},
     "output_type": "execute_result"
    }
   ],
   "source": [
    "#definiendo modelo\n",
    "modeloReg = LinearRegression()\n",
    "\n",
    "#entrenamiento modelo RL \n",
    "modeloReg.fit(x_train_pad,y_train) "
   ]
  },
  {
   "cell_type": "code",
   "execution_count": 252,
   "id": "a18d71ab",
   "metadata": {},
   "outputs": [
    {
     "data": {
      "text/plain": [
       "array([8.1918133 , 7.29029129, 7.10454311, ..., 7.53287072, 8.33928579,\n",
       "       8.18040544])"
      ]
     },
     "execution_count": 252,
     "metadata": {},
     "output_type": "execute_result"
    }
   ],
   "source": [
    "#prediciones \n",
    "Y_pred = modeloReg.predict(x_test_pad)\n",
    "Y_pred "
   ]
  },
  {
   "cell_type": "code",
   "execution_count": 249,
   "id": "fd5fa952",
   "metadata": {},
   "outputs": [
    {
     "name": "stdout",
     "output_type": "stream",
     "text": [
      "[8.1918133  7.29029129 7.10454311 8.32373272 8.28376837 8.29272174\n",
      " 8.35499623 8.3614656  7.38652015 8.20317989]\n",
      "\n",
      "El error (mae) de test es: 1.8662733731095953\n"
     ]
    }
   ],
   "source": [
    "predicciones_Reg = modeloReg.predict(X = x_test_pad)\n",
    "print(predicciones_Reg[0:10,])\n",
    "\n",
    "mae =  mean_absolute_error(\n",
    "        y_true  = y_test,\n",
    "        Y_pred  = predicciones_Reg,\n",
    "       )\n",
    "print(\"\")\n",
    "print(f\"El error (mae) de test es: {mae}\")"
   ]
  },
  {
   "cell_type": "code",
   "execution_count": 250,
   "id": "9b4b6c91",
   "metadata": {},
   "outputs": [
    {
     "name": "stdout",
     "output_type": "stream",
     "text": [
      "[8.1918133  7.29029129 7.10454311 8.32373272 8.28376837 8.29272174\n",
      " 8.35499623 8.3614656  7.38652015 8.20317989]\n",
      "\n",
      "El error (rmse) de test es: 2.4689340058932543\n"
     ]
    }
   ],
   "source": [
    "predicciones_Reg = modeloReg.predict(X = x_test_pad)\n",
    "print(predicciones_Reg[0:10,])\n",
    "\n",
    "rmse = mean_squared_error(\n",
    "        y_true  = y_test,\n",
    "        Y_pred  = predicciones_Reg,\n",
    "        squared = False\n",
    "       )\n",
    "print(\"\")\n",
    "print(f\"El error (rmse) de test es: {rmse}\")"
   ]
  },
  {
   "cell_type": "code",
   "execution_count": 255,
   "id": "a61ee33c",
   "metadata": {},
   "outputs": [
    {
     "name": "stdout",
     "output_type": "stream",
     "text": [
      "Mean Absolute Error: 1.8662733731095953\n",
      "Mean Squared Error: 2.4689340058932543\n"
     ]
    }
   ],
   "source": [
    "#metricas de error\n",
    "from sklearn import metrics\n",
    "print('Mean Absolute Error:', metrics.mean_absolute_error(y_test, Y_pred))\n",
    "print('Mean Squared Error:', np.sqrt(metrics.mean_squared_error(y_test, Y_pred))) "
   ]
  },
  {
   "cell_type": "code",
   "execution_count": 254,
   "id": "847949bb",
   "metadata": {},
   "outputs": [
    {
     "data": {
      "text/html": [
       "<div>\n",
       "<style scoped>\n",
       "    .dataframe tbody tr th:only-of-type {\n",
       "        vertical-align: middle;\n",
       "    }\n",
       "\n",
       "    .dataframe tbody tr th {\n",
       "        vertical-align: top;\n",
       "    }\n",
       "\n",
       "    .dataframe thead th {\n",
       "        text-align: right;\n",
       "    }\n",
       "</style>\n",
       "<table border=\"1\" class=\"dataframe\">\n",
       "  <thead>\n",
       "    <tr style=\"text-align: right;\">\n",
       "      <th></th>\n",
       "      <th>Actual</th>\n",
       "      <th>Predicted</th>\n",
       "    </tr>\n",
       "  </thead>\n",
       "  <tbody>\n",
       "    <tr>\n",
       "      <th>4844</th>\n",
       "      <td>10</td>\n",
       "      <td>8.191813</td>\n",
       "    </tr>\n",
       "    <tr>\n",
       "      <th>16887</th>\n",
       "      <td>10</td>\n",
       "      <td>7.290291</td>\n",
       "    </tr>\n",
       "    <tr>\n",
       "      <th>4806</th>\n",
       "      <td>7</td>\n",
       "      <td>7.104543</td>\n",
       "    </tr>\n",
       "    <tr>\n",
       "      <th>16172</th>\n",
       "      <td>10</td>\n",
       "      <td>8.323733</td>\n",
       "    </tr>\n",
       "    <tr>\n",
       "      <th>9573</th>\n",
       "      <td>10</td>\n",
       "      <td>8.283768</td>\n",
       "    </tr>\n",
       "    <tr>\n",
       "      <th>8268</th>\n",
       "      <td>0</td>\n",
       "      <td>8.292722</td>\n",
       "    </tr>\n",
       "    <tr>\n",
       "      <th>13272</th>\n",
       "      <td>10</td>\n",
       "      <td>8.354996</td>\n",
       "    </tr>\n",
       "    <tr>\n",
       "      <th>12342</th>\n",
       "      <td>6</td>\n",
       "      <td>8.361466</td>\n",
       "    </tr>\n",
       "    <tr>\n",
       "      <th>10266</th>\n",
       "      <td>7</td>\n",
       "      <td>7.386520</td>\n",
       "    </tr>\n",
       "    <tr>\n",
       "      <th>7777</th>\n",
       "      <td>3</td>\n",
       "      <td>8.203180</td>\n",
       "    </tr>\n",
       "    <tr>\n",
       "      <th>22575</th>\n",
       "      <td>6</td>\n",
       "      <td>5.378514</td>\n",
       "    </tr>\n",
       "    <tr>\n",
       "      <th>19937</th>\n",
       "      <td>10</td>\n",
       "      <td>7.987920</td>\n",
       "    </tr>\n",
       "    <tr>\n",
       "      <th>14157</th>\n",
       "      <td>7</td>\n",
       "      <td>6.678583</td>\n",
       "    </tr>\n",
       "    <tr>\n",
       "      <th>607</th>\n",
       "      <td>10</td>\n",
       "      <td>8.370594</td>\n",
       "    </tr>\n",
       "    <tr>\n",
       "      <th>27993</th>\n",
       "      <td>10</td>\n",
       "      <td>8.363951</td>\n",
       "    </tr>\n",
       "    <tr>\n",
       "      <th>1003</th>\n",
       "      <td>10</td>\n",
       "      <td>8.370443</td>\n",
       "    </tr>\n",
       "    <tr>\n",
       "      <th>6478</th>\n",
       "      <td>10</td>\n",
       "      <td>8.362654</td>\n",
       "    </tr>\n",
       "    <tr>\n",
       "      <th>16430</th>\n",
       "      <td>5</td>\n",
       "      <td>8.120825</td>\n",
       "    </tr>\n",
       "    <tr>\n",
       "      <th>4813</th>\n",
       "      <td>6</td>\n",
       "      <td>8.154416</td>\n",
       "    </tr>\n",
       "    <tr>\n",
       "      <th>19879</th>\n",
       "      <td>6</td>\n",
       "      <td>8.195994</td>\n",
       "    </tr>\n",
       "    <tr>\n",
       "      <th>11815</th>\n",
       "      <td>10</td>\n",
       "      <td>8.363177</td>\n",
       "    </tr>\n",
       "    <tr>\n",
       "      <th>5372</th>\n",
       "      <td>7</td>\n",
       "      <td>8.062197</td>\n",
       "    </tr>\n",
       "    <tr>\n",
       "      <th>20614</th>\n",
       "      <td>9</td>\n",
       "      <td>8.211685</td>\n",
       "    </tr>\n",
       "    <tr>\n",
       "      <th>11157</th>\n",
       "      <td>3</td>\n",
       "      <td>8.308617</td>\n",
       "    </tr>\n",
       "    <tr>\n",
       "      <th>3081</th>\n",
       "      <td>8</td>\n",
       "      <td>8.360009</td>\n",
       "    </tr>\n",
       "    <tr>\n",
       "      <th>792</th>\n",
       "      <td>10</td>\n",
       "      <td>8.368515</td>\n",
       "    </tr>\n",
       "    <tr>\n",
       "      <th>19674</th>\n",
       "      <td>10</td>\n",
       "      <td>8.361304</td>\n",
       "    </tr>\n",
       "    <tr>\n",
       "      <th>30179</th>\n",
       "      <td>5</td>\n",
       "      <td>7.871901</td>\n",
       "    </tr>\n",
       "    <tr>\n",
       "      <th>27413</th>\n",
       "      <td>10</td>\n",
       "      <td>8.342954</td>\n",
       "    </tr>\n",
       "    <tr>\n",
       "      <th>15849</th>\n",
       "      <td>10</td>\n",
       "      <td>8.204958</td>\n",
       "    </tr>\n",
       "  </tbody>\n",
       "</table>\n",
       "</div>"
      ],
      "text/plain": [
       "       Actual  Predicted\n",
       "4844       10   8.191813\n",
       "16887      10   7.290291\n",
       "4806        7   7.104543\n",
       "16172      10   8.323733\n",
       "9573       10   8.283768\n",
       "8268        0   8.292722\n",
       "13272      10   8.354996\n",
       "12342       6   8.361466\n",
       "10266       7   7.386520\n",
       "7777        3   8.203180\n",
       "22575       6   5.378514\n",
       "19937      10   7.987920\n",
       "14157       7   6.678583\n",
       "607        10   8.370594\n",
       "27993      10   8.363951\n",
       "1003       10   8.370443\n",
       "6478       10   8.362654\n",
       "16430       5   8.120825\n",
       "4813        6   8.154416\n",
       "19879       6   8.195994\n",
       "11815      10   8.363177\n",
       "5372        7   8.062197\n",
       "20614       9   8.211685\n",
       "11157       3   8.308617\n",
       "3081        8   8.360009\n",
       "792        10   8.368515\n",
       "19674      10   8.361304\n",
       "30179       5   7.871901\n",
       "27413      10   8.342954\n",
       "15849      10   8.204958"
      ]
     },
     "execution_count": 254,
     "metadata": {},
     "output_type": "execute_result"
    }
   ],
   "source": [
    "#valores reales vs prediciones modelo vs\n",
    "tabla = pd.DataFrame({'Actual': y_test, 'Predicted': Y_pred})\n",
    "tabla.head(30) "
   ]
  },
  {
   "cell_type": "markdown",
   "id": "47c95773",
   "metadata": {},
   "source": [
    "#### 2. Random Forest Regressor "
   ]
  },
  {
   "cell_type": "code",
   "execution_count": 29,
   "id": "15954bc5",
   "metadata": {},
   "outputs": [],
   "source": [
    "random_f = RandomForestRegressor(criterion='mae', n_jobs=-1) "
   ]
  },
  {
   "cell_type": "code",
   "execution_count": 30,
   "id": "b59180ab",
   "metadata": {},
   "outputs": [
    {
     "data": {
      "text/plain": [
       "RandomForestRegressor(criterion='mae', n_jobs=-1)"
      ]
     },
     "execution_count": 30,
     "metadata": {},
     "output_type": "execute_result"
    }
   ],
   "source": [
    "random_f.fit(x_train_pad, y_train, sample_weight=None)"
   ]
  },
  {
   "cell_type": "code",
   "execution_count": 79,
   "id": "8e08a31f",
   "metadata": {},
   "outputs": [
    {
     "name": "stdout",
     "output_type": "stream",
     "text": [
      "El error (mae) de test es: 1.8179625041295011\n"
     ]
    }
   ],
   "source": [
    "predicciones2 = random_f.predict(X = x_test_pad)\n",
    "\n",
    "mae = mean_absolute_error(\n",
    "        y_true  = y_test,\n",
    "        y_pred  = predicciones2,\n",
    "       )\n",
    "print(f\"El error (mae) de test es: {mae}\")"
   ]
  },
  {
   "cell_type": "code",
   "execution_count": 35,
   "id": "55f3bf2f",
   "metadata": {},
   "outputs": [
    {
     "name": "stdout",
     "output_type": "stream",
     "text": [
      "El error (rmse) de test es: 2.45239149527257\n"
     ]
    }
   ],
   "source": [
    "predicciones1 = random_f.predict(X = x_test_pad)\n",
    "\n",
    "rmse = mean_squared_error(\n",
    "        y_true  = y_test,\n",
    "        y_pred  = predicciones1,\n",
    "        squared = False\n",
    "       )\n",
    "print(f\"El error (rmse) de test es: {rmse}\")"
   ]
  },
  {
   "cell_type": "code",
   "execution_count": null,
   "id": "69113f4a",
   "metadata": {},
   "outputs": [],
   "source": []
  },
  {
   "cell_type": "markdown",
   "id": "9b05ee25",
   "metadata": {},
   "source": [
    "#### 3. Gradient Boosting Regressor"
   ]
  },
  {
   "cell_type": "code",
   "execution_count": 44,
   "id": "8e0114e2",
   "metadata": {},
   "outputs": [],
   "source": [
    "GradientB_model = GradientBoostingRegressor(loss='lad', learning_rate=0.1)  "
   ]
  },
  {
   "cell_type": "code",
   "execution_count": 45,
   "id": "d1f25465",
   "metadata": {},
   "outputs": [
    {
     "data": {
      "text/plain": [
       "GradientBoostingRegressor(loss='lad')"
      ]
     },
     "execution_count": 45,
     "metadata": {},
     "output_type": "execute_result"
    }
   ],
   "source": [
    "GradientB_model.fit(x_train_pad, y_train) "
   ]
  },
  {
   "cell_type": "code",
   "execution_count": 47,
   "id": "3e323376",
   "metadata": {},
   "outputs": [
    {
     "data": {
      "text/plain": [
       "array([9.75638267, 8.69587825, 8.94810608, ..., 7.28894266, 8.87914753,\n",
       "       8.90523321])"
      ]
     },
     "execution_count": 47,
     "metadata": {},
     "output_type": "execute_result"
    }
   ],
   "source": [
    "GradB_preds = GradientB_model.predict(x_test_pad)\n",
    "GradB_preds"
   ]
  },
  {
   "cell_type": "code",
   "execution_count": 48,
   "id": "62108a22",
   "metadata": {},
   "outputs": [
    {
     "name": "stdout",
     "output_type": "stream",
     "text": [
      "El error (mae) de test es: 1.6279976587196578\n"
     ]
    }
   ],
   "source": [
    "mae = mean_absolute_error(\n",
    "        y_true  = y_test,\n",
    "        y_pred  = GradB_preds)\n",
    "print(f\"El error (mae) de test es: {mae}\")"
   ]
  },
  {
   "cell_type": "code",
   "execution_count": 49,
   "id": "a6fb1830",
   "metadata": {},
   "outputs": [
    {
     "name": "stdout",
     "output_type": "stream",
     "text": [
      "El error (rmse) de test es: 2.499888523553399\n"
     ]
    }
   ],
   "source": [
    "rmse =mean_squared_error(\n",
    "        y_true  = y_test,\n",
    "        y_pred  = GradB_preds,\n",
    "        squared = False\n",
    ")\n",
    "print(f\"El error (rmse) de test es: {rmse}\") "
   ]
  },
  {
   "cell_type": "code",
   "execution_count": 50,
   "id": "c6fa8dc6",
   "metadata": {},
   "outputs": [
    {
     "name": "stdout",
     "output_type": "stream",
     "text": [
      "El error (rmse) de test es: 6.249442630193993\n"
     ]
    }
   ],
   "source": [
    "mse =mean_squared_error(\n",
    "        y_true  = y_test,\n",
    "        y_pred  = GradB_preds)\n",
    "print(f\"El error (rmse) de test es: {mse}\") "
   ]
  },
  {
   "cell_type": "code",
   "execution_count": 51,
   "id": "de196fde",
   "metadata": {},
   "outputs": [
    {
     "name": "stdout",
     "output_type": "stream",
     "text": [
      "Mean Absolute Error: 1.6279976587196578\n",
      "Root Mean Squared Error: 2.499888523553399\n"
     ]
    }
   ],
   "source": [
    "#metricas de error en Gradient Boosting Regressor\n",
    "print('Mean Absolute Error:', metrics.mean_absolute_error(y_test, GradB_preds))\n",
    "print('Root Mean Squared Error:', np.sqrt(metrics.mean_squared_error(y_test, GradB_preds)))"
   ]
  },
  {
   "cell_type": "code",
   "execution_count": 86,
   "id": "af512c71",
   "metadata": {},
   "outputs": [
    {
     "data": {
      "text/html": [
       "<div>\n",
       "<style scoped>\n",
       "    .dataframe tbody tr th:only-of-type {\n",
       "        vertical-align: middle;\n",
       "    }\n",
       "\n",
       "    .dataframe tbody tr th {\n",
       "        vertical-align: top;\n",
       "    }\n",
       "\n",
       "    .dataframe thead th {\n",
       "        text-align: right;\n",
       "    }\n",
       "</style>\n",
       "<table border=\"1\" class=\"dataframe\">\n",
       "  <thead>\n",
       "    <tr style=\"text-align: right;\">\n",
       "      <th></th>\n",
       "      <th>Valor Correcto</th>\n",
       "      <th>Valor predecido</th>\n",
       "    </tr>\n",
       "  </thead>\n",
       "  <tbody>\n",
       "    <tr>\n",
       "      <th>3209</th>\n",
       "      <td>8</td>\n",
       "      <td>8.429699</td>\n",
       "    </tr>\n",
       "    <tr>\n",
       "      <th>6083</th>\n",
       "      <td>10</td>\n",
       "      <td>7.426227</td>\n",
       "    </tr>\n",
       "    <tr>\n",
       "      <th>25495</th>\n",
       "      <td>8</td>\n",
       "      <td>7.958826</td>\n",
       "    </tr>\n",
       "    <tr>\n",
       "      <th>17811</th>\n",
       "      <td>10</td>\n",
       "      <td>8.887851</td>\n",
       "    </tr>\n",
       "    <tr>\n",
       "      <th>14490</th>\n",
       "      <td>9</td>\n",
       "      <td>8.110807</td>\n",
       "    </tr>\n",
       "  </tbody>\n",
       "</table>\n",
       "</div>"
      ],
      "text/plain": [
       "       Valor Correcto  Valor predecido\n",
       "3209                8         8.429699\n",
       "6083               10         7.426227\n",
       "25495               8         7.958826\n",
       "17811              10         8.887851\n",
       "14490               9         8.110807"
      ]
     },
     "execution_count": 86,
     "metadata": {},
     "output_type": "execute_result"
    }
   ],
   "source": [
    "tabla_GB = pd.DataFrame({'Valor Correcto':y_test, 'Valor predecido':GradB_preds}) \n",
    "tabla_GB.head()"
   ]
  },
  {
   "cell_type": "code",
   "execution_count": 54,
   "id": "e57b6d41",
   "metadata": {},
   "outputs": [
    {
     "data": {
      "text/plain": [
       "7275                                   decirles gracias ok\n",
       "10061               gustar precios poca oandemia suban mas\n",
       "24488    carnes frutas verduras deber an tener precios ...\n",
       "6417     muchas ocasiones salen productos da ados fruta...\n",
       "10921                  claridad precios aplican descuentos\n",
       "                               ...                        \n",
       "21033    atenci cliente sima siempre mayor empleados es...\n",
       "2974     iendo fila dijeron podr pagar caja alimentos p...\n",
       "14096    hace varios dej compras xito flora convert cli...\n",
       "24573    as electrodom sticos suben precios altos hace ...\n",
       "5990     extra ausencia marca propia ayuda ostensibleme...\n",
       "Name: Comentarios_limpios, Length: 3027, dtype: object"
      ]
     },
     "execution_count": 54,
     "metadata": {},
     "output_type": "execute_result"
    }
   ],
   "source": [
    "x_test"
   ]
  },
  {
   "cell_type": "code",
   "execution_count": 63,
   "id": "682de7cc",
   "metadata": {},
   "outputs": [
    {
     "data": {
      "text/html": [
       "<div>\n",
       "<style scoped>\n",
       "    .dataframe tbody tr th:only-of-type {\n",
       "        vertical-align: middle;\n",
       "    }\n",
       "\n",
       "    .dataframe tbody tr th {\n",
       "        vertical-align: top;\n",
       "    }\n",
       "\n",
       "    .dataframe thead th {\n",
       "        text-align: right;\n",
       "    }\n",
       "</style>\n",
       "<table border=\"1\" class=\"dataframe\">\n",
       "  <thead>\n",
       "    <tr style=\"text-align: right;\">\n",
       "      <th></th>\n",
       "      <th>Comentario Aleatorio</th>\n",
       "      <th>Valor Correcto</th>\n",
       "      <th>Valor predicho</th>\n",
       "    </tr>\n",
       "  </thead>\n",
       "  <tbody>\n",
       "    <tr>\n",
       "      <th>7275</th>\n",
       "      <td>decirles gracias ok</td>\n",
       "      <td>10</td>\n",
       "      <td>9.756383</td>\n",
       "    </tr>\n",
       "    <tr>\n",
       "      <th>10061</th>\n",
       "      <td>gustar precios poca oandemia suban mas</td>\n",
       "      <td>8</td>\n",
       "      <td>8.695878</td>\n",
       "    </tr>\n",
       "    <tr>\n",
       "      <th>24488</th>\n",
       "      <td>carnes frutas verduras deber an tener precios ...</td>\n",
       "      <td>9</td>\n",
       "      <td>8.948106</td>\n",
       "    </tr>\n",
       "    <tr>\n",
       "      <th>6417</th>\n",
       "      <td>muchas ocasiones salen productos da ados fruta...</td>\n",
       "      <td>10</td>\n",
       "      <td>8.697980</td>\n",
       "    </tr>\n",
       "    <tr>\n",
       "      <th>10921</th>\n",
       "      <td>claridad precios aplican descuentos</td>\n",
       "      <td>8</td>\n",
       "      <td>9.293938</td>\n",
       "    </tr>\n",
       "  </tbody>\n",
       "</table>\n",
       "</div>"
      ],
      "text/plain": [
       "                                    Comentario Aleatorio  Valor Correcto  \\\n",
       "7275                                 decirles gracias ok              10   \n",
       "10061             gustar precios poca oandemia suban mas               8   \n",
       "24488  carnes frutas verduras deber an tener precios ...               9   \n",
       "6417   muchas ocasiones salen productos da ados fruta...              10   \n",
       "10921                claridad precios aplican descuentos               8   \n",
       "\n",
       "       Valor predicho  \n",
       "7275         9.756383  \n",
       "10061        8.695878  \n",
       "24488        8.948106  \n",
       "6417         8.697980  \n",
       "10921        9.293938  "
      ]
     },
     "execution_count": 63,
     "metadata": {},
     "output_type": "execute_result"
    }
   ],
   "source": [
    "tabla_GB = pd.DataFrame({'Comentario Aleatorio':x_test,'Valor Correcto':y_test, 'Valor predicho':GradB_preds}) \n",
    "tabla_GB.head()"
   ]
  },
  {
   "cell_type": "markdown",
   "id": "f9a9d2bb",
   "metadata": {},
   "source": [
    "### Embedding "
   ]
  },
  {
   "cell_type": "code",
   "execution_count": 64,
   "id": "e9da8426",
   "metadata": {},
   "outputs": [],
   "source": [
    "import os"
   ]
  },
  {
   "cell_type": "code",
   "execution_count": 65,
   "id": "4d506266",
   "metadata": {},
   "outputs": [
    {
     "name": "stdout",
     "output_type": "stream",
     "text": [
      "Found 1000654 word vectors.\n"
     ]
    }
   ],
   "source": [
    "# embedding castellano\n",
    "embedding_dim = 300\n",
    "\n",
    "path_to_glove_file = os.path.join(\n",
    "    os.path.expanduser(\"~\"), \"/Users/derickmorales/Downloads/SBW-vectors-300-min5.txt\")\n",
    "\n",
    "embeddings_index = {}\n",
    "with open(path_to_glove_file) as f:\n",
    "    for line in f:\n",
    "        word, coefs = line.split(maxsplit=1)\n",
    "        coefs = np.fromstring(coefs, \"f\", sep=\" \")\n",
    "        embeddings_index[word] = coefs\n",
    "\n",
    "print(\"Found %s word vectors.\" % len(embeddings_index))"
   ]
  },
  {
   "cell_type": "code",
   "execution_count": 66,
   "id": "2970a510",
   "metadata": {},
   "outputs": [
    {
     "name": "stdout",
     "output_type": "stream",
     "text": [
      "Converted 16911 words (5226 misses)\n"
     ]
    }
   ],
   "source": [
    "hits = 0\n",
    "misses = 0\n",
    "\n",
    "embedding_matrix = np.random.random((len(word_index) + 1, embedding_dim))\n",
    "for word, i in word_index.items():   \n",
    "    embedding_vector = embeddings_index.get(word)  \n",
    "    if embedding_vector is not None:\n",
    "        embedding_matrix[i] = embedding_vector\n",
    "        hits += 1\n",
    "    else:\n",
    "        misses += 1\n",
    "        \n",
    "print(\"Converted %d words (%d misses)\" % (hits, misses))  \n"
   ]
  },
  {
   "cell_type": "code",
   "execution_count": null,
   "id": "2536484d",
   "metadata": {},
   "outputs": [],
   "source": [
    "#sumatoria de vectores del embedding para cada comentario\n",
    "# devolviendo un solo vector representativo del comentario \n",
    "\n",
    "data_vectors = []\n",
    "for item_sentence in df.Comentarios_limpios.to_numpy():\n",
    "    items_words = item_sentence.split(sep=' ') \n",
    "    vector_temp = np.zeros((1,300), dtype=float)\n",
    "    for item in items_words:\n",
    "        vector_temp = vector_temp + embeddings_index[item]\n",
    "        vector_temp = vector_temp / 25\n",
    "    data_vectors.append(vector_temp[0])\n",
    "\n",
    "df1 = pd.DataFrame(data=data_vectors)\n",
    "df1['NPS'] = df.NPS.to_numpy()\n",
    "df1.head()"
   ]
  },
  {
   "cell_type": "code",
   "execution_count": 67,
   "id": "ba4d8800",
   "metadata": {},
   "outputs": [
    {
     "data": {
      "text/plain": [
       "(22137, 22138)"
      ]
     },
     "execution_count": 67,
     "metadata": {},
     "output_type": "execute_result"
    }
   ],
   "source": [
    "#word_index = num. palabras que vectoriza el embedding\n",
    "len(word_index),    len(embedding_matrix)"
   ]
  },
  {
   "cell_type": "code",
   "execution_count": 68,
   "id": "49c21e03",
   "metadata": {},
   "outputs": [
    {
     "data": {
      "text/plain": [
       "dict"
      ]
     },
     "execution_count": 68,
     "metadata": {},
     "output_type": "execute_result"
    }
   ],
   "source": [
    "type(word_index) #diccionario que le asigna un token a cada palabra distinta"
   ]
  },
  {
   "cell_type": "code",
   "execution_count": 46,
   "id": "d98a2628",
   "metadata": {},
   "outputs": [
    {
     "data": {
      "text/plain": [
       "dict"
      ]
     },
     "execution_count": 46,
     "metadata": {},
     "output_type": "execute_result"
    }
   ],
   "source": [
    "type(embeddings_index) #dicionario del embedding utilizado, que le asigna los 300 vectores ala palabra "
   ]
  },
  {
   "cell_type": "code",
   "execution_count": 69,
   "id": "4ca9203a",
   "metadata": {},
   "outputs": [
    {
     "data": {
      "text/plain": [
       "(22137, 1000654)"
      ]
     },
     "execution_count": 69,
     "metadata": {},
     "output_type": "execute_result"
    }
   ],
   "source": [
    "len(word_index), len(embeddings_index) "
   ]
  },
  {
   "cell_type": "code",
   "execution_count": 116,
   "id": "ae7e5fbd",
   "metadata": {},
   "outputs": [
    {
     "data": {
      "text/plain": [
       "(dict, pandas.core.series.Series)"
      ]
     },
     "execution_count": 116,
     "metadata": {},
     "output_type": "execute_result"
    }
   ],
   "source": [
    "type(embeddings_index), type(Comentarios_limpios)"
   ]
  },
  {
   "cell_type": "code",
   "execution_count": 117,
   "id": "f8b0bc22",
   "metadata": {},
   "outputs": [
    {
     "data": {
      "text/plain": [
       "(1000654, 30269)"
      ]
     },
     "execution_count": 117,
     "metadata": {},
     "output_type": "execute_result"
    }
   ],
   "source": [
    "len(embeddings_index), len(Comentarios_limpios)"
   ]
  },
  {
   "cell_type": "code",
   "execution_count": 115,
   "id": "6b29c3af",
   "metadata": {},
   "outputs": [
    {
     "data": {
      "text/plain": [
       "(dict, numpy.ndarray, pandas.core.series.Series)"
      ]
     },
     "execution_count": 115,
     "metadata": {},
     "output_type": "execute_result"
    }
   ],
   "source": [
    "type(embeddings_index), type(embedding_matrix), type(Comentarios_limpios)"
   ]
  },
  {
   "cell_type": "code",
   "execution_count": 27,
   "id": "24ce8dc8",
   "metadata": {},
   "outputs": [
    {
     "data": {
      "text/plain": [
       "array([ 0.048358, -0.00164 , -0.026568,  0.064346,  0.027049,  0.026857,\n",
       "       -0.02286 ,  0.03639 ,  0.035767, -0.028711, -0.057302,  0.027581,\n",
       "        0.078093, -0.149802,  0.154569,  0.04085 , -0.033624, -0.070823,\n",
       "        0.003926, -0.034632, -0.009493, -0.089502, -0.081311,  0.097032,\n",
       "        0.086833, -0.023152, -0.076544,  0.067751,  0.060671,  0.0791  ,\n",
       "        0.02669 , -0.078213,  0.02788 , -0.001158, -0.018961,  0.030346,\n",
       "       -0.027766, -0.013391,  0.028716, -0.054395,  0.050055, -0.048826,\n",
       "       -0.013409, -0.079461, -0.030608, -0.075821, -0.010481,  0.03208 ,\n",
       "       -0.016938,  0.126305,  0.028474,  0.057286, -0.010987,  0.103091,\n",
       "       -0.078813,  0.075172, -0.011602, -0.012449,  0.094767,  0.020715,\n",
       "       -0.031707,  0.02611 , -0.039625, -0.051285, -0.021913,  0.005294,\n",
       "       -0.10579 ,  0.092779, -0.100367,  0.032994, -0.012741, -0.038141,\n",
       "       -0.088311,  0.145536, -0.075451,  0.067653, -0.077851,  0.003428,\n",
       "        0.059094, -0.065998, -0.013117, -0.076995,  0.01772 ,  0.066768,\n",
       "        0.002513, -0.049218,  0.036985, -0.034888,  0.043975, -0.047875,\n",
       "        0.036771,  0.0008  , -0.016865,  0.154833, -0.05155 ,  0.050826,\n",
       "        0.040591, -0.084026,  0.058021,  0.032029, -0.031356, -0.045844,\n",
       "       -0.030237,  0.080768, -0.025415,  0.061303,  0.02012 , -0.043074,\n",
       "        0.025751,  0.0815  , -0.034262,  0.030393,  0.09112 ,  0.082783,\n",
       "       -0.028337, -0.059414,  0.11202 ,  0.068442,  0.024648, -0.108994,\n",
       "       -0.043016, -0.00302 , -0.090577,  0.01671 ,  0.040059, -0.034787,\n",
       "        0.075994,  0.047368, -0.00019 , -0.035987,  0.108658,  0.007767,\n",
       "       -0.0539  , -0.084356, -0.012457, -0.108076,  0.000937, -0.026326,\n",
       "       -0.006529, -0.06095 ,  0.052408,  0.037675, -0.014099, -0.002911,\n",
       "        0.012596,  0.006004, -0.052669, -0.088432,  0.121938,  0.060288,\n",
       "        0.089238, -0.041531, -0.050093, -0.063748,  0.005144,  0.0513  ,\n",
       "        0.110024, -0.022864, -0.132792, -0.001859, -0.024932, -0.002026,\n",
       "        0.026672,  0.081114, -0.060031,  0.077374,  0.005536,  0.016384,\n",
       "        0.0294  , -0.026453, -0.010904, -0.106955, -0.01035 , -0.174311,\n",
       "       -0.023866, -0.047587,  0.063539, -0.072939, -0.047137,  0.034123,\n",
       "        0.045732, -0.021364,  0.041216, -0.104693, -0.027454,  0.014826,\n",
       "       -0.014714,  0.019428, -0.009268, -0.007657, -0.129626, -0.040904,\n",
       "       -0.037127,  0.035177, -0.005679,  0.011767,  0.061173, -0.010385,\n",
       "        0.095791, -0.001128, -0.066134,  0.060419, -0.064978,  0.062762,\n",
       "       -0.005145, -0.100855, -0.010012, -0.050747,  0.048827,  0.047971,\n",
       "       -0.050609, -0.032561,  0.030526,  0.058541,  0.029199, -0.043669,\n",
       "        0.004408,  0.021577, -0.047947, -0.070099, -0.111015,  0.002853,\n",
       "       -0.03218 , -0.031392,  0.001186, -0.055308,  0.03641 , -0.03516 ,\n",
       "       -0.040707,  0.016441,  0.010633,  0.039433, -0.008224, -0.048259,\n",
       "       -0.083139, -0.018432, -0.028768, -0.011836, -0.029111,  0.009328,\n",
       "        0.067007, -0.162564, -0.004049, -0.139418, -0.080174, -0.045676,\n",
       "       -0.101801, -0.051702,  0.007993,  0.026354,  0.01075 ,  0.012417,\n",
       "       -0.007327, -0.036274, -0.015898,  0.020696,  0.01676 , -0.019061,\n",
       "       -0.06092 ,  0.090321,  0.058052,  0.080957,  0.044486, -0.019407,\n",
       "        0.044181,  0.01165 , -0.028271,  0.051724, -0.093881,  0.028956,\n",
       "        0.027377,  0.066917,  0.000464,  0.07935 , -0.024909,  0.042774,\n",
       "       -0.059054,  0.003353,  0.01737 ,  0.043122,  0.002506, -0.047151,\n",
       "       -0.045555,  0.100457,  0.038359,  0.001914,  0.012258,  0.010236,\n",
       "       -0.004377, -0.043997,  0.026625,  0.050548, -0.087867,  0.10394 ,\n",
       "       -0.056414,  0.028131, -0.033492, -0.087453,  0.041947, -0.061742],\n",
       "      dtype=float32)"
      ]
     },
     "execution_count": 27,
     "metadata": {},
     "output_type": "execute_result"
    }
   ],
   "source": [
    "embeddings_index['producto']   #ejemplo vectorizacion palabra 300d. "
   ]
  },
  {
   "cell_type": "code",
   "execution_count": 28,
   "id": "abbfb5a6",
   "metadata": {},
   "outputs": [
    {
     "data": {
      "text/plain": [
       "array([-7.27946684e-02,  4.07099957e-03,  3.17433327e-02, -4.82533360e-03,\n",
       "       -4.19120006e-02,  5.53653352e-02,  1.35596665e-02, -2.48729978e-02,\n",
       "       -6.98335469e-04, -3.00316662e-02, -1.91120002e-02, -5.58256656e-02,\n",
       "       -2.14896705e-02, -4.92889993e-02,  8.03846642e-02,  5.30873351e-02,\n",
       "        1.43613322e-02,  8.19966570e-03,  2.24843323e-02, -2.25586668e-02,\n",
       "       -1.70990005e-02, -7.92913362e-02,  4.15923335e-02,  4.80646677e-02,\n",
       "        1.36563331e-02, -8.41876641e-02, -4.02796678e-02,  6.43553287e-02,\n",
       "       -3.53596695e-02,  1.45236671e-01,  2.26196647e-02, -3.16476636e-02,\n",
       "       -4.91133565e-03, -2.84946654e-02,  3.21773328e-02,  9.34666768e-03,\n",
       "       -1.02633366e-03, -2.83590015e-02, -1.51530011e-02, -2.44126674e-02,\n",
       "        2.28396654e-02,  3.79186682e-02, -3.26060019e-02, -2.27420013e-02,\n",
       "        4.18643355e-02, -5.32613285e-02,  5.84309995e-02,  2.57936660e-02,\n",
       "        5.64699993e-03,  2.41873339e-02,  1.50643326e-02,  4.21366654e-02,\n",
       "       -1.24039995e-02, -5.17700007e-03, -4.81776632e-02,  4.06063348e-02,\n",
       "       -6.19230010e-02, -3.29663306e-02,  5.87256663e-02,  7.34366663e-03,\n",
       "       -6.43969998e-02,  4.04529981e-02,  1.47796674e-02, -1.64296646e-02,\n",
       "       -1.28640002e-02,  1.94963347e-02, -1.73160005e-02,  8.73343349e-02,\n",
       "       -2.00550016e-02, -3.80133279e-03,  2.02623364e-02, -8.99643302e-02,\n",
       "       -1.81536656e-02,  4.96090017e-02, -3.99389975e-02,  9.02540088e-02,\n",
       "       -8.53273273e-02, -3.66456658e-02, -1.75633337e-02, -7.07546696e-02,\n",
       "        3.43993343e-02, -8.73333775e-05,  1.48743344e-02,  5.53599978e-03,\n",
       "       -2.67980006e-02, -1.57700013e-02,  4.24680002e-02,  2.01333333e-02,\n",
       "        3.80123295e-02,  2.03799945e-03,  1.18589997e-02, -2.54879985e-02,\n",
       "        6.15203343e-02, -4.43966687e-03, -1.95413325e-02, -4.98366589e-03,\n",
       "       -8.73766746e-03, -5.75066730e-03, -3.83120030e-02,  4.72369976e-02,\n",
       "       -7.82103315e-02, -2.53963321e-02, -2.49706656e-02,  4.29026671e-02,\n",
       "       -3.38776670e-02, -5.01166796e-03, -3.99529971e-02, -3.58356684e-02,\n",
       "       -5.05050011e-02,  4.83813398e-02, -4.59199911e-03,  2.53933314e-02,\n",
       "       -1.22833336e-02,  6.17936663e-02, -1.12996669e-02, -3.04963347e-02,\n",
       "        4.22450006e-02, -2.18320023e-02, -9.78566613e-03, -1.36730000e-02,\n",
       "        3.03246677e-02,  5.72309978e-02, -4.66293357e-02, -3.52590010e-02,\n",
       "       -5.77300228e-03,  4.30316627e-02,  5.26970029e-02, -3.78663354e-02,\n",
       "        2.18860004e-02, -5.25463335e-02,  3.31850015e-02,  2.83999997e-03,\n",
       "       -1.34333223e-03,  3.14360000e-02, -5.85843325e-02,  3.85266654e-02,\n",
       "        1.34593323e-02, -3.01623344e-02, -5.81300026e-03,  7.83566665e-03,\n",
       "       -5.47050051e-02,  4.20983322e-02, -1.73646677e-02,  2.40916666e-02,\n",
       "       -2.08540019e-02,  1.76866669e-02,  3.96783315e-02, -5.80619983e-02,\n",
       "        6.59423396e-02,  2.90000200e-04,  3.62980030e-02, -6.10920005e-02,\n",
       "       -5.49796671e-02, -3.32156681e-02, -2.42580008e-02, -3.12086642e-02,\n",
       "        3.24603356e-02,  1.55916670e-02, -8.23853314e-02, -3.89396660e-02,\n",
       "       -1.55359991e-02, -9.62903276e-02,  1.95460003e-02,  4.62433416e-03,\n",
       "       -2.14153323e-02, -3.06466664e-03,  1.28843337e-02,  6.28496706e-02,\n",
       "        1.84493344e-02, -1.08500002e-02, -4.30173390e-02, -2.10936684e-02,\n",
       "       -5.01099974e-03, -2.47933273e-03,  6.79813400e-02, -4.05206643e-02,\n",
       "       -3.04566720e-03, -2.81373337e-02,  7.01466715e-03, -1.52343325e-02,\n",
       "        8.36599991e-03, -6.22633332e-03,  2.63026673e-02, -2.49629989e-02,\n",
       "       -1.82309989e-02, -1.60026681e-02,  1.59400085e-03,  1.68356653e-02,\n",
       "       -2.91576628e-02,  4.42356654e-02, -2.84563322e-02,  1.78996678e-02,\n",
       "        9.43866745e-03, -4.67723310e-02, -3.98430005e-02,  2.84689981e-02,\n",
       "        1.52566656e-03,  7.85846710e-02,  2.79903337e-02, -3.14549990e-02,\n",
       "       -8.05549994e-02, -6.17143326e-02, -3.92966578e-03,  8.39400012e-03,\n",
       "        1.75116677e-02,  2.39193309e-02,  2.77086645e-02,  2.13166652e-03,\n",
       "       -1.73216667e-02, -8.78200028e-03, -2.79736668e-02, -5.23790009e-02,\n",
       "       -3.14456671e-02, -2.93699908e-03,  4.73253317e-02, -9.26033407e-03,\n",
       "       -2.94586662e-02,  1.51986666e-02, -2.56793331e-02, -4.85666692e-02,\n",
       "        3.59986685e-02,  3.40839997e-02, -4.91626672e-02,  3.52000003e-03,\n",
       "        1.34799874e-03, -1.35083338e-02,  2.74560004e-02,  1.67256668e-02,\n",
       "       -5.46786636e-02, -4.64899931e-03,  3.68029997e-02,  9.54733416e-03,\n",
       "       -2.56499951e-03, -2.86723319e-02, -8.44633300e-03,  6.43013343e-02,\n",
       "        2.39733309e-02,  5.36033278e-03, -1.58037320e-01,  1.04843341e-02,\n",
       "        4.64819968e-02, -4.62533347e-02, -3.40430029e-02, -6.84096739e-02,\n",
       "       -5.85713349e-02, -7.61866570e-03,  4.74786647e-02, -4.38836664e-02,\n",
       "       -3.31810005e-02,  1.26143321e-02,  8.17186609e-02,  1.47396671e-02,\n",
       "        6.56616688e-02,  8.64333182e-04, -6.18529953e-02, -3.46486680e-02,\n",
       "        1.99503340e-02,  1.26076667e-02, -5.62659986e-02,  4.28969972e-02,\n",
       "        7.04686716e-02,  8.55546668e-02,  1.37320003e-02,  5.28713353e-02,\n",
       "       -3.75159979e-02, -2.95403320e-02,  3.75333242e-04,  3.24176662e-02,\n",
       "       -2.48496663e-02,  6.31086677e-02,  2.58033234e-03,  1.85260009e-02,\n",
       "        2.72903349e-02,  2.36859992e-02, -1.61016677e-02,  3.73216681e-02,\n",
       "        1.59636680e-02,  4.96370010e-02,  4.79843318e-02,  2.01223325e-02,\n",
       "        1.47333369e-04,  1.91413332e-02, -7.08353296e-02,  3.06989998e-02,\n",
       "        8.19996670e-02, -7.87099972e-02,  3.88633348e-02,  1.21430000e-02,\n",
       "        3.59673351e-02, -5.24846725e-02, -3.92626673e-02,  3.32623310e-02,\n",
       "       -4.83613312e-02, -7.72999891e-04, -3.22866701e-02, -6.91973343e-02,\n",
       "       -4.49433317e-03, -2.35969964e-02, -3.14016677e-02, -2.99260002e-02],\n",
       "      dtype=float32)"
      ]
     },
     "execution_count": 28,
     "metadata": {},
     "output_type": "execute_result"
    }
   ],
   "source": [
    "#ejemplo sumando 3 palabras de un comentario para tener un vector representativo de las 3 \n",
    "(embeddings_index['mejorar']+embeddings_index['tema']+embeddings_index['cajas'])/3"
   ]
  },
  {
   "cell_type": "code",
   "execution_count": 70,
   "id": "8ec62b02",
   "metadata": {},
   "outputs": [
    {
     "data": {
      "text/plain": [
       "(30269, 1000654, 22138, 22137)"
      ]
     },
     "execution_count": 70,
     "metadata": {},
     "output_type": "execute_result"
    }
   ],
   "source": [
    "len(Comentarios_limpios), len(embeddings_index), len(embedding_matrix), len(word_index)"
   ]
  },
  {
   "cell_type": "code",
   "execution_count": 52,
   "id": "f0d030ce",
   "metadata": {},
   "outputs": [
    {
     "data": {
      "text/plain": [
       "'permitir mezclar productos aseo ndolas comida'"
      ]
     },
     "execution_count": 52,
     "metadata": {},
     "output_type": "execute_result"
    }
   ],
   "source": [
    "#ejemplo comentario, podemos notar errores ortograficos \n",
    "df.Comentarios_limpios.iloc[1]"
   ]
  },
  {
   "cell_type": "code",
   "execution_count": 71,
   "id": "da8046a0",
   "metadata": {},
   "outputs": [
    {
     "data": {
      "text/plain": [
       "(numpy.ndarray, 22138)"
      ]
     },
     "execution_count": 71,
     "metadata": {},
     "output_type": "execute_result"
    }
   ],
   "source": [
    "#input, array \n",
    "# 22138 son las palabras distintas que el embedding intenta buscar\n",
    "type(embedding_matrix), len(embedding_matrix)"
   ]
  },
  {
   "cell_type": "code",
   "execution_count": 72,
   "id": "6934fbe1",
   "metadata": {},
   "outputs": [],
   "source": [
    "vocab_size = 22138 "
   ]
  },
  {
   "cell_type": "markdown",
   "id": "5dadbfb1",
   "metadata": {},
   "source": [
    "# Modelos"
   ]
  },
  {
   "cell_type": "markdown",
   "id": "f4e507b0",
   "metadata": {},
   "source": [
    "### Red Neuronal"
   ]
  },
  {
   "cell_type": "code",
   "execution_count": 73,
   "id": "7d187d04",
   "metadata": {},
   "outputs": [],
   "source": [
    "from tensorflow.keras import optimizers  \n",
    "from tensorflow.keras.optimizers import Adam\n",
    "from tensorflow.keras.optimizers import SGD \n",
    "from tensorflow.keras.layers import Embedding"
   ]
  },
  {
   "cell_type": "code",
   "execution_count": 74,
   "id": "70b46329",
   "metadata": {},
   "outputs": [],
   "source": [
    "from keras import models \n",
    "from keras import layers"
   ]
  },
  {
   "cell_type": "code",
   "execution_count": 75,
   "id": "2d3d1e0d",
   "metadata": {},
   "outputs": [
    {
     "data": {
      "text/plain": [
       "22137"
      ]
     },
     "execution_count": 75,
     "metadata": {},
     "output_type": "execute_result"
    }
   ],
   "source": [
    "len_word_index = len(word_index)\n",
    "len_word_index "
   ]
  },
  {
   "cell_type": "code",
   "execution_count": 81,
   "id": "855edf5b",
   "metadata": {},
   "outputs": [
    {
     "data": {
      "text/plain": [
       "((19069, 25), (8173, 25), (3027, 25))"
      ]
     },
     "execution_count": 81,
     "metadata": {},
     "output_type": "execute_result"
    }
   ],
   "source": [
    "x_train_pad.shape, x_val_pad.shape ,x_test_pad.shape "
   ]
  },
  {
   "cell_type": "code",
   "execution_count": 114,
   "id": "6287b23b",
   "metadata": {
    "scrolled": true
   },
   "outputs": [
    {
     "name": "stdout",
     "output_type": "stream",
     "text": [
      "Model: \"sequential_6\"\n",
      "_________________________________________________________________\n",
      "Layer (type)                 Output Shape              Param #   \n",
      "=================================================================\n",
      "embedding_11 (Embedding)     (None, 25, 300)           6641400   \n",
      "_________________________________________________________________\n",
      "flatten_6 (Flatten)          (None, 7500)              0         \n",
      "_________________________________________________________________\n",
      "dense_33 (Dense)             (None, 256)               1920256   \n",
      "_________________________________________________________________\n",
      "dense_34 (Dense)             (None, 256)               65792     \n",
      "_________________________________________________________________\n",
      "dense_35 (Dense)             (None, 1)                 257       \n",
      "=================================================================\n",
      "Total params: 8,627,705\n",
      "Trainable params: 1,986,305\n",
      "Non-trainable params: 6,641,400\n",
      "_________________________________________________________________\n"
     ]
    }
   ],
   "source": [
    "#modelo 1 api Sequential\n",
    "\n",
    "model = models.Sequential()\n",
    "model.add(Embedding(input_dim=len_word_index + 1\n",
    "                   ,output_dim = embedding_dim\n",
    "                   , weights=[embedding_matrix]\n",
    "                   ,input_length=max_length\n",
    "                   ,trainable=False))\n",
    "\n",
    "\n",
    "\n",
    "model.add(layers.Flatten())                               \n",
    "model.add(layers.Dense(256, activation='relu'))  \n",
    "model.add(layers.Dense(256, activation='relu'))    \n",
    "model.add(layers.Dense(1))\n",
    "\n",
    "optimizer = keras.optimizers.Adam(learning_rate=1e-2)  #quite un cero\n",
    "\n",
    "model.compile(loss='mean_absolute_error', #'mae'\n",
    "            optimizer=optimizer,\n",
    "            metrics=['mse','mae'])  \n",
    "\n",
    "model.summary()  "
   ]
  },
  {
   "cell_type": "code",
   "execution_count": 115,
   "id": "a524d342",
   "metadata": {},
   "outputs": [],
   "source": [
    "#early stop\n",
    "\n",
    "tf.keras.callbacks.EarlyStopping(\n",
    "    monitor=\"val_loss\", #val_mae\n",
    "    min_delta=0,\n",
    "    patience=0,\n",
    "    verbose=0,\n",
    "    mode=\"auto\",\n",
    "    baseline=None,\n",
    "    restore_best_weights=False,\n",
    ")\n",
    "\n",
    "callback = tf.keras.callbacks.EarlyStopping(monitor='loss', patience=4)"
   ]
  },
  {
   "cell_type": "code",
   "execution_count": 116,
   "id": "4f62bd80",
   "metadata": {
    "scrolled": true
   },
   "outputs": [
    {
     "name": "stdout",
     "output_type": "stream",
     "text": [
      "Epoch 1/50\n",
      "298/298 [==============================] - 5s 17ms/step - loss: 9.6911 - mse: 2730.2511 - mae: 9.6911 - val_loss: 1.6823 - val_mse: 6.3576 - val_mae: 1.6823\n",
      "Epoch 2/50\n",
      "298/298 [==============================] - 5s 16ms/step - loss: 1.7977 - mse: 7.0527 - mae: 1.7977 - val_loss: 1.7049 - val_mse: 5.9260 - val_mae: 1.7049\n",
      "Epoch 3/50\n",
      "298/298 [==============================] - 5s 17ms/step - loss: 1.6686 - mse: 6.3241 - mae: 1.6686 - val_loss: 1.6406 - val_mse: 6.4715 - val_mae: 1.6406\n",
      "Epoch 4/50\n",
      "298/298 [==============================] - 5s 17ms/step - loss: 1.6353 - mse: 6.2903 - mae: 1.6353 - val_loss: 1.6324 - val_mse: 6.5420 - val_mae: 1.6324\n",
      "Epoch 5/50\n",
      "298/298 [==============================] - 5s 17ms/step - loss: 1.6083 - mse: 6.0666 - mae: 1.6083 - val_loss: 1.6628 - val_mse: 6.1488 - val_mae: 1.6628\n",
      "Epoch 6/50\n",
      "298/298 [==============================] - 5s 18ms/step - loss: 1.5846 - mse: 5.7986 - mae: 1.5846 - val_loss: 1.7017 - val_mse: 7.0504 - val_mae: 1.7017\n",
      "Epoch 7/50\n",
      "298/298 [==============================] - 5s 18ms/step - loss: 1.5582 - mse: 5.7451 - mae: 1.5582 - val_loss: 1.8245 - val_mse: 7.8603 - val_mae: 1.8245\n",
      "Epoch 8/50\n",
      "298/298 [==============================] - 5s 18ms/step - loss: 1.5568 - mse: 5.7586 - mae: 1.5568 - val_loss: 1.6554 - val_mse: 5.7834 - val_mae: 1.6554\n",
      "Epoch 9/50\n",
      "298/298 [==============================] - 5s 18ms/step - loss: 1.5420 - mse: 5.7099 - mae: 1.5420 - val_loss: 1.6467 - val_mse: 6.7813 - val_mae: 1.6467\n",
      "Epoch 10/50\n",
      "298/298 [==============================] - 5s 17ms/step - loss: 1.5453 - mse: 5.9261 - mae: 1.5453 - val_loss: 1.6212 - val_mse: 6.2302 - val_mae: 1.6212\n",
      "Epoch 11/50\n",
      "298/298 [==============================] - 5s 17ms/step - loss: 1.4840 - mse: 5.3488 - mae: 1.4840 - val_loss: 1.6326 - val_mse: 6.5645 - val_mae: 1.6326\n",
      "Epoch 12/50\n",
      "298/298 [==============================] - 5s 17ms/step - loss: 1.5184 - mse: 5.4980 - mae: 1.5184 - val_loss: 1.6933 - val_mse: 5.7246 - val_mae: 1.6933\n",
      "Epoch 13/50\n",
      "298/298 [==============================] - 5s 17ms/step - loss: 1.5139 - mse: 5.5115 - mae: 1.5139 - val_loss: 1.6863 - val_mse: 6.9497 - val_mae: 1.6863\n",
      "Epoch 14/50\n",
      "298/298 [==============================] - 5s 18ms/step - loss: 1.4665 - mse: 5.3831 - mae: 1.4665 - val_loss: 1.6373 - val_mse: 6.5165 - val_mae: 1.6373\n",
      "Epoch 15/50\n",
      "298/298 [==============================] - 5s 18ms/step - loss: 1.5008 - mse: 5.4155 - mae: 1.5008 - val_loss: 1.6794 - val_mse: 6.8773 - val_mae: 1.6794\n",
      "Epoch 16/50\n",
      "298/298 [==============================] - 6s 19ms/step - loss: 1.4790 - mse: 5.3635 - mae: 1.4790 - val_loss: 1.6491 - val_mse: 5.8453 - val_mae: 1.6491\n",
      "Epoch 17/50\n",
      "298/298 [==============================] - 6s 20ms/step - loss: 1.4624 - mse: 5.3293 - mae: 1.4624 - val_loss: 1.6774 - val_mse: 6.8214 - val_mae: 1.6774\n",
      "Epoch 18/50\n",
      "298/298 [==============================] - 5s 18ms/step - loss: 1.4761 - mse: 5.3985 - mae: 1.4761 - val_loss: 1.6140 - val_mse: 6.2306 - val_mae: 1.6140\n",
      "Epoch 19/50\n",
      "298/298 [==============================] - 5s 18ms/step - loss: 1.4552 - mse: 5.3137 - mae: 1.4552 - val_loss: 1.7057 - val_mse: 6.8928 - val_mae: 1.7057\n",
      "Epoch 20/50\n",
      "298/298 [==============================] - 5s 18ms/step - loss: 1.4609 - mse: 5.1894 - mae: 1.4609 - val_loss: 1.7291 - val_mse: 5.6449 - val_mae: 1.7291\n",
      "Epoch 21/50\n",
      "298/298 [==============================] - 5s 18ms/step - loss: 1.4281 - mse: 5.0634 - mae: 1.4281 - val_loss: 1.6027 - val_mse: 6.0599 - val_mae: 1.6027\n",
      "Epoch 22/50\n",
      "298/298 [==============================] - 6s 19ms/step - loss: 1.4482 - mse: 5.2947 - mae: 1.4482 - val_loss: 1.6317 - val_mse: 6.4810 - val_mae: 1.6317\n",
      "Epoch 23/50\n",
      "298/298 [==============================] - 5s 17ms/step - loss: 1.4389 - mse: 5.1364 - mae: 1.4389 - val_loss: 1.6573 - val_mse: 6.5482 - val_mae: 1.6573\n",
      "Epoch 24/50\n",
      "298/298 [==============================] - 5s 17ms/step - loss: 1.4228 - mse: 5.1270 - mae: 1.4228 - val_loss: 1.7096 - val_mse: 6.7979 - val_mae: 1.7096\n",
      "Epoch 25/50\n",
      "298/298 [==============================] - 5s 17ms/step - loss: 1.4330 - mse: 5.1569 - mae: 1.4330 - val_loss: 1.6429 - val_mse: 5.8139 - val_mae: 1.6429\n",
      "Epoch 26/50\n",
      "298/298 [==============================] - 5s 17ms/step - loss: 1.4172 - mse: 5.0834 - mae: 1.4172 - val_loss: 1.7136 - val_mse: 5.5651 - val_mae: 1.7136\n",
      "Epoch 27/50\n",
      "298/298 [==============================] - 5s 18ms/step - loss: 1.4075 - mse: 5.0000 - mae: 1.4075 - val_loss: 1.6193 - val_mse: 6.3565 - val_mae: 1.6193\n",
      "Epoch 28/50\n",
      "298/298 [==============================] - 6s 20ms/step - loss: 1.4059 - mse: 5.0641 - mae: 1.4059 - val_loss: 1.6234 - val_mse: 6.3503 - val_mae: 1.6234\n",
      "Epoch 29/50\n",
      "298/298 [==============================] - 5s 18ms/step - loss: 1.4086 - mse: 5.0586 - mae: 1.4086 - val_loss: 1.6085 - val_mse: 5.9863 - val_mae: 1.6085\n",
      "Epoch 30/50\n",
      "298/298 [==============================] - 5s 18ms/step - loss: 1.3994 - mse: 5.0437 - mae: 1.3994 - val_loss: 1.6204 - val_mse: 5.8298 - val_mae: 1.6204\n",
      "Epoch 31/50\n",
      "298/298 [==============================] - 6s 19ms/step - loss: 1.4528 - mse: 5.1517 - mae: 1.4528 - val_loss: 1.6358 - val_mse: 5.6895 - val_mae: 1.6358\n",
      "Epoch 32/50\n",
      "298/298 [==============================] - 6s 18ms/step - loss: 1.4179 - mse: 4.9172 - mae: 1.4179 - val_loss: 1.6460 - val_mse: 5.7070 - val_mae: 1.6460\n",
      "Epoch 33/50\n",
      "298/298 [==============================] - 6s 20ms/step - loss: 1.4407 - mse: 5.2129 - mae: 1.4407 - val_loss: 1.6028 - val_mse: 6.0646 - val_mae: 1.6028\n",
      "Epoch 34/50\n",
      "298/298 [==============================] - 7s 23ms/step - loss: 1.4015 - mse: 4.8800 - mae: 1.4015 - val_loss: 1.6145 - val_mse: 5.8774 - val_mae: 1.6145\n"
     ]
    },
    {
     "data": {
      "text/plain": [
       "34"
      ]
     },
     "execution_count": 116,
     "metadata": {},
     "output_type": "execute_result"
    }
   ],
   "source": [
    "history = model.fit(x_train_pad,y_train,\n",
    "                   epochs=50, \n",
    "                   batch_size=64, \n",
    "                   callbacks=[callback],\n",
    "                   validation_data=(x_val_pad, y_val))  \n",
    "\n",
    "len(history.history['loss'])"
   ]
  },
  {
   "cell_type": "code",
   "execution_count": 117,
   "id": "85805e8e",
   "metadata": {
    "scrolled": true
   },
   "outputs": [
    {
     "data": {
      "image/png": "[encoded data removed]",
      "text/plain": [
       "<Figure size 432x288 with 1 Axes>"
      ]
     },
     "metadata": {
      "needs_background": "light"
     },
     "output_type": "display_data"
    },
    {
     "data": {
      "image/png": "[encoded data removed]",
      "text/plain": [
       "<Figure size 432x288 with 1 Axes>"
      ]
     },
     "metadata": {
      "needs_background": "light"
     },
     "output_type": "display_data"
    }
   ],
   "source": [
    "#graficos comparacion metricas de error en entrenamiento vs validacion\n",
    "plot_graphs(history, \"mse\") \n",
    "plot_graphs(history, \"mae\") "
   ]
  },
  {
   "cell_type": "code",
   "execution_count": 64,
   "id": "8ec1d43b",
   "metadata": {},
   "outputs": [
    {
     "data": {
      "text/plain": [
       "array([[8.898596 ],\n",
       "       [8.282033 ],\n",
       "       [8.101082 ],\n",
       "       ...,\n",
       "       [7.2646456],\n",
       "       [8.950983 ],\n",
       "       [8.503765 ]], dtype=float32)"
      ]
     },
     "execution_count": 64,
     "metadata": {},
     "output_type": "execute_result"
    }
   ],
   "source": [
    "predictions_x = model.predict(x_test_pad)\n",
    "predictions_x"
   ]
  },
  {
   "cell_type": "code",
   "execution_count": 65,
   "id": "92a47a12",
   "metadata": {},
   "outputs": [
    {
     "name": "stdout",
     "output_type": "stream",
     "text": [
      "596/596 [==============================] - 3s 5ms/step - loss: 1.3759 - mse: 4.9171 - mae: 1.3759\n"
     ]
    }
   ],
   "source": [
    "evaluate_train = model.evaluate(x_train_pad, y_train)"
   ]
  },
  {
   "cell_type": "code",
   "execution_count": 66,
   "id": "04c41648",
   "metadata": {},
   "outputs": [
    {
     "name": "stdout",
     "output_type": "stream",
     "text": [
      "256/256 [==============================] - 1s 5ms/step - loss: 1.6825 - mse: 6.5040 - mae: 1.6825\n"
     ]
    }
   ],
   "source": [
    "evaluate_validation = model.evaluate(x_val_pad, y_val)"
   ]
  },
  {
   "cell_type": "code",
   "execution_count": 67,
   "id": "c1c94973",
   "metadata": {},
   "outputs": [
    {
     "name": "stdout",
     "output_type": "stream",
     "text": [
      "95/95 [==============================] - 1s 5ms/step - loss: 1.6169 - mse: 5.9218 - mae: 1.6169\n"
     ]
    }
   ],
   "source": [
    "evaluate_test = model.evaluate(x_test_pad, y_test)"
   ]
  },
  {
   "cell_type": "code",
   "execution_count": 90,
   "id": "f06a3651",
   "metadata": {},
   "outputs": [],
   "source": [
    "#model1_Seq = pd.DataFrame({'Validation':evaluate_validation, 'Test':evaluate_test}) \n",
    "#model1_Seq"
   ]
  },
  {
   "cell_type": "code",
   "execution_count": null,
   "id": "b8d2b671",
   "metadata": {},
   "outputs": [],
   "source": []
  },
  {
   "cell_type": "code",
   "execution_count": 68,
   "id": "59c286e5",
   "metadata": {},
   "outputs": [],
   "source": [
    "#Modelo 2 api Functional"
   ]
  },
  {
   "cell_type": "code",
   "execution_count": 70,
   "id": "df66a805",
   "metadata": {},
   "outputs": [],
   "source": [
    "input_layer = layers.Input(shape=(25,))  \n",
    "\n",
    "embedding = layers.Embedding(input_dim=len_word_index + 1\n",
    "                   ,output_dim = embedding_dim\n",
    "                   , weights=[embedding_matrix]\n",
    "                   ,input_length=max_length\n",
    "                   ,trainable=False) (input_layer)"
   ]
  },
  {
   "cell_type": "code",
   "execution_count": 71,
   "id": "3a55e9de",
   "metadata": {},
   "outputs": [],
   "source": [
    "_, uno, dos = embedding.shape"
   ]
  },
  {
   "cell_type": "code",
   "execution_count": 72,
   "id": "c41c6056",
   "metadata": {},
   "outputs": [
    {
     "data": {
      "text/plain": [
       "(25, 300)"
      ]
     },
     "execution_count": 72,
     "metadata": {},
     "output_type": "execute_result"
    }
   ],
   "source": [
    "uno, dos"
   ]
  },
  {
   "cell_type": "code",
   "execution_count": 92,
   "id": "60cf5908",
   "metadata": {},
   "outputs": [
    {
     "name": "stdout",
     "output_type": "stream",
     "text": [
      "Model: \"model_3\"\n",
      "__________________________________________________________________________________________________\n",
      "Layer (type)                    Output Shape         Param #     Connected to                     \n",
      "==================================================================================================\n",
      "input_4 (InputLayer)            [(None, 25)]         0                                            \n",
      "__________________________________________________________________________________________________\n",
      "embedding_5 (Embedding)         (None, 25, 300)      6641400     input_4[0][0]                    \n",
      "__________________________________________________________________________________________________\n",
      "tf.unstack_3 (TFOpLambda)       [(None, 300), (None, 0           embedding_5[0][0]                \n",
      "__________________________________________________________________________________________________\n",
      "average_3 (Average)             (None, 300)          0           tf.unstack_3[0][0]               \n",
      "                                                                 tf.unstack_3[0][1]               \n",
      "                                                                 tf.unstack_3[0][2]               \n",
      "                                                                 tf.unstack_3[0][3]               \n",
      "                                                                 tf.unstack_3[0][4]               \n",
      "                                                                 tf.unstack_3[0][5]               \n",
      "                                                                 tf.unstack_3[0][6]               \n",
      "                                                                 tf.unstack_3[0][7]               \n",
      "                                                                 tf.unstack_3[0][8]               \n",
      "                                                                 tf.unstack_3[0][9]               \n",
      "                                                                 tf.unstack_3[0][10]              \n",
      "                                                                 tf.unstack_3[0][11]              \n",
      "                                                                 tf.unstack_3[0][12]              \n",
      "                                                                 tf.unstack_3[0][13]              \n",
      "                                                                 tf.unstack_3[0][14]              \n",
      "                                                                 tf.unstack_3[0][15]              \n",
      "                                                                 tf.unstack_3[0][16]              \n",
      "                                                                 tf.unstack_3[0][17]              \n",
      "                                                                 tf.unstack_3[0][18]              \n",
      "                                                                 tf.unstack_3[0][19]              \n",
      "                                                                 tf.unstack_3[0][20]              \n",
      "                                                                 tf.unstack_3[0][21]              \n",
      "                                                                 tf.unstack_3[0][22]              \n",
      "                                                                 tf.unstack_3[0][23]              \n",
      "                                                                 tf.unstack_3[0][24]              \n",
      "__________________________________________________________________________________________________\n",
      "dense_15 (Dense)                (None, 512)          154112      average_3[0][0]                  \n",
      "__________________________________________________________________________________________________\n",
      "dense_16 (Dense)                (None, 256)          131328      dense_15[0][0]                   \n",
      "__________________________________________________________________________________________________\n",
      "dense_17 (Dense)                (None, 1)            257         dense_16[0][0]                   \n",
      "==================================================================================================\n",
      "Total params: 6,927,097\n",
      "Trainable params: 285,697\n",
      "Non-trainable params: 6,641,400\n",
      "__________________________________________________________________________________________________\n"
     ]
    }
   ],
   "source": [
    "#Modelo 2 API Funcional\n",
    "\n",
    "input_layer = layers.Input(shape=(25,))         \n",
    "embedding = layers.Embedding(input_dim=len_word_index + 1\n",
    "                   ,output_dim = embedding_dim\n",
    "                   , weights=[embedding_matrix]\n",
    "                   ,input_length=max_length\n",
    "                   ,trainable=False)(input_layer)\n",
    "\n",
    "_, dim_rows, dim_columns = embedding.shape\n",
    "\n",
    "\n",
    "word_list = tf.unstack(embedding, axis=1)\n",
    "merging = layers.Average()(word_list)\n",
    "\n",
    "\n",
    "dense1 = layers.Dense(512, activation=\"relu\")(merging)\n",
    "dense2 = layers.Dense(256, activation=\"relu\")(dense1)\n",
    "output = layers.Dense(1)(dense2)\n",
    "\n",
    "model = tf.keras.models.Model(inputs=[input_layer], outputs=[output])\n",
    "optimizer = keras.optimizers.Adam(lr=0.001) \n",
    "model.compile(loss='mean_absolute_error',  \n",
    "            optimizer=optimizer,\n",
    "            metrics=['mse','mae'])\n",
    "\n",
    "model.summary()"
   ]
  },
  {
   "cell_type": "code",
   "execution_count": 93,
   "id": "67a08bfe",
   "metadata": {},
   "outputs": [
    {
     "name": "stdout",
     "output_type": "stream",
     "text": [
      "Epoch 1/50\n",
      "298/298 [==============================] - 4s 11ms/step - loss: 2.3821 - mse: 11.2159 - mae: 2.3821 - val_loss: 1.7277 - val_mse: 6.1775 - val_mae: 1.7277\n",
      "Epoch 2/50\n",
      "298/298 [==============================] - 3s 9ms/step - loss: 1.7391 - mse: 6.7268 - mae: 1.7391 - val_loss: 1.7499 - val_mse: 6.0626 - val_mae: 1.7499\n",
      "Epoch 3/50\n",
      "298/298 [==============================] - 3s 9ms/step - loss: 1.6931 - mse: 6.5800 - mae: 1.6931 - val_loss: 1.7619 - val_mse: 5.9738 - val_mae: 1.7619\n",
      "Epoch 4/50\n",
      "298/298 [==============================] - 3s 10ms/step - loss: 1.7335 - mse: 6.7146 - mae: 1.7335 - val_loss: 1.7454 - val_mse: 7.5780 - val_mae: 1.7454\n",
      "Epoch 5/50\n",
      "298/298 [==============================] - 3s 9ms/step - loss: 1.7038 - mse: 6.7549 - mae: 1.7038 - val_loss: 1.6898 - val_mse: 6.0637 - val_mae: 1.6898\n",
      "Epoch 6/50\n",
      "298/298 [==============================] - 3s 10ms/step - loss: 1.6852 - mse: 6.5312 - mae: 1.6852 - val_loss: 1.6556 - val_mse: 6.6945 - val_mae: 1.6556\n",
      "Epoch 7/50\n",
      "298/298 [==============================] - 3s 9ms/step - loss: 1.7033 - mse: 6.6555 - mae: 1.7033 - val_loss: 1.8483 - val_mse: 5.8966 - val_mae: 1.8483\n",
      "Epoch 8/50\n",
      "298/298 [==============================] - 3s 9ms/step - loss: 1.7195 - mse: 6.5890 - mae: 1.7195 - val_loss: 1.6531 - val_mse: 6.7383 - val_mae: 1.6531\n",
      "Epoch 9/50\n",
      "298/298 [==============================] - 3s 10ms/step - loss: 1.6890 - mse: 6.5593 - mae: 1.6890 - val_loss: 1.6436 - val_mse: 6.6683 - val_mae: 1.6436\n",
      "Epoch 10/50\n",
      "298/298 [==============================] - 3s 11ms/step - loss: 1.6665 - mse: 6.5736 - mae: 1.6665 - val_loss: 1.6888 - val_mse: 5.9320 - val_mae: 1.6888\n",
      "Epoch 11/50\n",
      "298/298 [==============================] - 3s 11ms/step - loss: 1.6717 - mse: 6.4168 - mae: 1.6717 - val_loss: 1.6738 - val_mse: 7.1067 - val_mae: 1.6738\n",
      "Epoch 12/50\n",
      "298/298 [==============================] - 3s 10ms/step - loss: 1.6825 - mse: 6.5355 - mae: 1.6825 - val_loss: 1.6604 - val_mse: 5.8978 - val_mae: 1.6604\n",
      "Epoch 13/50\n",
      "298/298 [==============================] - 3s 10ms/step - loss: 1.6815 - mse: 6.4504 - mae: 1.6815 - val_loss: 1.6672 - val_mse: 5.8089 - val_mae: 1.6672\n",
      "Epoch 14/50\n",
      "298/298 [==============================] - 3s 11ms/step - loss: 1.6737 - mse: 6.4300 - mae: 1.6737 - val_loss: 1.8173 - val_mse: 8.0036 - val_mae: 1.8173\n",
      "Epoch 15/50\n",
      "298/298 [==============================] - 3s 11ms/step - loss: 1.6739 - mse: 6.3653 - mae: 1.6739 - val_loss: 1.6208 - val_mse: 6.4628 - val_mae: 1.6208\n",
      "Epoch 16/50\n",
      "298/298 [==============================] - 3s 11ms/step - loss: 1.6375 - mse: 6.3342 - mae: 1.6375 - val_loss: 1.6422 - val_mse: 6.6761 - val_mae: 1.6422\n",
      "Epoch 17/50\n",
      "298/298 [==============================] - 3s 11ms/step - loss: 1.6394 - mse: 6.4113 - mae: 1.6394 - val_loss: 1.6180 - val_mse: 6.4023 - val_mae: 1.6180\n",
      "Epoch 18/50\n",
      "298/298 [==============================] - 3s 11ms/step - loss: 1.6273 - mse: 6.2912 - mae: 1.6273 - val_loss: 1.7099 - val_mse: 7.1340 - val_mae: 1.7099\n",
      "Epoch 19/50\n",
      "298/298 [==============================] - 3s 11ms/step - loss: 1.6473 - mse: 6.3288 - mae: 1.6473 - val_loss: 1.6174 - val_mse: 6.3394 - val_mae: 1.6174\n",
      "Epoch 20/50\n",
      "298/298 [==============================] - 3s 12ms/step - loss: 1.6411 - mse: 6.2987 - mae: 1.6411 - val_loss: 1.6648 - val_mse: 5.8125 - val_mae: 1.6648\n",
      "Epoch 21/50\n",
      "298/298 [==============================] - 3s 10ms/step - loss: 1.6392 - mse: 6.3766 - mae: 1.6392 - val_loss: 1.6470 - val_mse: 5.8937 - val_mae: 1.6470\n",
      "Epoch 22/50\n",
      "298/298 [==============================] - 3s 10ms/step - loss: 1.6394 - mse: 6.2576 - mae: 1.6394 - val_loss: 1.6246 - val_mse: 6.2897 - val_mae: 1.6246\n",
      "Epoch 23/50\n",
      "298/298 [==============================] - 3s 9ms/step - loss: 1.6407 - mse: 6.2381 - mae: 1.6407 - val_loss: 1.6528 - val_mse: 5.8359 - val_mae: 1.6528\n",
      "Epoch 24/50\n",
      "298/298 [==============================] - 3s 10ms/step - loss: 1.6143 - mse: 6.2420 - mae: 1.6143 - val_loss: 1.6346 - val_mse: 6.4074 - val_mae: 1.6346\n",
      "Epoch 25/50\n",
      "298/298 [==============================] - 3s 9ms/step - loss: 1.6320 - mse: 6.2984 - mae: 1.6320 - val_loss: 1.6099 - val_mse: 6.3765 - val_mae: 1.6099\n",
      "Epoch 26/50\n",
      "298/298 [==============================] - 3s 11ms/step - loss: 1.6603 - mse: 6.5349 - mae: 1.6603 - val_loss: 1.6463 - val_mse: 6.0035 - val_mae: 1.6463\n",
      "Epoch 27/50\n",
      "298/298 [==============================] - 5s 18ms/step - loss: 1.6314 - mse: 6.4116 - mae: 1.6314 - val_loss: 1.6173 - val_mse: 6.3185 - val_mae: 1.6173\n",
      "Epoch 28/50\n",
      "298/298 [==============================] - 4s 13ms/step - loss: 1.5999 - mse: 6.1507 - mae: 1.5999 - val_loss: 1.7003 - val_mse: 5.6618 - val_mae: 1.7003\n",
      "Epoch 29/50\n",
      "298/298 [==============================] - 3s 10ms/step - loss: 1.6385 - mse: 6.3338 - mae: 1.6385 - val_loss: 1.7061 - val_mse: 5.7382 - val_mae: 1.7061\n",
      "Epoch 30/50\n",
      "298/298 [==============================] - 3s 10ms/step - loss: 1.6082 - mse: 6.1891 - mae: 1.6082 - val_loss: 1.6473 - val_mse: 5.7972 - val_mae: 1.6473\n",
      "Epoch 31/50\n",
      "298/298 [==============================] - 3s 10ms/step - loss: 1.6133 - mse: 6.1255 - mae: 1.6133 - val_loss: 1.6268 - val_mse: 6.7128 - val_mae: 1.6268\n",
      "Epoch 32/50\n",
      "298/298 [==============================] - 4s 14ms/step - loss: 1.6347 - mse: 6.3924 - mae: 1.6347 - val_loss: 1.6095 - val_mse: 6.3120 - val_mae: 1.6095\n",
      "Epoch 33/50\n",
      "298/298 [==============================] - 5s 16ms/step - loss: 1.6145 - mse: 6.0696 - mae: 1.6145 - val_loss: 1.6188 - val_mse: 6.0152 - val_mae: 1.6188\n",
      "Epoch 34/50\n",
      "298/298 [==============================] - 3s 11ms/step - loss: 1.5960 - mse: 6.0830 - mae: 1.5960 - val_loss: 1.6166 - val_mse: 6.1656 - val_mae: 1.6166\n",
      "Epoch 35/50\n",
      "298/298 [==============================] - 3s 8ms/step - loss: 1.5949 - mse: 6.1064 - mae: 1.5949 - val_loss: 1.6066 - val_mse: 6.3791 - val_mae: 1.6066\n",
      "Epoch 36/50\n",
      "298/298 [==============================] - 3s 10ms/step - loss: 1.6064 - mse: 6.1817 - mae: 1.6064 - val_loss: 1.6089 - val_mse: 6.1585 - val_mae: 1.6089\n",
      "Epoch 37/50\n",
      "298/298 [==============================] - 3s 9ms/step - loss: 1.5970 - mse: 6.1347 - mae: 1.5970 - val_loss: 1.6201 - val_mse: 6.4973 - val_mae: 1.6201\n",
      "Epoch 38/50\n",
      "298/298 [==============================] - 2s 8ms/step - loss: 1.6192 - mse: 6.2211 - mae: 1.6192 - val_loss: 1.6084 - val_mse: 6.4698 - val_mae: 1.6084\n",
      "Epoch 39/50\n",
      "298/298 [==============================] - 3s 9ms/step - loss: 1.5989 - mse: 6.1712 - mae: 1.5989 - val_loss: 1.6307 - val_mse: 6.7238 - val_mae: 1.6307\n",
      "Epoch 40/50\n",
      "298/298 [==============================] - 3s 9ms/step - loss: 1.5891 - mse: 6.0098 - mae: 1.5891 - val_loss: 1.6530 - val_mse: 5.8177 - val_mae: 1.6530\n",
      "Epoch 41/50\n",
      "298/298 [==============================] - 3s 9ms/step - loss: 1.5772 - mse: 5.9571 - mae: 1.5772 - val_loss: 1.6304 - val_mse: 6.7065 - val_mae: 1.6304\n",
      "Epoch 42/50\n",
      "298/298 [==============================] - 4s 14ms/step - loss: 1.6100 - mse: 6.2661 - mae: 1.6100 - val_loss: 1.6379 - val_mse: 5.9004 - val_mae: 1.6379\n",
      "Epoch 43/50\n",
      "298/298 [==============================] - 4s 14ms/step - loss: 1.5842 - mse: 5.9938 - mae: 1.5842 - val_loss: 1.6298 - val_mse: 6.7858 - val_mae: 1.6298\n",
      "Epoch 44/50\n",
      "298/298 [==============================] - 4s 14ms/step - loss: 1.5768 - mse: 6.0456 - mae: 1.5768 - val_loss: 1.6100 - val_mse: 6.4995 - val_mae: 1.6100\n",
      "Epoch 45/50\n",
      "298/298 [==============================] - 3s 11ms/step - loss: 1.5985 - mse: 6.1616 - mae: 1.5985 - val_loss: 1.6105 - val_mse: 6.1848 - val_mae: 1.6105\n",
      "Epoch 46/50\n",
      "298/298 [==============================] - 3s 11ms/step - loss: 1.5868 - mse: 6.0607 - mae: 1.5868 - val_loss: 1.6144 - val_mse: 6.0003 - val_mae: 1.6144\n",
      "Epoch 47/50\n",
      "298/298 [==============================] - 3s 10ms/step - loss: 1.5836 - mse: 6.0543 - mae: 1.5836 - val_loss: 1.6235 - val_mse: 6.0793 - val_mae: 1.6235\n",
      "Epoch 48/50\n",
      "298/298 [==============================] - 3s 11ms/step - loss: 1.6085 - mse: 6.2178 - mae: 1.6085 - val_loss: 1.6035 - val_mse: 6.0982 - val_mae: 1.6035\n",
      "Epoch 49/50\n",
      "298/298 [==============================] - 3s 11ms/step - loss: 1.5896 - mse: 6.1062 - mae: 1.5896 - val_loss: 1.7540 - val_mse: 5.7482 - val_mae: 1.7540\n",
      "Epoch 50/50\n",
      "298/298 [==============================] - 3s 10ms/step - loss: 1.5834 - mse: 6.0831 - mae: 1.5834 - val_loss: 1.6313 - val_mse: 6.7794 - val_mae: 1.6313\n"
     ]
    }
   ],
   "source": [
    "history = model.fit(x_train_pad,y_train,\n",
    "                   epochs=50, \n",
    "                   batch_size=64,              \n",
    "                   validation_data=(x_val_pad, y_val))  "
   ]
  },
  {
   "cell_type": "code",
   "execution_count": 75,
   "id": "d18eb752",
   "metadata": {},
   "outputs": [
    {
     "name": "stdout",
     "output_type": "stream",
     "text": [
      "596/596 [==============================] - 3s 4ms/step - loss: 1.6674 - mse: 6.6101 - mae: 1.6674\n"
     ]
    }
   ],
   "source": [
    "evaluate_train = model.evaluate(x_train_pad, y_train)"
   ]
  },
  {
   "cell_type": "code",
   "execution_count": 76,
   "id": "7ef20aa1",
   "metadata": {},
   "outputs": [
    {
     "name": "stdout",
     "output_type": "stream",
     "text": [
      "256/256 [==============================] - 1s 5ms/step - loss: 1.6735 - mse: 6.7569 - mae: 1.6735\n"
     ]
    }
   ],
   "source": [
    "evaluate_validation = model.evaluate(x_val_pad, y_val)"
   ]
  },
  {
   "cell_type": "code",
   "execution_count": 77,
   "id": "d888730d",
   "metadata": {},
   "outputs": [
    {
     "name": "stdout",
     "output_type": "stream",
     "text": [
      "95/95 [==============================] - 0s 5ms/step - loss: 1.6119 - mse: 6.1406 - mae: 1.6119\n"
     ]
    }
   ],
   "source": [
    "evaluate_test = model.evaluate(x_test_pad, y_test)"
   ]
  },
  {
   "cell_type": "code",
   "execution_count": 94,
   "id": "2bfae460",
   "metadata": {},
   "outputs": [
    {
     "data": {
      "image/png": "[encoded data removed]",
      "text/plain": [
       "<Figure size 432x288 with 1 Axes>"
      ]
     },
     "metadata": {
      "needs_background": "light"
     },
     "output_type": "display_data"
    },
    {
     "data": {
      "image/png": "[encoded data removed]",
      "text/plain": [
       "<Figure size 432x288 with 1 Axes>"
      ]
     },
     "metadata": {
      "needs_background": "light"
     },
     "output_type": "display_data"
    }
   ],
   "source": [
    "plot_graphs(history, \"mse\") \n",
    "plot_graphs(history, \"mae\") "
   ]
  },
  {
   "cell_type": "code",
   "execution_count": null,
   "id": "8f041d4c",
   "metadata": {},
   "outputs": [],
   "source": []
  },
  {
   "cell_type": "code",
   "execution_count": 97,
   "id": "8da9f9df",
   "metadata": {},
   "outputs": [],
   "source": [
    "#early stop\n",
    "\n",
    "tf.keras.callbacks.EarlyStopping(\n",
    "    monitor=\"val_mae\",\n",
    "    min_delta=0,\n",
    "    patience=0,\n",
    "    verbose=0,\n",
    "    mode=\"auto\",\n",
    "    baseline=None,\n",
    "    restore_best_weights=False,\n",
    ")\n",
    "\n",
    "callback = tf.keras.callbacks.EarlyStopping(monitor='loss', patience=3)"
   ]
  },
  {
   "cell_type": "code",
   "execution_count": 98,
   "id": "4832fd03",
   "metadata": {},
   "outputs": [],
   "source": [
    "#Modelo 2 API Funcional\n",
    "\n",
    "input_layer = layers.Input(shape=(25,))         \n",
    "embedding = layers.Embedding(input_dim=len_word_index + 1\n",
    "                   ,output_dim = embedding_dim\n",
    "                   , weights=[embedding_matrix]\n",
    "                   ,input_length=max_length\n",
    "                   ,trainable=False)(input_layer)\n",
    "\n",
    "_, dim_rows, dim_columns = embedding.shape\n",
    "\n",
    "\n",
    "word_list = tf.unstack(embedding, axis=1)\n",
    "merging = layers.Average()(word_list)\n",
    "\n",
    "\n",
    "dense1 = layers.Dense(512, activation=\"relu\")(merging)\n",
    "dense2 = layers.Dense(256, activation=\"relu\")(dense1)\n",
    "output = layers.Dense(1)(dense2)\n",
    "\n",
    "model = tf.keras.models.Model(inputs=[input_layer], outputs=[output])\n",
    "optimizer = keras.optimizers.Adam(lr=0.001) \n",
    "model.compile(loss='mean_absolute_error',  \n",
    "            optimizer=optimizer,\n",
    "            metrics=['mse','mae'])\n",
    "\n",
    "#model.summary()"
   ]
  },
  {
   "cell_type": "code",
   "execution_count": 99,
   "id": "d48817fc",
   "metadata": {},
   "outputs": [
    {
     "name": "stdout",
     "output_type": "stream",
     "text": [
      "Epoch 1/40\n",
      "298/298 [==============================] - 4s 11ms/step - loss: 2.3473 - mse: 11.2690 - mae: 2.3473 - val_loss: 1.7162 - val_mse: 6.1975 - val_mae: 1.7162\n",
      "Epoch 2/40\n",
      "298/298 [==============================] - 3s 10ms/step - loss: 1.7632 - mse: 6.7945 - mae: 1.7632 - val_loss: 1.6982 - val_mse: 7.1746 - val_mae: 1.6982\n",
      "Epoch 3/40\n",
      "298/298 [==============================] - 3s 10ms/step - loss: 1.7068 - mse: 6.6272 - mae: 1.7068 - val_loss: 1.7008 - val_mse: 7.0983 - val_mae: 1.7008\n",
      "Epoch 4/40\n",
      "298/298 [==============================] - 3s 10ms/step - loss: 1.6936 - mse: 6.5535 - mae: 1.6936 - val_loss: 1.6887 - val_mse: 6.1103 - val_mae: 1.6887\n",
      "Epoch 5/40\n",
      "298/298 [==============================] - 3s 10ms/step - loss: 1.6835 - mse: 6.5193 - mae: 1.6835 - val_loss: 1.6566 - val_mse: 6.5262 - val_mae: 1.6566\n",
      "Epoch 6/40\n",
      "298/298 [==============================] - 3s 10ms/step - loss: 1.7115 - mse: 6.7175 - mae: 1.7115 - val_loss: 1.6851 - val_mse: 6.9715 - val_mae: 1.6851\n",
      "Epoch 7/40\n",
      "298/298 [==============================] - 3s 10ms/step - loss: 1.7181 - mse: 6.5987 - mae: 1.7181 - val_loss: 1.6954 - val_mse: 5.9371 - val_mae: 1.6954\n",
      "Epoch 8/40\n",
      "298/298 [==============================] - 3s 10ms/step - loss: 1.7287 - mse: 6.7877 - mae: 1.7287 - val_loss: 1.7249 - val_mse: 5.8145 - val_mae: 1.7249\n",
      "Epoch 9/40\n",
      "298/298 [==============================] - 3s 11ms/step - loss: 1.7086 - mse: 6.5592 - mae: 1.7086 - val_loss: 1.7306 - val_mse: 5.8790 - val_mae: 1.7306\n",
      "Epoch 10/40\n",
      "298/298 [==============================] - 3s 12ms/step - loss: 1.6849 - mse: 6.6474 - mae: 1.6849 - val_loss: 1.6401 - val_mse: 6.6414 - val_mae: 1.6401\n",
      "Epoch 11/40\n",
      "298/298 [==============================] - 3s 12ms/step - loss: 1.6730 - mse: 6.4976 - mae: 1.6730 - val_loss: 1.6709 - val_mse: 7.1186 - val_mae: 1.6709\n",
      "Epoch 12/40\n",
      "298/298 [==============================] - 3s 11ms/step - loss: 1.6839 - mse: 6.6054 - mae: 1.6839 - val_loss: 1.6524 - val_mse: 5.9880 - val_mae: 1.6524\n",
      "Epoch 13/40\n",
      "298/298 [==============================] - 4s 12ms/step - loss: 1.6687 - mse: 6.5317 - mae: 1.6687 - val_loss: 1.6302 - val_mse: 6.4119 - val_mae: 1.6302\n",
      "Epoch 14/40\n",
      "298/298 [==============================] - 4s 12ms/step - loss: 1.6663 - mse: 6.4895 - mae: 1.6663 - val_loss: 1.8141 - val_mse: 5.7468 - val_mae: 1.8141\n",
      "Epoch 15/40\n",
      "298/298 [==============================] - 3s 11ms/step - loss: 1.6593 - mse: 6.3855 - mae: 1.6593 - val_loss: 1.6331 - val_mse: 6.7360 - val_mae: 1.6331\n",
      "Epoch 16/40\n",
      "298/298 [==============================] - 3s 11ms/step - loss: 1.6404 - mse: 6.3060 - mae: 1.6404 - val_loss: 1.6892 - val_mse: 5.8482 - val_mae: 1.6892\n",
      "Epoch 17/40\n",
      "298/298 [==============================] - 3s 11ms/step - loss: 1.6600 - mse: 6.3695 - mae: 1.6600 - val_loss: 1.6295 - val_mse: 6.5606 - val_mae: 1.6295\n",
      "Epoch 18/40\n",
      "298/298 [==============================] - 3s 11ms/step - loss: 1.6471 - mse: 6.4122 - mae: 1.6471 - val_loss: 1.6294 - val_mse: 6.2239 - val_mae: 1.6294\n",
      "Epoch 19/40\n",
      "298/298 [==============================] - 3s 10ms/step - loss: 1.6516 - mse: 6.5281 - mae: 1.6516 - val_loss: 1.6247 - val_mse: 6.1968 - val_mae: 1.6247\n",
      "Epoch 20/40\n",
      "298/298 [==============================] - 3s 10ms/step - loss: 1.6225 - mse: 6.2303 - mae: 1.6225 - val_loss: 1.6230 - val_mse: 6.2243 - val_mae: 1.6230\n",
      "Epoch 21/40\n",
      "298/298 [==============================] - 3s 10ms/step - loss: 1.6203 - mse: 6.3149 - mae: 1.6203 - val_loss: 1.6203 - val_mse: 6.4156 - val_mae: 1.6203\n",
      "Epoch 22/40\n",
      "298/298 [==============================] - 3s 10ms/step - loss: 1.6516 - mse: 6.4857 - mae: 1.6516 - val_loss: 1.6520 - val_mse: 5.9293 - val_mae: 1.6520\n",
      "Epoch 23/40\n",
      "298/298 [==============================] - 3s 10ms/step - loss: 1.6326 - mse: 6.3019 - mae: 1.6326 - val_loss: 1.6183 - val_mse: 6.2518 - val_mae: 1.6183\n",
      "Epoch 24/40\n",
      "298/298 [==============================] - 3s 10ms/step - loss: 1.6207 - mse: 6.2351 - mae: 1.6207 - val_loss: 1.7279 - val_mse: 7.3089 - val_mae: 1.7279\n",
      "Epoch 25/40\n",
      "298/298 [==============================] - 3s 10ms/step - loss: 1.6517 - mse: 6.3944 - mae: 1.6517 - val_loss: 1.6168 - val_mse: 6.5648 - val_mae: 1.6168\n"
     ]
    },
    {
     "data": {
      "text/plain": [
       "25"
      ]
     },
     "execution_count": 99,
     "metadata": {},
     "output_type": "execute_result"
    }
   ],
   "source": [
    "history = model.fit(x_train_pad,y_train,\n",
    "                   epochs=40, \n",
    "                   batch_size=64, \n",
    "                    callbacks=[callback],\n",
    "                   validation_data=(x_val_pad, y_val))  \n",
    "\n",
    "len(history.history['loss'])"
   ]
  },
  {
   "cell_type": "code",
   "execution_count": 100,
   "id": "6de6b2a5",
   "metadata": {},
   "outputs": [
    {
     "data": {
      "image/png": "[encoded data removed]",
      "text/plain": [
       "<Figure size 432x288 with 1 Axes>"
      ]
     },
     "metadata": {
      "needs_background": "light"
     },
     "output_type": "display_data"
    },
    {
     "data": {
      "image/png": "[encoded data removed]",
      "text/plain": [
       "<Figure size 432x288 with 1 Axes>"
      ]
     },
     "metadata": {
      "needs_background": "light"
     },
     "output_type": "display_data"
    }
   ],
   "source": [
    "plot_graphs(history, \"mse\") \n",
    "plot_graphs(history, \"mae\") "
   ]
  },
  {
   "cell_type": "code",
   "execution_count": null,
   "id": "99ae539d",
   "metadata": {},
   "outputs": [],
   "source": []
  },
  {
   "cell_type": "code",
   "execution_count": null,
   "id": "201763a0",
   "metadata": {},
   "outputs": [],
   "source": []
  },
  {
   "cell_type": "code",
   "execution_count": null,
   "id": "2ad5b57c",
   "metadata": {},
   "outputs": [],
   "source": []
  },
  {
   "cell_type": "code",
   "execution_count": null,
   "id": "7906fe08",
   "metadata": {},
   "outputs": [],
   "source": []
  },
  {
   "cell_type": "code",
   "execution_count": null,
   "id": "41014292",
   "metadata": {},
   "outputs": [],
   "source": []
  },
  {
   "cell_type": "code",
   "execution_count": null,
   "id": "d7904dbb",
   "metadata": {},
   "outputs": [],
   "source": [
    "#Pruebas\n",
    "\n",
    "# tres modelos con distintos parametros y comparacion\n",
    "# modelo con regularizacion L2\n",
    "# modelo con dropout"
   ]
  },
  {
   "cell_type": "code",
   "execution_count": 217,
   "id": "31e05956",
   "metadata": {},
   "outputs": [
    {
     "name": "stdout",
     "output_type": "stream",
     "text": [
      "Model: \"sequential_3\"\n",
      "_________________________________________________________________\n",
      "Layer (type)                 Output Shape              Param #   \n",
      "=================================================================\n",
      "embedding_3 (Embedding)      (None, 25, 300)           6641400   \n",
      "_________________________________________________________________\n",
      "flatten_3 (Flatten)          (None, 7500)              0         \n",
      "_________________________________________________________________\n",
      "dense_9 (Dense)              (None, 256)               1920256   \n",
      "_________________________________________________________________\n",
      "dense_10 (Dense)             (None, 256)               65792     \n",
      "_________________________________________________________________\n",
      "dense_11 (Dense)             (None, 1)                 257       \n",
      "=================================================================\n",
      "Total params: 8,627,705\n",
      "Trainable params: 1,986,305\n",
      "Non-trainable params: 6,641,400\n",
      "_________________________________________________________________\n"
     ]
    }
   ],
   "source": [
    "#MODELO 1 (normal)\n",
    "\n",
    "original_model = models.Sequential()\n",
    "original_model.add(Embedding(input_dim=len_word_index + 1\n",
    "                   ,output_dim = embedding_dim\n",
    "                   , weights=[embedding_matrix]\n",
    "                   ,input_length=max_length\n",
    "                   ,trainable=False))\n",
    "\n",
    "original_model.add(layers.Flatten()) \n",
    "original_model.add(layers.Dense(256, activation='relu'))  #Dense = 64,128\n",
    "original_model.add(layers.Dense(256, activation='relu'))    \n",
    "original_model.add(layers.Dense(1))\n",
    "\n",
    "optimizer = keras.optimizers.Adam(lr=0.0001) #otro 0\n",
    "\n",
    "original_model.compile(loss='mean_absolute_error', # 'mae'\n",
    "            #optimizer='RMSprop', # RMSprop or adam\n",
    "            optimizer=optimizer,\n",
    "            metrics=['mse','mae'])  #mae\n",
    "\n",
    "original_model.summary()"
   ]
  },
  {
   "cell_type": "code",
   "execution_count": 218,
   "id": "14bcd9b0",
   "metadata": {},
   "outputs": [
    {
     "name": "stdout",
     "output_type": "stream",
     "text": [
      "Epoch 1/30\n",
      "WARNING:tensorflow:AutoGraph could not transform <function Model.make_train_function.<locals>.train_function at 0x7fba1588f700> and will run it as-is.\n",
      "Please report this to the TensorFlow team. When filing the bug, set the verbosity to 10 (on Linux, `export AUTOGRAPH_VERBOSITY=10`) and attach the full output.\n",
      "Cause: Unknown node type <gast.gast.Assign object at 0x7fba158a6be0>\n",
      "To silence this warning, decorate the function with @tf.autograph.experimental.do_not_convert\n",
      "WARNING: AutoGraph could not transform <function Model.make_train_function.<locals>.train_function at 0x7fba1588f700> and will run it as-is.\n",
      "Please report this to the TensorFlow team. When filing the bug, set the verbosity to 10 (on Linux, `export AUTOGRAPH_VERBOSITY=10`) and attach the full output.\n",
      "Cause: Unknown node type <gast.gast.Assign object at 0x7fba158a6be0>\n",
      "To silence this warning, decorate the function with @tf.autograph.experimental.do_not_convert\n",
      "463/466 [============================>.] - ETA: 0s - loss: 1.8383 - mse: 7.6482 - mae: 1.8383WARNING:tensorflow:AutoGraph could not transform <function Model.make_test_function.<locals>.test_function at 0x7fba1584fa60> and will run it as-is.\n",
      "Please report this to the TensorFlow team. When filing the bug, set the verbosity to 10 (on Linux, `export AUTOGRAPH_VERBOSITY=10`) and attach the full output.\n",
      "Cause: closure mismatch, requested ('self', 'step_function'), but source function had ()\n",
      "To silence this warning, decorate the function with @tf.autograph.experimental.do_not_convert\n",
      "WARNING: AutoGraph could not transform <function Model.make_test_function.<locals>.test_function at 0x7fba1584fa60> and will run it as-is.\n",
      "Please report this to the TensorFlow team. When filing the bug, set the verbosity to 10 (on Linux, `export AUTOGRAPH_VERBOSITY=10`) and attach the full output.\n",
      "Cause: closure mismatch, requested ('self', 'step_function'), but source function had ()\n",
      "To silence this warning, decorate the function with @tf.autograph.experimental.do_not_convert\n",
      "466/466 [==============================] - 9s 17ms/step - loss: 1.8381 - mse: 7.6377 - mae: 1.8381 - val_loss: 1.8875 - val_mse: 6.2795 - val_mae: 1.8875\n",
      "Epoch 2/30\n",
      "466/466 [==============================] - 7s 16ms/step - loss: 1.6814 - mse: 6.5741 - mae: 1.6814 - val_loss: 1.6490 - val_mse: 6.7503 - val_mae: 1.6490\n",
      "Epoch 3/30\n",
      "466/466 [==============================] - 7s 16ms/step - loss: 1.6507 - mse: 6.4065 - mae: 1.6507 - val_loss: 1.6461 - val_mse: 6.1128 - val_mae: 1.6461\n",
      "Epoch 4/30\n",
      "466/466 [==============================] - 9s 19ms/step - loss: 1.6198 - mse: 6.2295 - mae: 1.6198 - val_loss: 1.6643 - val_mse: 5.8192 - val_mae: 1.6643\n",
      "Epoch 5/30\n",
      "466/466 [==============================] - 8s 16ms/step - loss: 1.5948 - mse: 6.0898 - mae: 1.5948 - val_loss: 1.6298 - val_mse: 6.2140 - val_mae: 1.6298\n",
      "Epoch 6/30\n",
      "466/466 [==============================] - 8s 16ms/step - loss: 1.5731 - mse: 5.9298 - mae: 1.5731 - val_loss: 1.6296 - val_mse: 6.4143 - val_mae: 1.6296\n",
      "Epoch 7/30\n",
      "466/466 [==============================] - 8s 16ms/step - loss: 1.5383 - mse: 5.7752 - mae: 1.5383 - val_loss: 1.6285 - val_mse: 6.0940 - val_mae: 1.6285\n",
      "Epoch 8/30\n",
      "466/466 [==============================] - 7s 16ms/step - loss: 1.5255 - mse: 5.6824 - mae: 1.5255 - val_loss: 1.6747 - val_mse: 6.8469 - val_mae: 1.6747\n",
      "Epoch 9/30\n",
      "466/466 [==============================] - 7s 16ms/step - loss: 1.5009 - mse: 5.5779 - mae: 1.5009 - val_loss: 1.7291 - val_mse: 5.7498 - val_mae: 1.7291\n",
      "Epoch 10/30\n",
      "466/466 [==============================] - 7s 16ms/step - loss: 1.4902 - mse: 5.4988 - mae: 1.4902 - val_loss: 1.6296 - val_mse: 6.5151 - val_mae: 1.6296\n",
      "Epoch 11/30\n",
      "466/466 [==============================] - 8s 17ms/step - loss: 1.4679 - mse: 5.4088 - mae: 1.4679 - val_loss: 1.6365 - val_mse: 5.9869 - val_mae: 1.6365\n",
      "Epoch 12/30\n",
      "466/466 [==============================] - 8s 16ms/step - loss: 1.4591 - mse: 5.3517 - mae: 1.4591 - val_loss: 1.6993 - val_mse: 5.8301 - val_mae: 1.6993\n",
      "Epoch 13/30\n",
      "466/466 [==============================] - 7s 16ms/step - loss: 1.4492 - mse: 5.3149 - mae: 1.4492 - val_loss: 1.6195 - val_mse: 6.1457 - val_mae: 1.6195\n",
      "Epoch 14/30\n",
      "466/466 [==============================] - 7s 15ms/step - loss: 1.4233 - mse: 5.2272 - mae: 1.4233 - val_loss: 1.6214 - val_mse: 5.9875 - val_mae: 1.6214\n",
      "Epoch 15/30\n",
      "466/466 [==============================] - 7s 16ms/step - loss: 1.4189 - mse: 5.1716 - mae: 1.4189 - val_loss: 1.6480 - val_mse: 5.8294 - val_mae: 1.6480\n",
      "Epoch 16/30\n",
      "466/466 [==============================] - 7s 16ms/step - loss: 1.4047 - mse: 5.1253 - mae: 1.4047 - val_loss: 1.6143 - val_mse: 6.0975 - val_mae: 1.6143\n",
      "Epoch 17/30\n",
      "466/466 [==============================] - 8s 17ms/step - loss: 1.3975 - mse: 5.1004 - mae: 1.3975 - val_loss: 1.6451 - val_mse: 6.5415 - val_mae: 1.6451\n",
      "Epoch 18/30\n",
      "466/466 [==============================] - 8s 17ms/step - loss: 1.3965 - mse: 5.0908 - mae: 1.3965 - val_loss: 1.6360 - val_mse: 6.5156 - val_mae: 1.6360\n",
      "Epoch 19/30\n",
      "466/466 [==============================] - 8s 17ms/step - loss: 1.3906 - mse: 5.0658 - mae: 1.3906 - val_loss: 1.6490 - val_mse: 6.0378 - val_mae: 1.6490\n",
      "Epoch 20/30\n",
      "466/466 [==============================] - 7s 16ms/step - loss: 1.3842 - mse: 5.0326 - mae: 1.3842 - val_loss: 1.6494 - val_mse: 5.9246 - val_mae: 1.6494\n",
      "Epoch 21/30\n",
      "466/466 [==============================] - 8s 17ms/step - loss: 1.3748 - mse: 4.9973 - mae: 1.3748 - val_loss: 1.6820 - val_mse: 5.7520 - val_mae: 1.6820\n",
      "Epoch 22/30\n",
      "466/466 [==============================] - 7s 16ms/step - loss: 1.3634 - mse: 4.9559 - mae: 1.3634 - val_loss: 1.6051 - val_mse: 6.0456 - val_mae: 1.6051\n",
      "Epoch 23/30\n",
      "466/466 [==============================] - 7s 16ms/step - loss: 1.3565 - mse: 4.9173 - mae: 1.3565 - val_loss: 1.6119 - val_mse: 6.2775 - val_mae: 1.6119\n",
      "Epoch 24/30\n",
      "466/466 [==============================] - 7s 16ms/step - loss: 1.3568 - mse: 4.9075 - mae: 1.3568 - val_loss: 1.6093 - val_mse: 6.0813 - val_mae: 1.6093\n",
      "Epoch 25/30\n",
      "466/466 [==============================] - 8s 17ms/step - loss: 1.3462 - mse: 4.8640 - mae: 1.3462 - val_loss: 1.6293 - val_mse: 6.4196 - val_mae: 1.6293\n",
      "Epoch 26/30\n",
      "466/466 [==============================] - 7s 16ms/step - loss: 1.3344 - mse: 4.7989 - mae: 1.3344 - val_loss: 1.6284 - val_mse: 5.8849 - val_mae: 1.6284\n",
      "Epoch 27/30\n",
      "466/466 [==============================] - 8s 16ms/step - loss: 1.3404 - mse: 4.8047 - mae: 1.3404 - val_loss: 1.6209 - val_mse: 6.1163 - val_mae: 1.6209\n",
      "Epoch 28/30\n",
      "466/466 [==============================] - 7s 16ms/step - loss: 1.3318 - mse: 4.7585 - mae: 1.3318 - val_loss: 1.6244 - val_mse: 5.8654 - val_mae: 1.6244\n",
      "Epoch 29/30\n",
      "466/466 [==============================] - 7s 15ms/step - loss: 1.3327 - mse: 4.7564 - mae: 1.3327 - val_loss: 1.6065 - val_mse: 5.9587 - val_mae: 1.6065\n",
      "Epoch 30/30\n",
      "466/466 [==============================] - 7s 15ms/step - loss: 1.3191 - mse: 4.7255 - mae: 1.3191 - val_loss: 1.6263 - val_mse: 6.2502 - val_mae: 1.6263\n"
     ]
    }
   ],
   "source": [
    "original_hist = original_model.fit(x_train_pad,y_train,\n",
    "                   epochs=30, #epochs=30\n",
    "                   batch_size=52,    #512             \n",
    "                   validation_data=(x_test_pad, y_test))  "
   ]
  },
  {
   "cell_type": "code",
   "execution_count": 182,
   "id": "a8a29d50",
   "metadata": {},
   "outputs": [
    {
     "data": {
      "image/png": "[encoded data removed]",
      "text/plain": [
       "<Figure size 432x288 with 1 Axes>"
      ]
     },
     "metadata": {
      "needs_background": "light"
     },
     "output_type": "display_data"
    },
    {
     "data": {
      "image/png": "[encoded data removed]",
      "text/plain": [
       "<Figure size 432x288 with 1 Axes>"
      ]
     },
     "metadata": {
      "needs_background": "light"
     },
     "output_type": "display_data"
    }
   ],
   "source": [
    "plot_graphs(original_hist, \"mse\") \n",
    "plot_graphs(original_hist, \"mae\") "
   ]
  },
  {
   "cell_type": "code",
   "execution_count": 183,
   "id": "6bf732af",
   "metadata": {},
   "outputs": [
    {
     "name": "stdout",
     "output_type": "stream",
     "text": [
      "Model: \"sequential_29\"\n",
      "_________________________________________________________________\n",
      "Layer (type)                 Output Shape              Param #   \n",
      "=================================================================\n",
      "embedding_25 (Embedding)     (None, 25, 300)           6641400   \n",
      "_________________________________________________________________\n",
      "flatten_3 (Flatten)          (None, 7500)              0         \n",
      "_________________________________________________________________\n",
      "dense_74 (Dense)             (None, 128)               960128    \n",
      "_________________________________________________________________\n",
      "dense_75 (Dense)             (None, 128)               16512     \n",
      "_________________________________________________________________\n",
      "dense_76 (Dense)             (None, 1)                 129       \n",
      "=================================================================\n",
      "Total params: 7,618,169\n",
      "Trainable params: 976,769\n",
      "Non-trainable params: 6,641,400\n",
      "_________________________________________________________________\n"
     ]
    },
    {
     "name": "stderr",
     "output_type": "stream",
     "text": [
      "/Applications/anaconda3/envs/autocomplete/lib/python3.8/site-packages/keras/optimizer_v2/optimizer_v2.py:355: UserWarning: The `lr` argument is deprecated, use `learning_rate` instead.\n",
      "  warnings.warn(\n"
     ]
    }
   ],
   "source": [
    "#MODELO 2 (small)\n",
    "\n",
    "smaller_model = models.Sequential()\n",
    "smaller_model.add(Embedding(input_dim=len_word_index + 1\n",
    "                   ,output_dim = embedding_dim\n",
    "                   , weights=[embedding_matrix]\n",
    "                   ,input_length=max_length\n",
    "                   ,trainable=False))\n",
    "\n",
    "smaller_model.add(layers.Flatten()) \n",
    "smaller_model.add(layers.Dense(128, activation='relu'))  #Dense = 64,128\n",
    "smaller_model.add(layers.Dense(128, activation='relu'))    \n",
    "smaller_model.add(layers.Dense(1))\n",
    "\n",
    "optimizer = keras.optimizers.Adam(lr=0.0001) #otro 0\n",
    "\n",
    "smaller_model.compile(loss='mean_absolute_error', \n",
    "            #optimizer='RMSprop', # RMSprop or adam\n",
    "            optimizer=optimizer,\n",
    "            metrics=['mse','mae'])  #mae\n",
    "\n",
    "smaller_model.summary()"
   ]
  },
  {
   "cell_type": "code",
   "execution_count": 184,
   "id": "70b84e44",
   "metadata": {},
   "outputs": [
    {
     "name": "stdout",
     "output_type": "stream",
     "text": [
      "Epoch 1/15\n",
      "303/303 [==============================] - 4s 12ms/step - loss: 2.0438 - mse: 9.3708 - mae: 2.0438 - val_loss: 1.6680 - val_mse: 6.8592 - val_mae: 1.6680\n",
      "Epoch 2/15\n",
      "303/303 [==============================] - 4s 13ms/step - loss: 1.6948 - mse: 6.7260 - mae: 1.6948 - val_loss: 1.6537 - val_mse: 6.2416 - val_mae: 1.6537\n",
      "Epoch 3/15\n",
      "303/303 [==============================] - 4s 12ms/step - loss: 1.6724 - mse: 6.6211 - mae: 1.6724 - val_loss: 1.6341 - val_mse: 6.4564 - val_mae: 1.6341\n",
      "Epoch 4/15\n",
      "303/303 [==============================] - 4s 14ms/step - loss: 1.6543 - mse: 6.4991 - mae: 1.6543 - val_loss: 1.6417 - val_mse: 6.7970 - val_mae: 1.6417\n",
      "Epoch 5/15\n",
      "303/303 [==============================] - 3s 10ms/step - loss: 1.6407 - mse: 6.3994 - mae: 1.6407 - val_loss: 1.6056 - val_mse: 6.2233 - val_mae: 1.6056\n",
      "Epoch 6/15\n",
      "303/303 [==============================] - 3s 10ms/step - loss: 1.6140 - mse: 6.2605 - mae: 1.6140 - val_loss: 1.6248 - val_mse: 6.5057 - val_mae: 1.6248\n",
      "Epoch 7/15\n",
      "303/303 [==============================] - 3s 10ms/step - loss: 1.5915 - mse: 6.1490 - mae: 1.5915 - val_loss: 1.6028 - val_mse: 5.9293 - val_mae: 1.6028\n",
      "Epoch 8/15\n",
      "303/303 [==============================] - 4s 13ms/step - loss: 1.5779 - mse: 6.0292 - mae: 1.5779 - val_loss: 1.6021 - val_mse: 6.5002 - val_mae: 1.6021\n",
      "Epoch 9/15\n",
      "303/303 [==============================] - 4s 13ms/step - loss: 1.5652 - mse: 5.9475 - mae: 1.5652 - val_loss: 1.6030 - val_mse: 6.4317 - val_mae: 1.6030\n",
      "Epoch 10/15\n",
      "303/303 [==============================] - 3s 11ms/step - loss: 1.5307 - mse: 5.7853 - mae: 1.5307 - val_loss: 1.5878 - val_mse: 6.1082 - val_mae: 1.5878\n",
      "Epoch 11/15\n",
      "303/303 [==============================] - 3s 11ms/step - loss: 1.5205 - mse: 5.7120 - mae: 1.5205 - val_loss: 1.5955 - val_mse: 6.2787 - val_mae: 1.5955\n",
      "Epoch 12/15\n",
      "303/303 [==============================] - 3s 10ms/step - loss: 1.4942 - mse: 5.6066 - mae: 1.4942 - val_loss: 1.5885 - val_mse: 6.2750 - val_mae: 1.5885\n",
      "Epoch 13/15\n",
      "303/303 [==============================] - 3s 11ms/step - loss: 1.4741 - mse: 5.5345 - mae: 1.4741 - val_loss: 1.6091 - val_mse: 5.8483 - val_mae: 1.6091\n",
      "Epoch 14/15\n",
      "303/303 [==============================] - 3s 10ms/step - loss: 1.4679 - mse: 5.4890 - mae: 1.4679 - val_loss: 1.6084 - val_mse: 6.4903 - val_mae: 1.6084\n",
      "Epoch 15/15\n",
      "303/303 [==============================] - 3s 10ms/step - loss: 1.4559 - mse: 5.4217 - mae: 1.4559 - val_loss: 1.6068 - val_mse: 6.4148 - val_mae: 1.6068\n"
     ]
    }
   ],
   "source": [
    "smaller_model_hist = smaller_model.fit(x_train_pad,y_train,\n",
    "                   epochs=15, #epochs=30\n",
    "                   batch_size=64,    #512             \n",
    "                   validation_data=(x_val_pad, y_val))  "
   ]
  },
  {
   "cell_type": "code",
   "execution_count": 185,
   "id": "e4cf7e0c",
   "metadata": {},
   "outputs": [
    {
     "data": {
      "image/png": "[encoded data removed]",
      "text/plain": [
       "<Figure size 432x288 with 1 Axes>"
      ]
     },
     "metadata": {
      "needs_background": "light"
     },
     "output_type": "display_data"
    },
    {
     "data": {
      "image/png": "[encoded data removed]",
      "text/plain": [
       "<Figure size 432x288 with 1 Axes>"
      ]
     },
     "metadata": {
      "needs_background": "light"
     },
     "output_type": "display_data"
    }
   ],
   "source": [
    "plot_graphs(smaller_model_hist, \"mse\") \n",
    "plot_graphs(smaller_model_hist, \"mae\") "
   ]
  },
  {
   "cell_type": "code",
   "execution_count": 188,
   "id": "e47fb8e3",
   "metadata": {},
   "outputs": [],
   "source": [
    "epochs = range(1, 16)\n",
    "original_val_loss = original_hist.history['val_loss']\n",
    "smaller_model_val_loss = smaller_model_hist.history['val_loss']"
   ]
  },
  {
   "cell_type": "code",
   "execution_count": 189,
   "id": "01792b05",
   "metadata": {},
   "outputs": [
    {
     "data": {
      "image/png": "[encoded data removed]",
      "text/plain": [
       "<Figure size 432x288 with 1 Axes>"
      ]
     },
     "metadata": {
      "needs_background": "light"
     },
     "output_type": "display_data"
    }
   ],
   "source": [
    "import matplotlib.pyplot as plt\n",
    "\n",
    "plt.plot(epochs, original_val_loss, 'b+', label='Original model')\n",
    "\n",
    "plt.plot(epochs, smaller_model_val_loss, 'bo', label='Smaller model')\n",
    "plt.xlabel('Epochs')\n",
    "plt.ylabel('Validation loss')\n",
    "plt.legend()\n",
    "\n",
    "plt.show()"
   ]
  },
  {
   "cell_type": "code",
   "execution_count": 200,
   "id": "7f615280",
   "metadata": {},
   "outputs": [
    {
     "name": "stdout",
     "output_type": "stream",
     "text": [
      "Model: \"sequential_33\"\n",
      "_________________________________________________________________\n",
      "Layer (type)                 Output Shape              Param #   \n",
      "=================================================================\n",
      "embedding_29 (Embedding)     (None, 25, 300)           6641400   \n",
      "_________________________________________________________________\n",
      "flatten_7 (Flatten)          (None, 7500)              0         \n",
      "_________________________________________________________________\n",
      "dense_86 (Dense)             (None, 512)               3840512   \n",
      "_________________________________________________________________\n",
      "dense_87 (Dense)             (None, 512)               262656    \n",
      "_________________________________________________________________\n",
      "dense_88 (Dense)             (None, 1)                 513       \n",
      "=================================================================\n",
      "Total params: 10,745,081\n",
      "Trainable params: 4,103,681\n",
      "Non-trainable params: 6,641,400\n",
      "_________________________________________________________________\n"
     ]
    },
    {
     "name": "stderr",
     "output_type": "stream",
     "text": [
      "/Applications/anaconda3/envs/autocomplete/lib/python3.8/site-packages/keras/optimizer_v2/optimizer_v2.py:355: UserWarning: The `lr` argument is deprecated, use `learning_rate` instead.\n",
      "  warnings.warn(\n"
     ]
    }
   ],
   "source": [
    "#MODELO 3 (big)\n",
    "\n",
    "bigger_model  = models.Sequential()\n",
    "bigger_model.add(Embedding(input_dim=len_word_index + 1\n",
    "                   ,output_dim = embedding_dim\n",
    "                   , weights=[embedding_matrix]\n",
    "                   ,input_length=max_length\n",
    "                   ,trainable=False))\n",
    "\n",
    "bigger_model.add(layers.Flatten())\n",
    "bigger_model.add(layers.Dense(512, activation='relu'))  \n",
    "bigger_model.add(layers.Dense(512, activation='relu'))    \n",
    "bigger_model.add(layers.Dense(1))\n",
    "\n",
    "optimizer = keras.optimizers.Adam(lr=0.001) \n",
    "\n",
    "bigger_model.compile(loss='mean_absolute_error', \n",
    "            optimizer=optimizer,\n",
    "            metrics=['mse','mae'])  \n",
    "\n",
    "bigger_model.summary()"
   ]
  },
  {
   "cell_type": "code",
   "execution_count": 201,
   "id": "a3330cc3",
   "metadata": {},
   "outputs": [
    {
     "name": "stdout",
     "output_type": "stream",
     "text": [
      "Epoch 1/15\n",
      "303/303 [==============================] - 11s 34ms/step - loss: 1.8676 - mse: 7.9593 - mae: 1.8676 - val_loss: 1.6872 - val_mse: 7.0066 - val_mae: 1.6872\n",
      "Epoch 2/15\n",
      "303/303 [==============================] - 10s 33ms/step - loss: 1.6939 - mse: 6.6976 - mae: 1.6939 - val_loss: 1.6387 - val_mse: 6.6754 - val_mae: 1.6387\n",
      "Epoch 3/15\n",
      "303/303 [==============================] - 9s 31ms/step - loss: 1.6519 - mse: 6.4792 - mae: 1.6519 - val_loss: 1.6309 - val_mse: 6.3851 - val_mae: 1.6309\n",
      "Epoch 4/15\n",
      "303/303 [==============================] - 10s 32ms/step - loss: 1.6337 - mse: 6.2889 - mae: 1.6337 - val_loss: 1.6255 - val_mse: 6.1406 - val_mae: 1.6255\n",
      "Epoch 5/15\n",
      "303/303 [==============================] - 10s 33ms/step - loss: 1.5975 - mse: 6.1571 - mae: 1.5975 - val_loss: 1.5982 - val_mse: 6.3314 - val_mae: 1.5982\n",
      "Epoch 6/15\n",
      "303/303 [==============================] - 9s 30ms/step - loss: 1.5662 - mse: 5.9807 - mae: 1.5662 - val_loss: 1.6206 - val_mse: 5.9368 - val_mae: 1.6206\n",
      "Epoch 7/15\n",
      "303/303 [==============================] - 10s 32ms/step - loss: 1.5457 - mse: 5.8217 - mae: 1.5457 - val_loss: 1.6167 - val_mse: 6.0741 - val_mae: 1.6167\n",
      "Epoch 8/15\n",
      "303/303 [==============================] - 10s 32ms/step - loss: 1.5302 - mse: 5.7533 - mae: 1.5302 - val_loss: 1.6064 - val_mse: 6.1329 - val_mae: 1.6064\n",
      "Epoch 9/15\n",
      "303/303 [==============================] - 10s 34ms/step - loss: 1.5069 - mse: 5.6541 - mae: 1.5069 - val_loss: 1.6116 - val_mse: 5.9586 - val_mae: 1.6116\n",
      "Epoch 10/15\n",
      "303/303 [==============================] - 10s 33ms/step - loss: 1.4904 - mse: 5.5276 - mae: 1.4904 - val_loss: 1.6052 - val_mse: 6.1241 - val_mae: 1.6052\n",
      "Epoch 11/15\n",
      "303/303 [==============================] - 10s 32ms/step - loss: 1.4726 - mse: 5.4951 - mae: 1.4726 - val_loss: 1.6104 - val_mse: 6.5505 - val_mae: 1.6104\n",
      "Epoch 12/15\n",
      "303/303 [==============================] - 11s 37ms/step - loss: 1.4563 - mse: 5.4283 - mae: 1.4563 - val_loss: 1.5972 - val_mse: 6.3637 - val_mae: 1.5972\n",
      "Epoch 13/15\n",
      "303/303 [==============================] - 13s 43ms/step - loss: 1.4463 - mse: 5.3507 - mae: 1.4463 - val_loss: 1.6075 - val_mse: 6.3929 - val_mae: 1.6075\n",
      "Epoch 14/15\n",
      "303/303 [==============================] - 12s 38ms/step - loss: 1.4343 - mse: 5.3100 - mae: 1.4343 - val_loss: 1.6012 - val_mse: 6.1645 - val_mae: 1.6012\n",
      "Epoch 15/15\n",
      "303/303 [==============================] - 10s 33ms/step - loss: 1.4219 - mse: 5.2384 - mae: 1.4219 - val_loss: 1.5924 - val_mse: 5.9589 - val_mae: 1.5924\n"
     ]
    }
   ],
   "source": [
    "bigger_model_hist = bigger_model.fit(x_train_pad,y_train,\n",
    "                   epochs=15, \n",
    "                   batch_size=64,                \n",
    "                   validation_data=(x_val_pad, y_val)) "
   ]
  },
  {
   "cell_type": "code",
   "execution_count": 202,
   "id": "11543a51",
   "metadata": {},
   "outputs": [
    {
     "data": {
      "image/png": "[encoded data removed]",
      "text/plain": [
       "<Figure size 432x288 with 1 Axes>"
      ]
     },
     "metadata": {
      "needs_background": "light"
     },
     "output_type": "display_data"
    },
    {
     "data": {
      "image/png": "[encoded data removed]",
      "text/plain": [
       "<Figure size 432x288 with 1 Axes>"
      ]
     },
     "metadata": {
      "needs_background": "light"
     },
     "output_type": "display_data"
    }
   ],
   "source": [
    "plot_graphs(bigger_model_hist, \"mse\") \n",
    "plot_graphs(bigger_model_hist, \"mae\") "
   ]
  },
  {
   "cell_type": "code",
   "execution_count": 203,
   "id": "0646eea1",
   "metadata": {},
   "outputs": [
    {
     "data": {
      "image/png": "[encoded data removed]",
      "text/plain": [
       "<Figure size 432x288 with 1 Axes>"
      ]
     },
     "metadata": {
      "needs_background": "light"
     },
     "output_type": "display_data"
    }
   ],
   "source": [
    "bigger_model_val_loss = bigger_model_hist.history['val_loss']\n",
    "\n",
    "plt.plot(epochs, original_val_loss, 'b+', label='Original model')\n",
    "plt.plot(epochs, bigger_model_val_loss, 'bo', label='Bigger model')\n",
    "plt.xlabel('Epochs')\n",
    "plt.ylabel('Validation loss')\n",
    "plt.legend()\n",
    "\n",
    "plt.show()"
   ]
  },
  {
   "cell_type": "markdown",
   "id": "42eec0e2",
   "metadata": {},
   "source": [
    "### Regularizacion L2"
   ]
  },
  {
   "cell_type": "code",
   "execution_count": 204,
   "id": "06ee98c2",
   "metadata": {},
   "outputs": [],
   "source": [
    "from keras import regularizers"
   ]
  },
  {
   "cell_type": "code",
   "execution_count": 93,
   "id": "37cdc2f3",
   "metadata": {},
   "outputs": [
    {
     "name": "stdout",
     "output_type": "stream",
     "text": [
      "Model: \"model_1\"\n",
      "__________________________________________________________________________________________________\n",
      "Layer (type)                    Output Shape         Param #     Connected to                     \n",
      "==================================================================================================\n",
      "input_4 (InputLayer)            [(None, 25)]         0                                            \n",
      "__________________________________________________________________________________________________\n",
      "embedding_6 (Embedding)         (None, 25, 300)      5605200     input_4[0][0]                    \n",
      "__________________________________________________________________________________________________\n",
      "tf.unstack_1 (TFOpLambda)       [(None, 300), (None, 0           embedding_6[0][0]                \n",
      "__________________________________________________________________________________________________\n",
      "average_1 (Average)             (None, 300)          0           tf.unstack_1[0][0]               \n",
      "                                                                 tf.unstack_1[0][1]               \n",
      "                                                                 tf.unstack_1[0][2]               \n",
      "                                                                 tf.unstack_1[0][3]               \n",
      "                                                                 tf.unstack_1[0][4]               \n",
      "                                                                 tf.unstack_1[0][5]               \n",
      "                                                                 tf.unstack_1[0][6]               \n",
      "                                                                 tf.unstack_1[0][7]               \n",
      "                                                                 tf.unstack_1[0][8]               \n",
      "                                                                 tf.unstack_1[0][9]               \n",
      "                                                                 tf.unstack_1[0][10]              \n",
      "                                                                 tf.unstack_1[0][11]              \n",
      "                                                                 tf.unstack_1[0][12]              \n",
      "                                                                 tf.unstack_1[0][13]              \n",
      "                                                                 tf.unstack_1[0][14]              \n",
      "                                                                 tf.unstack_1[0][15]              \n",
      "                                                                 tf.unstack_1[0][16]              \n",
      "                                                                 tf.unstack_1[0][17]              \n",
      "                                                                 tf.unstack_1[0][18]              \n",
      "                                                                 tf.unstack_1[0][19]              \n",
      "                                                                 tf.unstack_1[0][20]              \n",
      "                                                                 tf.unstack_1[0][21]              \n",
      "                                                                 tf.unstack_1[0][22]              \n",
      "                                                                 tf.unstack_1[0][23]              \n",
      "                                                                 tf.unstack_1[0][24]              \n",
      "__________________________________________________________________________________________________\n",
      "dense_9 (Dense)                 (None, 512)          154112      average_1[0][0]                  \n",
      "__________________________________________________________________________________________________\n",
      "dense_10 (Dense)                (None, 256)          131328      dense_9[0][0]                    \n",
      "__________________________________________________________________________________________________\n",
      "dense_11 (Dense)                (None, 1)            257         dense_10[0][0]                   \n",
      "==================================================================================================\n",
      "Total params: 5,890,897\n",
      "Trainable params: 285,697\n",
      "Non-trainable params: 5,605,200\n",
      "__________________________________________________________________________________________________\n"
     ]
    }
   ],
   "source": [
    "#Modelo con Regularizacion L2\n",
    "\n",
    "l2_model = models.Sequential()\n",
    "l2_model.add(Embedding(input_dim=len_word_index + 1\n",
    "                   ,output_dim = embedding_dim\n",
    "                   , weights=[embedding_matrix]\n",
    "                   ,input_length=max_length\n",
    "                   ,trainable=False))\n",
    "\n",
    "l2_model.add(layers.Flatten()) \n",
    "l2_model.add(layers.Dense(256, kernel_regularizer=regularizers.l2(0.001),activation='relu'))\n",
    "l2_model.add(layers.Dense(256, kernel_regularizer=regularizers.l2(0.001),activation='relu'))\n",
    "l2_model.add(layers.Dense(1))\n",
    "\n",
    "\n",
    "optimizer = keras.optimizers.Adam(lr=0.001) \n",
    "\n",
    "l2_model.compile(optimizer=optimizer,\n",
    "                 loss='mean_absolute_error',\n",
    "                 metrics=['mse','mae'])\n",
    "\n",
    "\n",
    "model.summary() "
   ]
  },
  {
   "cell_type": "code",
   "execution_count": 95,
   "id": "3f7d2e5a",
   "metadata": {},
   "outputs": [
    {
     "name": "stdout",
     "output_type": "stream",
     "text": [
      "Epoch 1/35\n",
      "298/298 [==============================] - 9s 29ms/step - loss: 2.7148 - mse: 9.8720 - mae: 2.1528 - val_loss: 2.0451 - val_mse: 6.9947 - val_mae: 1.7463\n",
      "Epoch 2/35\n",
      "298/298 [==============================] - 10s 32ms/step - loss: 2.0181 - mse: 6.9378 - mae: 1.7537 - val_loss: 1.9237 - val_mse: 6.7721 - val_mae: 1.7347\n",
      "Epoch 3/35\n",
      "298/298 [==============================] - 9s 28ms/step - loss: 1.8790 - mse: 6.6291 - mae: 1.7038 - val_loss: 1.8464 - val_mse: 6.7822 - val_mae: 1.7070\n",
      "Epoch 4/35\n",
      "298/298 [==============================] - 8s 25ms/step - loss: 1.8274 - mse: 6.7343 - mae: 1.6965 - val_loss: 1.8290 - val_mse: 6.4900 - val_mae: 1.7191\n",
      "Epoch 5/35\n",
      "298/298 [==============================] - 7s 24ms/step - loss: 1.7943 - mse: 6.5328 - mae: 1.6882 - val_loss: 1.8926 - val_mse: 6.2830 - val_mae: 1.7980\n",
      "Epoch 6/35\n",
      "298/298 [==============================] - 7s 24ms/step - loss: 1.7646 - mse: 6.3709 - mae: 1.6730 - val_loss: 1.8625 - val_mse: 7.6106 - val_mae: 1.7726\n",
      "Epoch 7/35\n",
      "298/298 [==============================] - 7s 24ms/step - loss: 1.7657 - mse: 6.5962 - mae: 1.6787 - val_loss: 1.8239 - val_mse: 7.5078 - val_mae: 1.7429\n",
      "Epoch 8/35\n",
      "298/298 [==============================] - 7s 24ms/step - loss: 1.7391 - mse: 6.4094 - mae: 1.6602 - val_loss: 1.7920 - val_mse: 6.8036 - val_mae: 1.7195\n",
      "Epoch 9/35\n",
      "298/298 [==============================] - 7s 24ms/step - loss: 1.7293 - mse: 6.3515 - mae: 1.6573 - val_loss: 1.7839 - val_mse: 7.0681 - val_mae: 1.7146\n",
      "Epoch 10/35\n",
      "298/298 [==============================] - 7s 24ms/step - loss: 1.7295 - mse: 6.4584 - mae: 1.6593 - val_loss: 1.9257 - val_mse: 6.3456 - val_mae: 1.8576\n",
      "Epoch 11/35\n",
      "298/298 [==============================] - 8s 28ms/step - loss: 1.7521 - mse: 6.5477 - mae: 1.6843 - val_loss: 1.8348 - val_mse: 7.8685 - val_mae: 1.7669\n",
      "Epoch 12/35\n",
      "298/298 [==============================] - 9s 30ms/step - loss: 1.7309 - mse: 6.6090 - mae: 1.6647 - val_loss: 1.7635 - val_mse: 6.9075 - val_mae: 1.6954\n",
      "Epoch 13/35\n",
      "298/298 [==============================] - 8s 27ms/step - loss: 1.6840 - mse: 6.1518 - mae: 1.6172 - val_loss: 1.7883 - val_mse: 7.3692 - val_mae: 1.7228\n",
      "Epoch 14/35\n",
      "298/298 [==============================] - 8s 27ms/step - loss: 1.6926 - mse: 6.3019 - mae: 1.6274 - val_loss: 1.8091 - val_mse: 6.3598 - val_mae: 1.7441\n",
      "Epoch 15/35\n",
      "298/298 [==============================] - 8s 27ms/step - loss: 1.7060 - mse: 6.2517 - mae: 1.6392 - val_loss: 1.7670 - val_mse: 6.9606 - val_mae: 1.7015\n",
      "Epoch 16/35\n",
      "298/298 [==============================] - 8s 26ms/step - loss: 1.6434 - mse: 5.9868 - mae: 1.5780 - val_loss: 1.7792 - val_mse: 7.0308 - val_mae: 1.7129\n",
      "Epoch 17/35\n",
      "298/298 [==============================] - 7s 24ms/step - loss: 1.6732 - mse: 6.1213 - mae: 1.6070 - val_loss: 1.7640 - val_mse: 6.9594 - val_mae: 1.6976\n",
      "Epoch 18/35\n",
      "298/298 [==============================] - 7s 24ms/step - loss: 1.6670 - mse: 6.1252 - mae: 1.6004 - val_loss: 1.7764 - val_mse: 7.3091 - val_mae: 1.7082\n",
      "Epoch 19/35\n",
      "298/298 [==============================] - 7s 25ms/step - loss: 1.6607 - mse: 6.1515 - mae: 1.5916 - val_loss: 1.8013 - val_mse: 6.4779 - val_mae: 1.7340\n",
      "Epoch 20/35\n",
      "298/298 [==============================] - 7s 25ms/step - loss: 1.6475 - mse: 5.9531 - mae: 1.5804 - val_loss: 1.8207 - val_mse: 7.6785 - val_mae: 1.7546\n",
      "Epoch 21/35\n",
      "298/298 [==============================] - 7s 25ms/step - loss: 1.7261 - mse: 6.4497 - mae: 1.6599 - val_loss: 1.7813 - val_mse: 6.7106 - val_mae: 1.7143\n",
      "Epoch 22/35\n",
      "298/298 [==============================] - 7s 25ms/step - loss: 1.6358 - mse: 5.8918 - mae: 1.5691 - val_loss: 1.7730 - val_mse: 7.0228 - val_mae: 1.7055\n",
      "Epoch 23/35\n",
      "298/298 [==============================] - 7s 25ms/step - loss: 1.6472 - mse: 6.0190 - mae: 1.5790 - val_loss: 1.7713 - val_mse: 6.6438 - val_mae: 1.7059\n",
      "Epoch 24/35\n",
      "298/298 [==============================] - 7s 24ms/step - loss: 1.6125 - mse: 5.7707 - mae: 1.5476 - val_loss: 1.7870 - val_mse: 7.1065 - val_mae: 1.7225\n",
      "Epoch 25/35\n",
      "298/298 [==============================] - 8s 27ms/step - loss: 1.6618 - mse: 6.1598 - mae: 1.5961 - val_loss: 1.7645 - val_mse: 6.9472 - val_mae: 1.6992\n",
      "Epoch 26/35\n",
      "298/298 [==============================] - 8s 26ms/step - loss: 1.6065 - mse: 5.8370 - mae: 1.5417 - val_loss: 1.8192 - val_mse: 6.6250 - val_mae: 1.7514\n",
      "Epoch 27/35\n",
      "298/298 [==============================] - 8s 28ms/step - loss: 1.6020 - mse: 5.6421 - mae: 1.5354 - val_loss: 1.8618 - val_mse: 6.4995 - val_mae: 1.7974\n",
      "Epoch 28/35\n",
      "298/298 [==============================] - 7s 25ms/step - loss: 1.6308 - mse: 6.0639 - mae: 1.5664 - val_loss: 1.8094 - val_mse: 6.5959 - val_mae: 1.7450\n",
      "Epoch 29/35\n",
      "298/298 [==============================] - 7s 24ms/step - loss: 1.6225 - mse: 5.9010 - mae: 1.5578 - val_loss: 1.9607 - val_mse: 8.3504 - val_mae: 1.8950\n",
      "Epoch 30/35\n",
      "298/298 [==============================] - 8s 26ms/step - loss: 1.6412 - mse: 6.1365 - mae: 1.5756 - val_loss: 1.8096 - val_mse: 7.4045 - val_mae: 1.7445\n",
      "Epoch 31/35\n",
      "298/298 [==============================] - 8s 27ms/step - loss: 1.5923 - mse: 5.7790 - mae: 1.5272 - val_loss: 1.7740 - val_mse: 6.6174 - val_mae: 1.7093\n",
      "Epoch 32/35\n",
      "298/298 [==============================] - 7s 24ms/step - loss: 1.6125 - mse: 5.9590 - mae: 1.5472 - val_loss: 1.7742 - val_mse: 6.6655 - val_mae: 1.7086\n",
      "Epoch 33/35\n",
      "298/298 [==============================] - 7s 24ms/step - loss: 1.6096 - mse: 5.9215 - mae: 1.5440 - val_loss: 1.8315 - val_mse: 6.4681 - val_mae: 1.7656\n",
      "Epoch 34/35\n",
      "298/298 [==============================] - 7s 24ms/step - loss: 1.6221 - mse: 5.8223 - mae: 1.5563 - val_loss: 1.8100 - val_mse: 6.6728 - val_mae: 1.7438\n",
      "Epoch 35/35\n",
      "298/298 [==============================] - 7s 24ms/step - loss: 1.6102 - mse: 5.8385 - mae: 1.5439 - val_loss: 1.8004 - val_mse: 7.3778 - val_mae: 1.7332\n"
     ]
    }
   ],
   "source": [
    "l2_model_hist = l2_model.fit(x_train_pad,y_train,\n",
    "                             epochs=35,\n",
    "                             batch_size=64,\n",
    "                             validation_data=(x_val_pad, y_val))"
   ]
  },
  {
   "cell_type": "code",
   "execution_count": 96,
   "id": "f14bc7de",
   "metadata": {},
   "outputs": [
    {
     "data": {
      "image/png": "[encoded data removed]",
      "text/plain": [
       "<Figure size 432x288 with 1 Axes>"
      ]
     },
     "metadata": {
      "needs_background": "light"
     },
     "output_type": "display_data"
    },
    {
     "data": {
      "image/png": "[encoded data removed]",
      "text/plain": [
       "<Figure size 432x288 with 1 Axes>"
      ]
     },
     "metadata": {
      "needs_background": "light"
     },
     "output_type": "display_data"
    }
   ],
   "source": [
    "plot_graphs(l2_model_hist, \"mse\") \n",
    "plot_graphs(l2_model_hist, \"mae\") "
   ]
  },
  {
   "cell_type": "code",
   "execution_count": 97,
   "id": "094e91b1",
   "metadata": {},
   "outputs": [
    {
     "name": "stdout",
     "output_type": "stream",
     "text": [
      "596/596 [==============================] - 4s 7ms/step - loss: 1.5897 - mse: 6.1760 - mae: 1.5225\n"
     ]
    }
   ],
   "source": [
    "evaluate_train = l2_model.evaluate(x_train_pad, y_train)"
   ]
  },
  {
   "cell_type": "code",
   "execution_count": 98,
   "id": "c6a05762",
   "metadata": {},
   "outputs": [
    {
     "name": "stdout",
     "output_type": "stream",
     "text": [
      "256/256 [==============================] - 2s 6ms/step - loss: 1.8004 - mse: 7.3778 - mae: 1.7332\n"
     ]
    }
   ],
   "source": [
    "evaluate_validation = l2_model.evaluate(x_val_pad, y_val)"
   ]
  },
  {
   "cell_type": "code",
   "execution_count": 99,
   "id": "ce7c63d5",
   "metadata": {},
   "outputs": [
    {
     "name": "stdout",
     "output_type": "stream",
     "text": [
      "95/95 [==============================] - 1s 11ms/step - loss: 1.7104 - mse: 6.6888 - mae: 1.6432\n"
     ]
    }
   ],
   "source": [
    "evaluate_test = l2_model.evaluate(x_test_pad, y_test)"
   ]
  },
  {
   "cell_type": "code",
   "execution_count": 211,
   "id": "3c677b77",
   "metadata": {},
   "outputs": [
    {
     "data": {
      "image/png": "[encoded data removed]",
      "text/plain": [
       "<Figure size 432x288 with 1 Axes>"
      ]
     },
     "metadata": {
      "needs_background": "light"
     },
     "output_type": "display_data"
    }
   ],
   "source": [
    "#modelo original (primero) vs. modelo con regularizacion L2\n",
    "\n",
    "l2_model_val_loss = l2_model_hist.history['val_loss']\n",
    "\n",
    "\n",
    "plt.plot(epochs, original_val_loss, 'b+', label='Original model')\n",
    "plt.plot(epochs, l2_model_val_loss, 'bo', label='L2-regularized model')\n",
    "plt.xlabel('Epochs')\n",
    "plt.ylabel('Validation loss')\n",
    "plt.legend()\n",
    "\n",
    "plt.show()"
   ]
  },
  {
   "cell_type": "markdown",
   "id": "ac1efa1a",
   "metadata": {},
   "source": [
    "### DROPOUT"
   ]
  },
  {
   "cell_type": "code",
   "execution_count": 100,
   "id": "45ba2464",
   "metadata": {},
   "outputs": [
    {
     "name": "stdout",
     "output_type": "stream",
     "text": [
      "Model: \"sequential_4\"\n",
      "_________________________________________________________________\n",
      "Layer (type)                 Output Shape              Param #   \n",
      "=================================================================\n",
      "embedding_9 (Embedding)      (None, 25, 300)           5605200   \n",
      "_________________________________________________________________\n",
      "flatten_4 (Flatten)          (None, 7500)              0         \n",
      "_________________________________________________________________\n",
      "dense_18 (Dense)             (None, 256)               1920256   \n",
      "_________________________________________________________________\n",
      "dropout (Dropout)            (None, 256)               0         \n",
      "_________________________________________________________________\n",
      "dense_19 (Dense)             (None, 256)               65792     \n",
      "_________________________________________________________________\n",
      "dropout_1 (Dropout)          (None, 256)               0         \n",
      "_________________________________________________________________\n",
      "dense_20 (Dense)             (None, 1)                 257       \n",
      "=================================================================\n",
      "Total params: 7,591,505\n",
      "Trainable params: 1,986,305\n",
      "Non-trainable params: 5,605,200\n",
      "_________________________________________________________________\n"
     ]
    }
   ],
   "source": [
    "#MODELO 1 (normal)\n",
    "\n",
    "dpt_model = models.Sequential()\n",
    "dpt_model.add(Embedding(input_dim=len_word_index + 1\n",
    "                   ,output_dim = embedding_dim\n",
    "                   , weights=[embedding_matrix]\n",
    "                   ,input_length=max_length\n",
    "                   ,trainable=False))\n",
    "\n",
    "dpt_model.add(layers.Flatten())\n",
    "dpt_model.add(layers.Dense(256, activation='relu'))  #Dense = 64,128\n",
    "dpt_model.add(layers.Dropout(0.2))\n",
    "dpt_model.add(layers.Dense(256, activation='relu'))  \n",
    "dpt_model.add(layers.Dropout(0.2))\n",
    "dpt_model.add(layers.Dense(1))\n",
    "\n",
    "optimizer = keras.optimizers.Adam(lr=0.001) #otro 0\n",
    "\n",
    "dpt_model.compile(loss='mean_absolute_error', # 'mae'\n",
    "            #optimizer='RMSprop', # RMSprop or adam\n",
    "            optimizer=optimizer,\n",
    "            metrics=['mse','mae'])  #mae\n",
    "\n",
    "dpt_model.summary()"
   ]
  },
  {
   "cell_type": "code",
   "execution_count": 102,
   "id": "894f707b",
   "metadata": {},
   "outputs": [
    {
     "name": "stdout",
     "output_type": "stream",
     "text": [
      "Epoch 1/35\n",
      "298/298 [==============================] - 6s 19ms/step - loss: 1.8883 - mse: 7.1816 - mae: 1.8883 - val_loss: 2.1020 - val_mse: 6.7001 - val_mae: 2.1020\n",
      "Epoch 2/35\n",
      "298/298 [==============================] - 6s 19ms/step - loss: 1.8321 - mse: 6.9355 - mae: 1.8321 - val_loss: 2.3065 - val_mse: 7.2595 - val_mae: 2.3065\n",
      "Epoch 3/35\n",
      "298/298 [==============================] - 6s 19ms/step - loss: 1.8190 - mse: 6.8604 - mae: 1.8190 - val_loss: 2.4306 - val_mse: 7.8339 - val_mae: 2.4306\n",
      "Epoch 4/35\n",
      "298/298 [==============================] - 6s 20ms/step - loss: 1.7742 - mse: 6.7121 - mae: 1.7742 - val_loss: 2.0053 - val_mse: 6.4126 - val_mae: 2.0053\n",
      "Epoch 5/35\n",
      "298/298 [==============================] - 6s 21ms/step - loss: 1.7434 - mse: 6.5339 - mae: 1.7434 - val_loss: 2.2817 - val_mse: 7.2416 - val_mae: 2.2817\n",
      "Epoch 6/35\n",
      "298/298 [==============================] - 7s 23ms/step - loss: 1.7215 - mse: 6.4270 - mae: 1.7215 - val_loss: 2.3630 - val_mse: 7.5464 - val_mae: 2.3630\n",
      "Epoch 7/35\n",
      "298/298 [==============================] - 7s 22ms/step - loss: 1.7201 - mse: 6.3917 - mae: 1.7201 - val_loss: 2.2853 - val_mse: 7.1984 - val_mae: 2.2853\n",
      "Epoch 8/35\n",
      "298/298 [==============================] - 6s 22ms/step - loss: 1.7074 - mse: 6.3180 - mae: 1.7074 - val_loss: 2.2816 - val_mse: 7.2546 - val_mae: 2.2816\n",
      "Epoch 9/35\n",
      "298/298 [==============================] - 7s 23ms/step - loss: 1.6872 - mse: 6.2393 - mae: 1.6872 - val_loss: 2.3104 - val_mse: 7.2943 - val_mae: 2.3104\n",
      "Epoch 10/35\n",
      "298/298 [==============================] - 6s 20ms/step - loss: 1.6813 - mse: 6.2311 - mae: 1.6813 - val_loss: 2.4770 - val_mse: 8.0008 - val_mae: 2.4770\n",
      "Epoch 11/35\n",
      "298/298 [==============================] - 7s 22ms/step - loss: 1.6739 - mse: 6.2048 - mae: 1.6739 - val_loss: 2.4722 - val_mse: 7.9794 - val_mae: 2.4722\n",
      "Epoch 12/35\n",
      "298/298 [==============================] - 6s 20ms/step - loss: 1.6606 - mse: 6.1259 - mae: 1.6606 - val_loss: 2.2757 - val_mse: 7.1862 - val_mae: 2.2757\n",
      "Epoch 13/35\n",
      "298/298 [==============================] - 6s 20ms/step - loss: 1.6670 - mse: 6.1339 - mae: 1.6670 - val_loss: 2.1300 - val_mse: 6.7081 - val_mae: 2.1300\n",
      "Epoch 14/35\n",
      "298/298 [==============================] - 6s 19ms/step - loss: 1.6332 - mse: 6.0187 - mae: 1.6332 - val_loss: 2.1632 - val_mse: 6.8122 - val_mae: 2.1632\n",
      "Epoch 15/35\n",
      "298/298 [==============================] - 6s 21ms/step - loss: 1.6441 - mse: 6.0563 - mae: 1.6441 - val_loss: 2.0101 - val_mse: 6.4334 - val_mae: 2.0101\n",
      "Epoch 16/35\n",
      "298/298 [==============================] - 7s 23ms/step - loss: 1.6260 - mse: 5.9822 - mae: 1.6260 - val_loss: 2.1317 - val_mse: 6.7220 - val_mae: 2.1317\n",
      "Epoch 17/35\n",
      "298/298 [==============================] - 7s 23ms/step - loss: 1.6162 - mse: 5.9466 - mae: 1.6162 - val_loss: 2.1248 - val_mse: 6.6861 - val_mae: 2.1248\n",
      "Epoch 18/35\n",
      "298/298 [==============================] - 7s 24ms/step - loss: 1.6130 - mse: 5.9146 - mae: 1.6130 - val_loss: 2.1968 - val_mse: 6.9539 - val_mae: 2.1968\n",
      "Epoch 19/35\n",
      "298/298 [==============================] - 7s 22ms/step - loss: 1.6189 - mse: 5.9568 - mae: 1.6189 - val_loss: 2.0796 - val_mse: 6.5631 - val_mae: 2.0796\n",
      "Epoch 20/35\n",
      "298/298 [==============================] - 6s 19ms/step - loss: 1.6273 - mse: 5.9652 - mae: 1.6273 - val_loss: 2.1552 - val_mse: 6.8180 - val_mae: 2.1552\n",
      "Epoch 21/35\n",
      "298/298 [==============================] - 6s 19ms/step - loss: 1.6145 - mse: 5.9129 - mae: 1.6145 - val_loss: 2.1943 - val_mse: 6.8604 - val_mae: 2.1943\n",
      "Epoch 22/35\n",
      "298/298 [==============================] - 6s 19ms/step - loss: 1.5922 - mse: 5.8556 - mae: 1.5922 - val_loss: 2.1201 - val_mse: 6.6805 - val_mae: 2.1201\n",
      "Epoch 23/35\n",
      "298/298 [==============================] - 6s 21ms/step - loss: 1.5993 - mse: 5.8044 - mae: 1.5993 - val_loss: 1.8488 - val_mse: 6.1156 - val_mae: 1.8488\n",
      "Epoch 24/35\n",
      "298/298 [==============================] - 6s 20ms/step - loss: 1.5907 - mse: 5.7849 - mae: 1.5907 - val_loss: 2.0698 - val_mse: 6.5628 - val_mae: 2.0698\n",
      "Epoch 25/35\n",
      "298/298 [==============================] - 7s 23ms/step - loss: 1.5888 - mse: 5.7998 - mae: 1.5888 - val_loss: 2.1841 - val_mse: 6.8331 - val_mae: 2.1841\n",
      "Epoch 26/35\n",
      "298/298 [==============================] - 6s 22ms/step - loss: 1.5768 - mse: 5.7393 - mae: 1.5768 - val_loss: 2.1817 - val_mse: 6.8267 - val_mae: 2.1817\n",
      "Epoch 27/35\n",
      "298/298 [==============================] - 6s 21ms/step - loss: 1.5900 - mse: 5.7681 - mae: 1.5900 - val_loss: 2.1603 - val_mse: 6.7796 - val_mae: 2.1603\n",
      "Epoch 28/35\n",
      "298/298 [==============================] - 7s 22ms/step - loss: 1.5601 - mse: 5.6853 - mae: 1.5601 - val_loss: 2.0088 - val_mse: 6.4045 - val_mae: 2.0088\n",
      "Epoch 29/35\n",
      "298/298 [==============================] - 6s 21ms/step - loss: 1.5727 - mse: 5.6858 - mae: 1.5727 - val_loss: 2.1055 - val_mse: 6.5908 - val_mae: 2.1055\n",
      "Epoch 30/35\n",
      "298/298 [==============================] - 6s 21ms/step - loss: 1.5572 - mse: 5.6158 - mae: 1.5572 - val_loss: 1.9410 - val_mse: 6.2063 - val_mae: 1.9410\n",
      "Epoch 31/35\n",
      "298/298 [==============================] - 6s 21ms/step - loss: 1.5520 - mse: 5.5939 - mae: 1.5520 - val_loss: 2.0128 - val_mse: 6.4393 - val_mae: 2.0128\n",
      "Epoch 32/35\n",
      "298/298 [==============================] - 6s 20ms/step - loss: 1.5542 - mse: 5.6353 - mae: 1.5542 - val_loss: 2.5969 - val_mse: 8.5107 - val_mae: 2.5969\n",
      "Epoch 33/35\n",
      "298/298 [==============================] - 6s 20ms/step - loss: 1.5486 - mse: 5.5775 - mae: 1.5486 - val_loss: 2.0583 - val_mse: 6.4570 - val_mae: 2.0583\n",
      "Epoch 34/35\n",
      "298/298 [==============================] - 5s 18ms/step - loss: 1.5518 - mse: 5.5995 - mae: 1.5518 - val_loss: 2.0851 - val_mse: 6.5370 - val_mae: 2.0851\n",
      "Epoch 35/35\n",
      "298/298 [==============================] - 6s 20ms/step - loss: 1.5444 - mse: 5.5571 - mae: 1.5444 - val_loss: 2.3137 - val_mse: 7.2893 - val_mae: 2.3137\n"
     ]
    }
   ],
   "source": [
    "dpt_model_hist = dpt_model.fit(x_train_pad,y_train,\n",
    "                   epochs=35, \n",
    "                   batch_size=64,              \n",
    "                   validation_data=(x_val_pad, y_val)) "
   ]
  },
  {
   "cell_type": "code",
   "execution_count": 103,
   "id": "795cede9",
   "metadata": {},
   "outputs": [
    {
     "data": {
      "image/png": "[encoded data removed]",
      "text/plain": [
       "<Figure size 432x288 with 1 Axes>"
      ]
     },
     "metadata": {
      "needs_background": "light"
     },
     "output_type": "display_data"
    },
    {
     "data": {
      "image/png": "[encoded data removed]",
      "text/plain": [
       "<Figure size 432x288 with 1 Axes>"
      ]
     },
     "metadata": {
      "needs_background": "light"
     },
     "output_type": "display_data"
    }
   ],
   "source": [
    "#grafico \n",
    "plot_graphs(dpt_model_hist, \"mse\") \n",
    "plot_graphs(dpt_model_hist, \"mae\") "
   ]
  },
  {
   "cell_type": "code",
   "execution_count": 104,
   "id": "f46a8112",
   "metadata": {},
   "outputs": [
    {
     "name": "stdout",
     "output_type": "stream",
     "text": [
      "596/596 [==============================] - 3s 5ms/step - loss: 2.0999 - mse: 6.1134 - mae: 2.0999\n"
     ]
    }
   ],
   "source": [
    "evaluate_train = dpt_model.evaluate(x_train_pad, y_train)"
   ]
  },
  {
   "cell_type": "code",
   "execution_count": 105,
   "id": "79397fa6",
   "metadata": {},
   "outputs": [
    {
     "name": "stdout",
     "output_type": "stream",
     "text": [
      "256/256 [==============================] - 1s 5ms/step - loss: 2.3137 - mse: 7.2893 - mae: 2.3137\n"
     ]
    }
   ],
   "source": [
    "evaluate_validation = dpt_model.evaluate(x_val_pad, y_val)"
   ]
  },
  {
   "cell_type": "code",
   "execution_count": 106,
   "id": "43da99aa",
   "metadata": {},
   "outputs": [
    {
     "name": "stdout",
     "output_type": "stream",
     "text": [
      "95/95 [==============================] - 1s 6ms/step - loss: 2.3055 - mse: 7.1620 - mae: 2.3055\n"
     ]
    }
   ],
   "source": [
    "evaluate_test = dpt_model.evaluate(x_test_pad, y_test)"
   ]
  },
  {
   "cell_type": "code",
   "execution_count": 217,
   "id": "22375442",
   "metadata": {},
   "outputs": [
    {
     "data": {
      "image/png": "[encoded data removed]",
      "text/plain": [
       "<Figure size 432x288 with 1 Axes>"
      ]
     },
     "metadata": {
      "needs_background": "light"
     },
     "output_type": "display_data"
    }
   ],
   "source": [
    "dpt_model_val_loss = dpt_model_hist.history['val_loss']\n",
    "\n",
    "plt.plot(epochs, original_val_loss, 'b+', label='Original model')\n",
    "plt.plot(epochs, dpt_model_val_loss, 'bo', label='Dropout-regularized model')\n",
    "plt.xlabel('Epochs')\n",
    "plt.ylabel('Validation loss')\n",
    "plt.legend()\n",
    "\n",
    "3333plt.show()"
   ]
  },
  {
   "cell_type": "code",
   "execution_count": null,
   "id": "226bc454",
   "metadata": {},
   "outputs": [],
   "source": []
  }
 ],
 "metadata": {
  "kernelspec": {
   "display_name": "Python 3",
   "language": "python",
   "name": "python3"
  },
  "language_info": {
   "codemirror_mode": {
    "name": "ipython",
    "version": 3
   },
   "file_extension": ".py",
   "mimetype": "text/x-python",
   "name": "python",
   "nbconvert_exporter": "python",
   "pygments_lexer": "ipython3",
   "version": "3.8.8"
  }
 },
 "nbformat": 4,
 "nbformat_minor": 5
}
